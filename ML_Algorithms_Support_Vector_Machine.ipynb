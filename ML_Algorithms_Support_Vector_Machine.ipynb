{
  "nbformat": 4,
  "nbformat_minor": 0,
  "metadata": {
    "colab": {
      "provenance": [],
      "authorship_tag": "ABX9TyOL1BthZ/lqkG4jlpR+NPvw",
      "include_colab_link": true
    },
    "kernelspec": {
      "name": "python3",
      "display_name": "Python 3"
    },
    "language_info": {
      "name": "python"
    }
  },
  "cells": [
    {
      "cell_type": "markdown",
      "metadata": {
        "id": "view-in-github",
        "colab_type": "text"
      },
      "source": [
        "<a href=\"https://colab.research.google.com/github/Followb1ind1y/Machine_Learning_Algorithms/blob/main/ML_Algorithms_Support_Vector_Machine.ipynb\" target=\"_parent\"><img src=\"https://colab.research.google.com/assets/colab-badge.svg\" alt=\"Open In Colab\"/></a>"
      ]
    },
    {
      "cell_type": "markdown",
      "source": [
        "# **Machine Learning Algorithms: Support Vector Machine**"
      ],
      "metadata": {
        "id": "hV4OcOsMW6XX"
      }
    },
    {
      "cell_type": "markdown",
      "source": [
        "### **Support Vector Machine Basics**\n",
        "\n",
        "**Support Vector Machine(SVM)** is a **supervised** machine learning algorithm which can be used for both **classification** or **regression** challenges. **Support Vectors** are data points that are **nearest to the hyperplane**. It influences the position and orientation of the hyperplane. Removing the support vectors will alter the position of the hyperplane. \n",
        "\n",
        "The **goal** is to learn a hyperplane that discriminates between classes; we find a decision boundary which maximum separation between two classes. **Margin** is the distance between the hyperplane and the closest points.\n",
        "\n",
        "* **Hard Margin:** Classes are **linear separable**. We find a hyperplane with margin that maximally separates the two classes.\n",
        "\n",
        "* **Soft Margin:** Classes are **not linear separable**. We allow error (slack) in the model fitting and find a decision boundary with the minimum slack required to discriminate between two classes.\n",
        "\n",
        "* **Kernel Methods:** Classes are **not linear separable**. Converts a low-dimensional input space into a higher-dimensional space. Mapping the data into a new feature space. The data will be linearly separable in the. new space."
      ],
      "metadata": {
        "id": "-lm_skTeXqsB"
      }
    },
    {
      "cell_type": "markdown",
      "source": [
        "### **Hard Margin SVM**\n",
        "\n",
        "If the data is **linear separable**, there exist an infinite number of hyperplanes that can separate the two classes. The algorithm looks for the **best hyperplane**; the one with **largest margin**.\n",
        "\n",
        "* Hyperplane separating the two classes: $\\beta^{T}x+\\beta_{0}=0$\n",
        "* Set the labels: $y_{i}\\in\\{-1,1\\}$\n",
        "* We can classify points as $\\mathrm{sign}\\{d_{i}\\}$ where $d_{i} = \\beta^{T}x_{i}+\\beta_{0}$\n"
      ],
      "metadata": {
        "id": "qxBF80KDim_w"
      }
    },
    {
      "cell_type": "markdown",
      "source": [
        "**Goal:** Maximize the Magin:\n",
        "$$\n",
        "\\mathrm{Margin} = \\min\\{y_{i}d_{i}\\}, \\ \\ \\ \\ i=1,2,3,...,n \\\\\n",
        "$$"
      ],
      "metadata": {
        "id": "Cwj6f-jKlbZu"
      }
    },
    {
      "cell_type": "markdown",
      "source": [
        "The Maximize Magin problem can be reduced to:\n",
        "\n",
        "$$\n",
        "\\min_{\\beta,\\beta_{0}}\\frac{1}{2}{\\parallel\\beta\\parallel}^{2} \\\\\n",
        "\\mathrm{Subject \\ to} \\ y_{i}(\\beta^{T}x_{i}+\\beta_{0}) \\geq 1, i =1,2,...,n\n",
        "$$"
      ],
      "metadata": {
        "id": "SEY-ef4TlkF5"
      }
    },
    {
      "cell_type": "markdown",
      "source": [
        "From the **Lagrangian Method**, we can have:\n",
        "\n",
        "$$\n",
        "\\begin{align*}\n",
        "L_{p}&=\\frac{1}{2}{\\parallel\\beta\\parallel}^{2}-\\sum_{i=1}^{n}\\alpha_{i}[ y_{i}(\\beta^{T}x_{i}+\\beta_{0})-1] \\\\\n",
        "&= \\frac{1}{2}\\beta^{T}\\beta - \\beta^{T}\\sum_{i=1}^{n}\\alpha_{i}y_{i}x_{i}-\\beta_{0}\\sum_{i=1}^{n}\\alpha_{i}y_{i}+\\sum_{i=1}^{n}\\alpha_{i}\n",
        "\\end{align*}\n",
        "$$"
      ],
      "metadata": {
        "id": "kWfNPfhinCFI"
      }
    },
    {
      "cell_type": "markdown",
      "source": [
        "Our **primal optimization problem** with the Lagrangian becomes the following: \n",
        "\n",
        "$$\n",
        "\\min_{\\beta,\\beta_{0}}(\\max_{\\alpha_{i}}L(\\beta,\\beta_{0},\\alpha))\n",
        "$$"
      ],
      "metadata": {
        "id": "QkViy-HBnJSt"
      }
    },
    {
      "cell_type": "markdown",
      "source": [
        "The optimization function and the constraints meet some technical conditions such that we can do the following:\n",
        "\n",
        "$$\n",
        "\\min_{\\beta,\\beta_{0}}(\\max_{\\alpha_{i}}L(\\beta,\\beta_{0},\\alpha))=\\max_{\\alpha_{i}}(\\min_{\\beta,\\beta_{0}}L(\\beta,\\beta_{0},\\alpha))\n",
        "$$"
      ],
      "metadata": {
        "id": "S49ZjBXOnTlJ"
      }
    },
    {
      "cell_type": "markdown",
      "source": [
        "This allows us to take the partial derivatives of $L(\\beta,\\beta_{0},\\alpha)$ with respect to $\\beta$ and $\\beta_{0}$, equate to zero and then plug the results back into the original equation of the Lagrangian, hence generating an equivalent **dual** optimization problem of the form\n",
        "\n",
        "$$\n",
        "\\begin{align*}\n",
        "&\\max_{\\alpha_{i}}(\\min_{\\beta,\\beta_{0}}L(\\beta,\\beta_{0},\\alpha)) \\\\\n",
        "&\\max_{\\alpha_{i}}\\sum_{i=1}^{n}\\alpha_{i} - \\frac{1}{2}\\sum_{i=1}^{n}\\sum_{j=1}^{n}\\alpha_{i}\\alpha_{j}y_{i}y_{j}<x_{i},x_{j}> \\\\\n",
        "&\\mathrm{s.t.} \\ \\alpha_{i} \\geq 0 \\\\\n",
        "&\\mathrm{s.t.} \\ \\sum_{i=1}^{n}\\alpha_{i}y_{i}=0\n",
        "\\end{align*}\n",
        "$$"
      ],
      "metadata": {
        "id": "wygmeeR7nW_i"
      }
    },
    {
      "cell_type": "markdown",
      "source": [
        "From the complementary slackness (**KKT Conditions**), we have \n",
        "\n",
        "$$\\alpha_{i}^{\\star}g(x^{\\star})=\\alpha_{i}^{\\star}[y_{i}(\\beta^{T}x_{i}+\\beta_{0})-1] = 0$$\n",
        "\n",
        "* if $\\alpha_{i}^{\\star} > 0$, then $y_{i}(\\beta^{T}x_{i}+\\beta_{0})-1 = 0$, i.e. $x_{i}$ is on the margin. This point is called **support vector**.\n",
        "* if $y_{i}(\\beta^{T}x_{i}+\\beta_{0}) > 1$, $x_{i}$ is not on the margin, and $\\alpha_{i}^{⋆}=0$\n",
        "\n",
        "This is a convex optimization and can be solved by quadratic programming. "
      ],
      "metadata": {
        "id": "FGZTYakwnxVe"
      }
    },
    {
      "cell_type": "markdown",
      "source": [
        "### **Soft Margin SVM**\n",
        "\n",
        "Having a dataset with linear separable classes is very unlikely in practice, so we remove this requirement. We now consider a dataset where both classes overlap such that no hyperplane exists that can completely seperate the two classes on the training data. Instead, the **goal** becomes to find a hyperplane which **minimizes the amount of datapoints that \"spill\" over to the opposite sides**.\n",
        "\n",
        "We allow points to violate our previous constraint by some error $\\zeta$, but penalize the objective function the more it is violated. Our new optimization problem becomes:\n",
        "\n",
        "$$\n",
        "\\min_{\\beta,\\beta_{0}}\\frac{1}{2}{\\parallel\\beta\\parallel}^{2}+\\gamma\\sum_{i=1}^{n}\\zeta_{i} \\\\\n",
        "\\mathrm{Subject \\ to} \\ y_{i}(\\beta^{T}x_{i}+\\beta_{0}) \\geq 1-\\zeta_{i}, \\forall i \\\\\n",
        "\\zeta_{i} \\geq 0, \\forall i\n",
        "$$"
      ],
      "metadata": {
        "id": "ZV0HkWhHoAhz"
      }
    },
    {
      "cell_type": "markdown",
      "source": [
        "We formulate the **lagrangian function**:\n",
        "\n",
        "$$\n",
        "L(\\beta_{0},\\beta,\\alpha,\\zeta,\\lambda)=\\frac{1}{2}{\\parallel\\beta\\parallel}^{2}+\\gamma\\sum_{i=1}^{n}\\zeta_{i}-\\sum_{i=1}^{n}\\alpha_{i}[y_{i}(\\beta^{T}x_{i}+\\beta_{0})-(1-\\zeta_{i})] - \\sum_{i=1}^{n}\\lambda_{i}\\zeta_{i}\n",
        "$$"
      ],
      "metadata": {
        "id": "N4SznXM6oyDH"
      }
    },
    {
      "cell_type": "markdown",
      "source": [
        "$$\n",
        "\\begin{align*}\n",
        "\\max\\sum_{i=1}^{n}\\alpha_{i} - &\\frac{1}{2}\\sum_{i=1}^{n}\\sum_{j=1}^{n}\\alpha_{i}\\alpha_{j}y_{i}y_{j}<x_{i},{T}x_{j}> \\\\\n",
        "&s.t. \\ 0 \\leq \\alpha_{i} \\leq \\gamma \\\\\n",
        "&s.t. \\ 0 \\sum_{i=1}^{n}\\alpha_{i}y_{i}=0 \\\\\n",
        "\\end{align*}\n",
        "$$"
      ],
      "metadata": {
        "id": "VzEgpw25o-rk"
      }
    },
    {
      "cell_type": "markdown",
      "source": [
        "From the complementary slackness (**KKT Conditions**), we have \n",
        "\n",
        "$$\n",
        "\\alpha_{i}g(x^{⋆})=\\alpha_{i}[y_{i}(\\beta^{T}x_{i}+\\beta_{0})-(1-\\zeta_{i})] = 0, \\\\\n",
        "\\lambda_{i}\\zeta_{i}=0\n",
        "$$\n",
        "\n",
        "* if $\\alpha_{i}^{⋆} > 0$, then $y_{i}(\\beta^{T}x_{i}+\\beta_{0}) = 1-\\zeta_{i}$, $x_{i}$ is a **support vector**.\n",
        "    * $\\lambda_{i}>0$, then $\\zeta_{i}=0$. This point is on the margin. We know that $\\gamma - \\alpha_{i}^{⋆} - \\lambda_{i} = 0 \\Rightarrow \\alpha_{i}^{⋆} < \\gamma$ \n",
        "    * $\\zeta_{i}>0$, then $\\lambda_{i}=0$. This point is over the margin.\n",
        "    \n",
        "* if $\\alpha_{i}^{\\star}=0$, then this point is NOT **support vector**.\n",
        "$$\n",
        "y_{i}(\\beta^{T}x_{i}+\\beta_{0})-(1-\\zeta_{i})> 0 \\\\\n",
        "y_{i}(\\beta^{T}x_{i}+\\beta_{0})> 1-\\zeta_{i} \\\\\n",
        "Since \\ \\gamma - \\alpha_{i}^{⋆} - \\lambda_{i} = 0 \\ and \\ \\alpha_{i}^{\\star}=0 \\\\ \n",
        "\\Rightarrow \\lambda_{i}=\\gamma \\Rightarrow \\zeta_{i}=0 \\\\\n",
        "\\Rightarrow y_{i}(\\beta^{T}x_{i}+\\beta_{0})> 1\\\\\n",
        "$$\n",
        "\n",
        "This is a convex optimization and can be solved by quadratic programming. "
      ],
      "metadata": {
        "id": "JRHXHzDSpM7F"
      }
    },
    {
      "cell_type": "markdown",
      "source": [
        "### **Kernel Methods**\n",
        "\n",
        "**Kernels** or **kernel methods** (also called **Kernel functions**) are sets of different types of algorithms that are being used for pattern analysis. They are used to solve a **non-linear problem** by using a linear classifier. Kernels are a convenient way of **expanding the feature space**. The fact that kernels expand the feature space will not be obvious. The predicted value for a new vector x can be written as:\n",
        "\n",
        "$$\n",
        "\\hat{f}(x) = \\hat{\\beta_{0}}+ \\sum_{i\\in S}\\hat{\\alpha_{i}}y_{i}<x,x_{i}>\n",
        "$$\n",
        "Where\n",
        "\n",
        "* $x_{i}$ is a vector, $y_{i}$ is scalar(+1 or -1), $\\alpha_{i}$ is a scalar.\n",
        "* alpha’s are the Lagrange multipliers arising during optimization\n",
        "* S is the set of support vectors, and\n",
        "* the inner product $<.,.>$ is defined as $<x_{i},x_{i}'> = \\sum_{j=1}^{p}x_{ij}x_{ij}'$\n",
        "\n",
        "Remarkably, the solution depends only on the inner product of the observations, not on the observations themselves."
      ],
      "metadata": {
        "id": "vZlc79GRrWO1"
      }
    },
    {
      "cell_type": "markdown",
      "source": [
        "* **Classical Example**:\n",
        "\n",
        "$$\n",
        "\\begin{align*}\n",
        "<\\phi(x),\\phi(x')> &= (x^{2}_{1},x^{2}_{2}\\sqrt{2}x_{1}x_{2})(x'^{2}_{1},x'^{2}_{2}\\sqrt{2}x'_{1}x'_{2})^{T} \\\\\n",
        "&= ((x_{1},x_{2}),(x'_{1},x'_{2})^{T})^{2} \\\\\n",
        "&= <x,x'> \\\\\n",
        "&=: K(x,x') \\\\\n",
        "\\end{align*}\n",
        "$$"
      ],
      "metadata": {
        "id": "H-aM0Q1PuH3k"
      }
    },
    {
      "cell_type": "markdown",
      "source": [
        "* **Linear Kernel**\n",
        "\n",
        "$$\n",
        "K(x_{i},x_{i}') = \\ <x_{i},x_{i}'> \\ = \\sum_{j=1}^{d}x_{ij}x_{i'j}\n",
        "$$\n",
        "\n",
        "* No additional tuning parameters\n",
        "* Nonlinear kernels have more flexibility, but this is not always needed"
      ],
      "metadata": {
        "id": "J3DAMYUyuWZ_"
      }
    },
    {
      "cell_type": "markdown",
      "source": [
        "* **Polynomial Kernel**\n",
        "\n",
        "$$\n",
        "K(x_{i},x_{i}') = (1+ <x_{i},x_{i}'>)^{p} = (\\beta_{0}+ \\gamma\\sum_{j=1}^{d}x_{ij}x_{i'j})^{p}\n",
        "$$\n",
        "\n",
        "* A polynomial kernel of order $d=2$ corresponds to adding all possible quadratic variables\n",
        "* $\\beta_{0}, \\gamma>0$ and $d$ (>0, integer) are tuning parameters\n",
        "* In practice, often $\\beta_{0}=0$, $d=2$ or $d=3$ are often sufficient. Set $d=2$ or $d=3$ and tune gamma and $C$"
      ],
      "metadata": {
        "id": "E01Ax6Nvuwj6"
      }
    },
    {
      "cell_type": "markdown",
      "source": [
        "* **Radial Basis function (RBF) Kernel (or Gaussian Kernel)**\n",
        "\n",
        "$$\n",
        "K(x_{i},x_{i}') = \\exp(-\\gamma\\parallel x_{i}-x_{i}'\\parallel^{2}) = \\exp(-\\gamma\\sum_{j=1}^{d}(x_{ij}x_{i'j})^{2})\n",
        "$$\n",
        "\n",
        "* $\\gamma>0$ is a tuning parameter\n",
        "* The kernel is very small for points far apart\n",
        "* Most popular choice\n",
        "* It can be shown this kernel corresponds to an infinite number of $x$‐variables"
      ],
      "metadata": {
        "id": "tlLFc4f7u1b7"
      }
    },
    {
      "cell_type": "markdown",
      "source": [
        "### **Dataset Initialization**"
      ],
      "metadata": {
        "id": "b9rxLwN8ArFw"
      }
    },
    {
      "cell_type": "code",
      "source": [
        "import numpy as np\n",
        "import matplotlib.pyplot as plt\n",
        "from sklearn.model_selection import train_test_split"
      ],
      "metadata": {
        "id": "nKXd5HJMW7-o"
      },
      "execution_count": 134,
      "outputs": []
    },
    {
      "cell_type": "code",
      "source": [
        "np.random.seed(0)\n",
        "\n",
        "# Initial linear separable data\n",
        "x_1, x_2 = np.random.rand(50, 1), np.random.rand(50, 1) + 1.1\n",
        "y_1, y_2 = 3 + 3 * x_1 + np.random.rand(50, 1), 3 + 3 * x_1 + np.random.rand(50, 1) \n",
        "class_1, class_2 = np.concatenate((x_1, y_1), axis=1), np.concatenate((x_2, y_2), axis=1)\n",
        "neg_ones, ones = -np.ones((50,1)), np.ones((50,1))\n",
        "x_hard = np.concatenate((class_1, class_2), axis=0)\n",
        "y_hard = np.concatenate((neg_ones, ones), axis=0)\n",
        "\n",
        "# Initial non-linear separable data\n",
        "x_3, x_4 = np.random.rand(50, 1), np.random.rand(50, 1) + 0.75\n",
        "y_3, y_4 = 3 + 3 * x_3 + np.random.rand(50, 1), 3 + 3 * x_3 + np.random.rand(50, 1) \n",
        "class_3, class_4 = np.concatenate((x_3, y_3), axis=1), np.concatenate((x_4, y_4), axis=1)\n",
        "neg_ones, ones = -np.ones((50,1)), np.ones((50,1))\n",
        "x_soft = np.concatenate((class_3, class_4), axis=0)\n",
        "y_soft = np.concatenate((neg_ones, ones), axis=0)"
      ],
      "metadata": {
        "id": "MxTtgUwWAvI4"
      },
      "execution_count": 135,
      "outputs": []
    },
    {
      "cell_type": "code",
      "source": [
        "fig, ax = plt.subplots() \n",
        "ax.scatter(x_1,y_1) \n",
        "ax.scatter(x_2,y_2) \n",
        "ax.set_title('SVM Linear Separable Data')\n",
        "ax.set_xlabel('X1') \n",
        "ax.set_ylabel('X2')"
      ],
      "metadata": {
        "colab": {
          "base_uri": "https://localhost:8080/",
          "height": 313
        },
        "id": "Xvfde47KAxE2",
        "outputId": "49cc26e2-3220-4a4a-f45a-32fe573c2fc1"
      },
      "execution_count": 136,
      "outputs": [
        {
          "output_type": "execute_result",
          "data": {
            "text/plain": [
              "Text(0, 0.5, 'X2')"
            ]
          },
          "metadata": {},
          "execution_count": 136
        },
        {
          "output_type": "display_data",
          "data": {
            "text/plain": [
              "<Figure size 432x288 with 1 Axes>"
            ],
            "image/png": "[encoded data removed]"
          },
          "metadata": {
            "needs_background": "light"
          }
        }
      ]
    },
    {
      "cell_type": "code",
      "source": [
        "x_train_hard, x_test_hard, y_train_hard, y_test_hard = train_test_split(x_hard, y_hard)"
      ],
      "metadata": {
        "id": "-Juqw9DeBaug"
      },
      "execution_count": 137,
      "outputs": []
    },
    {
      "cell_type": "code",
      "source": [
        "fig, ax = plt.subplots() \n",
        "ax.scatter(x_3,y_3) \n",
        "ax.scatter(x_4,y_4) \n",
        "ax.set_title('SVM non-Linear Separable Data')\n",
        "ax.set_xlabel('X3') \n",
        "ax.set_ylabel('X4')"
      ],
      "metadata": {
        "colab": {
          "base_uri": "https://localhost:8080/",
          "height": 313
        },
        "id": "Ou-7J_FJSYXP",
        "outputId": "9e2e7c70-71f5-4b3d-9f22-4b3b1a124a37"
      },
      "execution_count": 138,
      "outputs": [
        {
          "output_type": "execute_result",
          "data": {
            "text/plain": [
              "Text(0, 0.5, 'X4')"
            ]
          },
          "metadata": {},
          "execution_count": 138
        },
        {
          "output_type": "display_data",
          "data": {
            "text/plain": [
              "<Figure size 432x288 with 1 Axes>"
            ],
            "image/png": "[encoded data removed]"
          },
          "metadata": {
            "needs_background": "light"
          }
        }
      ]
    },
    {
      "cell_type": "code",
      "source": [
        "x_train_soft, x_test_soft, y_train_soft, y_test_soft = train_test_split(x_soft, y_soft)"
      ],
      "metadata": {
        "id": "xNfKualhTDgG"
      },
      "execution_count": 139,
      "outputs": []
    },
    {
      "cell_type": "markdown",
      "source": [
        "### **Implementing Support Vector Machine using CVXOPT from scratch**"
      ],
      "metadata": {
        "id": "l3W890Q6A4vr"
      }
    },
    {
      "cell_type": "markdown",
      "source": [
        "        cvxopt.solvers.qp(P, q[, G, h[, A, b[, solver[, initvals]]]])\n",
        "\n",
        "Solves the pair of primal and dual convex quadratic programs\n",
        "\n",
        "$$\n",
        "\\mathrm{Minimize \\ }(\\frac{1}{2})x^{T}Px+q^{T}x \\\\\n",
        "\\mathrm{Subject \\ to \\ } Gx \\leq h, Ax = b\\\\\n",
        "$$\n",
        "\n",
        "and \n",
        "\n",
        "$$\n",
        "\\mathrm{Maximize \\ }-(\\frac{1}{2})(q+G^{T}z+A^{T}y)^{T}P(q+G^{T}z+A^{T}y)-h^{T}z-b^{T}y \\\\\n",
        "\\mathrm{Subject \\ to \\ } q+G^{T}z+A^{T}y \\in \\mathrm{Range}(P), z \\geq 0\\\\\n",
        "$$"
      ],
      "metadata": {
        "id": "unWw4L97vJ4I"
      }
    },
    {
      "cell_type": "markdown",
      "source": [
        "Using CVXOPT library to solve the problem\n",
        "\n",
        "* Create $P$ where $H_{i,j}=y^{(i)}y^{(j)}<x^{(i)}x^{(j)}>$\n",
        "* Calculate $w=\\sum^{m}_{i}y^{(i)}\\alpha_{i}x^{(i)}$\n",
        "* Determine the set of support vectors $S$ by finding the indices such that $\\alpha_{i}>0$\n",
        "* Calculate the intercept term using $b=y^{(s)}−\\sum_{m∈S}\\alpha_{m}y^{(m)}<x^{(m)}x^{(s)}>$\n",
        "* For each new point $x′$ classify according to $y′=sign(w^{T}x′+b)$"
      ],
      "metadata": {
        "id": "ZzXEWM4d00Lf"
      }
    },
    {
      "cell_type": "markdown",
      "source": [
        "* **Hard margin with Linear Separable Data**"
      ],
      "metadata": {
        "id": "R2rVCqXmZSf1"
      }
    },
    {
      "cell_type": "code",
      "source": [
        "from cvxopt import matrix as cvxopt_matrix\n",
        "from cvxopt import solvers as cvxopt_solvers"
      ],
      "metadata": {
        "id": "RPnsEs4HtOfj"
      },
      "execution_count": 140,
      "outputs": []
    },
    {
      "cell_type": "code",
      "source": [
        "class SupportVectorMachineHardMargin:\n",
        "    def __init__(self, tol=1e-4):\n",
        "        self.tol = tol\n",
        "        \n",
        "    def fit(self, x, y):\n",
        "        m = x.shape[0]\n",
        "        X_dash = y * x\n",
        "        H = np.dot(X_dash , X_dash.T)\n",
        "\n",
        "        #Converting into cvxopt format\n",
        "        P = cvxopt_matrix(H)\n",
        "        q = cvxopt_matrix(-np.ones((m, 1)))\n",
        "        G = cvxopt_matrix(-np.eye(m))\n",
        "        h = cvxopt_matrix(np.zeros(m))\n",
        "        A = cvxopt_matrix(y.reshape(1, -1))\n",
        "        b = cvxopt_matrix(np.zeros(1))\n",
        "\n",
        "        #Run solver\n",
        "        sol = cvxopt_solvers.qp(P, q, G, h, A, b)\n",
        "        alphas = np.array(sol['x'])\n",
        "\n",
        "        self.w = np.dot((y*alphas).T,x).reshape(-1,1)\n",
        "        S = (alphas > self.tol).flatten()\n",
        "        self.b = y[S] - np.dot(x[S], self.w)\n",
        "\n",
        "        return self\n",
        "\n",
        "    def predict(self, x):\n",
        "        y_pred = np.dot(x, self.w) + self.b[0]\n",
        "        y_pred[y_pred >= 0] = 1 \n",
        "        y_pred[y_pred < 0] = -1\n",
        "        return y_pred"
      ],
      "metadata": {
        "id": "2OygWYdZAyUI"
      },
      "execution_count": 141,
      "outputs": []
    },
    {
      "cell_type": "code",
      "source": [
        "# Model initialization\n",
        "SVM_Hard_Margin = SupportVectorMachineHardMargin()\n",
        "# Fit the data(train the model)\n",
        "SVM_Hard_Margin.fit(x_train_hard,y_train_hard)\n",
        "y_pred_hard = SVM_Hard_Margin.predict(x_test_hard)\n",
        "test_accuracy = 1 - np.sum(np.abs((y_pred_hard - y_test_hard)/2)) / y_test_hard.shape[0]\n",
        "print('Accuracy Score for Linear Kernel is', test_accuracy)\n",
        "print('w = ',SVM_Hard_Margin.w)\n",
        "print('b = ',SVM_Hard_Margin.b[0])"
      ],
      "metadata": {
        "colab": {
          "base_uri": "https://localhost:8080/"
        },
        "id": "wfR4OC6z2svY",
        "outputId": "7069aa3a-e15e-4638-806a-bc107f8f39fe"
      },
      "execution_count": 142,
      "outputs": [
        {
          "output_type": "stream",
          "name": "stdout",
          "text": [
            "     pcost       dcost       gap    pres   dres\n",
            " 0: -1.6709e+01 -3.7447e+01  3e+02  2e+01  2e+00\n",
            " 1: -2.8284e+01 -3.4841e+01  8e+01  5e+00  6e-01\n",
            " 2: -4.4926e+01 -4.7629e+01  9e+01  4e+00  5e-01\n",
            " 3: -5.1398e+01 -4.8280e+01  5e+01  2e+00  3e-01\n",
            " 4: -3.2865e+01 -4.2682e+01  1e+01  7e-02  8e-03\n",
            " 5: -4.0193e+01 -4.0335e+01  2e-01  8e-04  1e-04\n",
            " 6: -4.0299e+01 -4.0301e+01  2e-03  8e-06  1e-06\n",
            " 7: -4.0301e+01 -4.0301e+01  2e-05  8e-08  1e-08\n",
            "Optimal solution found.\n",
            "Accuracy Score for Linear Kernel is 1.0\n",
            "w =  [[ 8.96586224]\n",
            " [-0.46302203]]\n",
            "b =  [-6.80911859]\n"
          ]
        }
      ]
    },
    {
      "cell_type": "code",
      "source": [
        "# scatter plot points\n",
        "fig, ax = plt.subplots() \n",
        "ax.scatter(x_1,y_1, label='Class 1') \n",
        "ax.scatter(x_2,y_2, label='Class 2') \n",
        "\n",
        "# plot the Decision Boundary\n",
        "beta_1, beta_2 = SVM_Hard_Margin.w\n",
        "beta_0 = SVM_Hard_Margin.b[0]\n",
        "\n",
        "# Calculate the intercept and gradient of the decision boundary.\n",
        "c = -beta_0/beta_2\n",
        "m = -beta_1/beta_2\n",
        "\n",
        "xd = np.array([0, 2])\n",
        "yd = m*xd + c\n",
        "plt.plot(xd, yd, color='red', label='Decision Boundary')\n",
        "ax.set_ylim(3,7)\n",
        "\n",
        "ax.set_title('SVM using cvxopt Linear Separable Data')\n",
        "ax.set_xlabel('X1') \n",
        "ax.set_ylabel('X2')\n",
        "plt.legend()"
      ],
      "metadata": {
        "colab": {
          "base_uri": "https://localhost:8080/",
          "height": 313
        },
        "id": "FkUIjPNg3BU2",
        "outputId": "f6544fa8-1fc3-4ab2-d35e-f2ae48e2ffd1"
      },
      "execution_count": 143,
      "outputs": [
        {
          "output_type": "execute_result",
          "data": {
            "text/plain": [
              "<matplotlib.legend.Legend at 0x7f6b89709280>"
            ]
          },
          "metadata": {},
          "execution_count": 143
        },
        {
          "output_type": "display_data",
          "data": {
            "text/plain": [
              "<Figure size 432x288 with 1 Axes>"
            ],
            "image/png": "[encoded data removed]"
          },
          "metadata": {
            "needs_background": "light"
          }
        }
      ]
    },
    {
      "cell_type": "markdown",
      "source": [
        "* **Soft margin with non-Linear Separable Data**"
      ],
      "metadata": {
        "id": "mLmNX0PtZmBf"
      }
    },
    {
      "cell_type": "code",
      "source": [
        "class SupportVectorMachineSoftMargin:\n",
        "    def __init__(self, tol=1e-4, gamma = 10):\n",
        "        self.tol = tol\n",
        "        self.gamma = gamma\n",
        "        \n",
        "    def fit(self, x, y):\n",
        "        m = x.shape[0]\n",
        "        X_dash = y * x\n",
        "        H = np.dot(X_dash , X_dash.T)\n",
        "\n",
        "        #Converting into cvxopt format\n",
        "        P = cvxopt_matrix(H)\n",
        "        q = cvxopt_matrix(-np.ones((m, 1)))\n",
        "        G = cvxopt_matrix(np.vstack((np.eye(m)*-1,np.eye(m))))\n",
        "        h = cvxopt_matrix(np.hstack((np.zeros(m), np.ones(m) * self.gamma)))\n",
        "        A = cvxopt_matrix(y.reshape(1, -1))\n",
        "        b = cvxopt_matrix(np.zeros(1))\n",
        "\n",
        "        #Run solver\n",
        "        sol = cvxopt_solvers.qp(P, q, G, h, A, b)\n",
        "        alphas = np.array(sol['x'])\n",
        "\n",
        "        self.w = np.dot((y*alphas).T,x).reshape(-1,1)\n",
        "        S = (alphas > self.tol).flatten()\n",
        "        self.b = y[S] - np.dot(x[S], self.w)\n",
        "\n",
        "        return self\n",
        "\n",
        "    def predict(self, x):\n",
        "        y_pred = np.dot(x, self.w) + self.b[0]\n",
        "        y_pred[y_pred >= 0] = 1 \n",
        "        y_pred[y_pred < 0] = -1\n",
        "        return y_pred"
      ],
      "metadata": {
        "id": "J2fRQyRmZq4r"
      },
      "execution_count": 144,
      "outputs": []
    },
    {
      "cell_type": "code",
      "source": [
        "# Model initialization\n",
        "SVM_Soft_Margin = SupportVectorMachineSoftMargin()\n",
        "# Fit the data(train the model)\n",
        "SVM_Soft_Margin.fit(x_train_soft,y_train_soft)\n",
        "y_pred_soft = SVM_Soft_Margin.predict(x_test_soft)\n",
        "test_accuracy = 1 - np.sum(np.abs((y_pred_soft - y_test_soft)/2)) / y_test_soft.shape[0]\n",
        "print('Accuracy Score for Linear Kernel is', test_accuracy)\n",
        "print('w = ',SVM_Soft_Margin.w)\n",
        "print('b = ',SVM_Soft_Margin.b[0])"
      ],
      "metadata": {
        "colab": {
          "base_uri": "https://localhost:8080/"
        },
        "id": "-RbzpdpjaJ4N",
        "outputId": "56323f49-d9be-4dc8-fc77-fa74baaa6a95"
      },
      "execution_count": 145,
      "outputs": [
        {
          "output_type": "stream",
          "name": "stdout",
          "text": [
            "     pcost       dcost       gap    pres   dres\n",
            " 0:  3.0403e+01 -5.0478e+03  1e+04  7e-01  2e-13\n",
            " 1:  1.5674e+02 -1.1261e+03  1e+03  4e-15  1e-13\n",
            " 2: -1.6657e+01 -1.9903e+02  2e+02  2e-16  7e-14\n",
            " 3: -4.6008e+01 -1.4033e+02  9e+01  9e-16  1e-13\n",
            " 4: -6.0683e+01 -1.0515e+02  4e+01  9e-16  8e-14\n",
            " 5: -6.9499e+01 -9.3215e+01  2e+01  1e-14  1e-13\n",
            " 6: -7.6212e+01 -8.2181e+01  6e+00  1e-14  1e-13\n",
            " 7: -7.8174e+01 -7.9516e+01  1e+00  2e-15  1e-13\n",
            " 8: -7.8727e+01 -7.8772e+01  4e-02  4e-15  2e-13\n",
            " 9: -7.8749e+01 -7.8750e+01  4e-04  2e-16  1e-13\n",
            "10: -7.8749e+01 -7.8749e+01  4e-06  2e-15  1e-13\n",
            "Optimal solution found.\n",
            "Accuracy Score for Linear Kernel is 0.92\n",
            "w =  [[ 6.27221564]\n",
            " [-1.77775779]]\n",
            "b =  [4.03928055]\n"
          ]
        }
      ]
    },
    {
      "cell_type": "code",
      "source": [
        "# scatter plot points\n",
        "fig, ax = plt.subplots() \n",
        "ax.scatter(x_3,y_3, label='Class 3') \n",
        "ax.scatter(x_4,y_4, label='Class 4') \n",
        "\n",
        "# plot the Decision Boundary\n",
        "beta_1, beta_2 = SVM_Soft_Margin.w\n",
        "beta_0 = SVM_Soft_Margin.b[0]\n",
        "\n",
        "# Calculate the intercept and gradient of the decision boundary.\n",
        "c = -beta_0/beta_2\n",
        "m = -beta_1/beta_2\n",
        "\n",
        "xd = np.array([0, 2])\n",
        "yd = m*xd + c\n",
        "plt.plot(xd, yd, color='red', label='Decision Boundary')\n",
        "ax.set_ylim(3,7)\n",
        "\n",
        "ax.set_title('SVM using cvxopt non-Linear Separable Data')\n",
        "ax.set_xlabel('X3') \n",
        "ax.set_ylabel('X4')\n",
        "plt.legend()"
      ],
      "metadata": {
        "colab": {
          "base_uri": "https://localhost:8080/",
          "height": 313
        },
        "id": "szzD9XJhaZmN",
        "outputId": "56250887-cf44-4c6f-f41c-c4cde80985e3"
      },
      "execution_count": 146,
      "outputs": [
        {
          "output_type": "execute_result",
          "data": {
            "text/plain": [
              "<matplotlib.legend.Legend at 0x7f6b896417f0>"
            ]
          },
          "metadata": {},
          "execution_count": 146
        },
        {
          "output_type": "display_data",
          "data": {
            "text/plain": [
              "<Figure size 432x288 with 1 Axes>"
            ],
            "image/png": "[encoded data removed]"
          },
          "metadata": {
            "needs_background": "light"
          }
        }
      ]
    },
    {
      "cell_type": "markdown",
      "source": [
        "### **Implementing Support Vector Machine from sklearn**"
      ],
      "metadata": {
        "id": "pVxq9zz8O5Ka"
      }
    },
    {
      "cell_type": "code",
      "source": [
        "from sklearn.svm import SVC\n",
        "from sklearn.metrics import accuracy_score"
      ],
      "metadata": {
        "id": "KU3cyAApOAv6"
      },
      "execution_count": 147,
      "outputs": []
    },
    {
      "cell_type": "code",
      "source": [
        "clf = SVC(C = 10, kernel = 'linear')\n",
        "clf.fit(x_train_hard, y_train_hard.ravel()) \n",
        "y_pred_hard = clf.predict(x_test_hard)\n",
        "print('Accuracy Score for Linear Kernel is', accuracy_score(y_test_hard, y_pred_hard))\n",
        "print('w = ',clf.coef_)\n",
        "print('b = ',clf.intercept_)"
      ],
      "metadata": {
        "colab": {
          "base_uri": "https://localhost:8080/"
        },
        "id": "PckQCZlUPOgp",
        "outputId": "0c847ec6-722a-4218-d51a-b2f051c91009"
      },
      "execution_count": 148,
      "outputs": [
        {
          "output_type": "stream",
          "name": "stdout",
          "text": [
            "Accuracy Score for Linear Kernel is 1.0\n",
            "w =  [[ 7.11154368 -0.5166845 ]]\n",
            "b =  [-4.51812289]\n"
          ]
        }
      ]
    },
    {
      "cell_type": "code",
      "source": [
        "# scatter plot points\n",
        "fig, ax = plt.subplots() \n",
        "ax.scatter(x_1,y_1, label='Class 1') \n",
        "ax.scatter(x_2,y_2, label='Class 2') \n",
        "\n",
        "# plot the Decision Boundary\n",
        "beta_1, beta_2 = clf.coef_[0]\n",
        "beta_0 = clf.intercept_\n",
        "\n",
        "# Calculate the intercept and gradient of the decision boundary.\n",
        "c = -beta_0/beta_2\n",
        "m = -beta_1/beta_2\n",
        "\n",
        "xd = np.array([0, 2])\n",
        "yd = m*xd + c\n",
        "plt.plot(xd, yd, color='red', label='Decision Boundary')\n",
        "ax.set_ylim(3,7)\n",
        "\n",
        "ax.set_title('SVM using sklearn Linear Separable Data')\n",
        "ax.set_xlabel('X1') \n",
        "ax.set_ylabel('X2')\n",
        "plt.legend()"
      ],
      "metadata": {
        "colab": {
          "base_uri": "https://localhost:8080/",
          "height": 313
        },
        "id": "F5mFD4XpPZel",
        "outputId": "0b455caa-09a3-4d47-8cda-26a9b4622b41"
      },
      "execution_count": 149,
      "outputs": [
        {
          "output_type": "execute_result",
          "data": {
            "text/plain": [
              "<matplotlib.legend.Legend at 0x7f6b89599fa0>"
            ]
          },
          "metadata": {},
          "execution_count": 149
        },
        {
          "output_type": "display_data",
          "data": {
            "text/plain": [
              "<Figure size 432x288 with 1 Axes>"
            ],
            "image/png": "[encoded data removed]"
          },
          "metadata": {
            "needs_background": "light"
          }
        }
      ]
    },
    {
      "cell_type": "code",
      "source": [
        "clf = SVC(C = 10, kernel = 'linear')\n",
        "clf.fit(x_train_soft, y_train_soft.ravel()) \n",
        "y_pred_soft = clf.predict(x_test_soft)\n",
        "print('Accuracy Score for Linear Kernel is', accuracy_score(y_test_soft, y_pred_soft))\n",
        "print('w = ',clf.coef_)\n",
        "print('b = ',clf.intercept_)"
      ],
      "metadata": {
        "colab": {
          "base_uri": "https://localhost:8080/"
        },
        "id": "L6uo5rj9Ttcb",
        "outputId": "55f5592a-a3a6-4b97-8cd4-fd95f65b1249"
      },
      "execution_count": 150,
      "outputs": [
        {
          "output_type": "stream",
          "name": "stdout",
          "text": [
            "Accuracy Score for Linear Kernel is 0.92\n",
            "w =  [[ 6.27220957 -1.77777897]]\n",
            "b =  [3.94786869]\n"
          ]
        }
      ]
    },
    {
      "cell_type": "code",
      "source": [
        "# scatter plot points\n",
        "fig, ax = plt.subplots() \n",
        "ax.scatter(x_3,y_3, label='Class 1') \n",
        "ax.scatter(x_4,y_4, label='Class 2') \n",
        "\n",
        "# plot the Decision Boundary\n",
        "beta_1, beta_2 = clf.coef_[0]\n",
        "beta_0 = clf.intercept_\n",
        "\n",
        "# Calculate the intercept and gradient of the decision boundary.\n",
        "c = -beta_0/beta_2\n",
        "m = -beta_1/beta_2\n",
        "\n",
        "xd = np.array([0, 2])\n",
        "yd = m*xd + c\n",
        "plt.plot(xd, yd, color='red', label='Decision Boundary')\n",
        "ax.set_ylim(3,7)\n",
        "\n",
        "ax.set_title('SVM using sklearn non-Linear Separable Data')\n",
        "ax.set_xlabel('X3') \n",
        "ax.set_ylabel('X4')\n",
        "plt.legend()"
      ],
      "metadata": {
        "colab": {
          "base_uri": "https://localhost:8080/",
          "height": 313
        },
        "id": "gtpBfEaYP80g",
        "outputId": "eca4ebc7-bcd1-4dde-abee-fb2757c7c376"
      },
      "execution_count": 151,
      "outputs": [
        {
          "output_type": "execute_result",
          "data": {
            "text/plain": [
              "<matplotlib.legend.Legend at 0x7f6b8957fe20>"
            ]
          },
          "metadata": {},
          "execution_count": 151
        },
        {
          "output_type": "display_data",
          "data": {
            "text/plain": [
              "<Figure size 432x288 with 1 Axes>"
            ],
            "image/png": "[encoded data removed]"
          },
          "metadata": {
            "needs_background": "light"
          }
        }
      ]
    },
    {
      "cell_type": "code",
      "source": [
        "%%shell\n",
        "jupyter nbconvert --to html ML_Algorithms_Support_Vector_Machine.ipynb"
      ],
      "metadata": {
        "colab": {
          "base_uri": "https://localhost:8080/"
        },
        "id": "C_c_JA5eUZdK",
        "outputId": "3a198bc2-4474-4ca2-bceb-2cd60fa87676"
      },
      "execution_count": 152,
      "outputs": [
        {
          "output_type": "stream",
          "name": "stdout",
          "text": [
            "[NbConvertApp] Converting notebook ML_Algorithms_Support_Vector_Machine.ipynb to html\n",
            "[NbConvertApp] Writing 461906 bytes to ML_Algorithms_Support_Vector_Machine.html\n"
          ]
        },
        {
          "output_type": "execute_result",
          "data": {
            "text/plain": []
          },
          "metadata": {},
          "execution_count": 152
        }
      ]
    }
  ]
}