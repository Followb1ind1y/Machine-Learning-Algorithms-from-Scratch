{
  "nbformat": 4,
  "nbformat_minor": 0,
  "metadata": {
    "colab": {
      "provenance": [],
      "authorship_tag": "ABX9TyOIGJ2GWqCvWkgvk87N19jr",
      "include_colab_link": true
    },
    "kernelspec": {
      "name": "python3",
      "display_name": "Python 3"
    },
    "language_info": {
      "name": "python"
    }
  },
  "cells": [
    {
      "cell_type": "markdown",
      "metadata": {
        "id": "view-in-github",
        "colab_type": "text"
      },
      "source": [
        "<a href=\"https://colab.research.google.com/github/Followb1ind1y/Machine_Learning_Algorithms/blob/main/ML_Algorithms_Support_Vector_Machine.ipynb\" target=\"_parent\"><img src=\"https://colab.research.google.com/assets/colab-badge.svg\" alt=\"Open In Colab\"/></a>"
      ]
    },
    {
      "cell_type": "markdown",
      "source": [
        "# **Machine Learning Algorithms: Support Vector Machine**"
      ],
      "metadata": {
        "id": "hV4OcOsMW6XX"
      }
    },
    {
      "cell_type": "markdown",
      "source": [
        "### **Support Vector Machine Basics**\n",
        "\n",
        "**Support Vector Machine(SVM)** is a **supervised** machine learning algorithm which can be used for both **classification** or **regression** challenges. **Support Vectors** are data points that are **nearest to the hyperplane**. It influences the position and orientation of the hyperplane. Removing the support vectors will alter the position of the hyperplane. \n",
        "\n",
        "The **goal** is to learn a hyperplane that discriminates between classes; we find a decision boundary which maximum separation between two classes. **Margin** is the distance between the hyperplane and the closest points.\n",
        "\n",
        "* **Hard Margin:** Classes are **linear separable**. We find a hyperplane with margin that maximally separates the two classes.\n",
        "\n",
        "* **Soft Margin:** Classes are **not linear separable**. We allow error (slack) in the model fitting and find a decision boundary with the minimum slack required to discriminate between two classes.\n",
        "\n",
        "* **Kernel Methods:** Classes are **not linear separable**. Converts a low-dimensional input space into a higher-dimensional space. Mapping the data into a new feature space. The data will be linearly separable in the. new space."
      ],
      "metadata": {
        "id": "-lm_skTeXqsB"
      }
    },
    {
      "cell_type": "markdown",
      "source": [
        "### **Hard Margin SVM**\n",
        "\n",
        "If the data is **linear separable**, there exist an infinite number of hyperplanes that can separate the two classes. The algorithm looks for the **best hyperplane**; the one with **largest margin**.\n",
        "\n",
        "* Hyperplane separating the two classes: $\\beta^{T}x+\\beta_{0}=0$\n",
        "* Set the labels: $y_{i}\\in\\{-1,1\\}$\n",
        "* We can classify points as $\\mathrm{sign}\\{d_{i}\\}$ where $d_{i} = \\beta^{T}x_{i}+\\beta_{0}$\n"
      ],
      "metadata": {
        "id": "qxBF80KDim_w"
      }
    },
    {
      "cell_type": "markdown",
      "source": [
        "**Goal:** Maximize the Magin:\n",
        "$$\n",
        "\\mathrm{Margin} = \\min\\{y_{i}d_{i}\\}, \\ \\ \\ \\ i=1,2,3,...,n \\\\\n",
        "$$"
      ],
      "metadata": {
        "id": "Cwj6f-jKlbZu"
      }
    },
    {
      "cell_type": "markdown",
      "source": [
        "The Maximize Magin problem can be reduced to:\n",
        "\n",
        "$$\n",
        "\\min_{\\beta,\\beta_{0}}\\frac{1}{2}{\\parallel\\beta\\parallel}^{2} \\\\\n",
        "\\mathrm{Subject \\ to} \\ y_{i}(\\beta^{T}x_{i}+\\beta_{0}) \\geq 1, i =1,2,...,n\n",
        "$$"
      ],
      "metadata": {
        "id": "SEY-ef4TlkF5"
      }
    },
    {
      "cell_type": "markdown",
      "source": [
        "From the **Lagrangian Method**, we can have:\n",
        "\n",
        "$$\n",
        "\\begin{align*}\n",
        "L_{p}&=\\frac{1}{2}{\\parallel\\beta\\parallel}^{2}-\\sum_{i=1}^{n}\\alpha_{i}[ y_{i}(\\beta^{T}x_{i}+\\beta_{0})-1] \\\\\n",
        "&= \\frac{1}{2}\\beta^{T}\\beta - \\beta^{T}\\sum_{i=1}^{n}\\alpha_{i}y_{i}x_{i}-\\beta_{0}\\sum_{i=1}^{n}\\alpha_{i}y_{i}+\\sum_{i=1}^{n}\\alpha_{i}\n",
        "\\end{align*}\n",
        "$$"
      ],
      "metadata": {
        "id": "kWfNPfhinCFI"
      }
    },
    {
      "cell_type": "markdown",
      "source": [
        "Our **primal optimization problem** with the Lagrangian becomes the following: \n",
        "\n",
        "$$\n",
        "\\min_{\\beta,\\beta_{0}}(\\max_{\\alpha_{i}}L(\\beta,\\beta_{0},\\alpha))\n",
        "$$"
      ],
      "metadata": {
        "id": "QkViy-HBnJSt"
      }
    },
    {
      "cell_type": "markdown",
      "source": [
        "The optimization function and the constraints meet some technical conditions such that we can do the following:\n",
        "\n",
        "$$\n",
        "\\min_{\\beta,\\beta_{0}}(\\max_{\\alpha_{i}}L(\\beta,\\beta_{0},\\alpha))=\\max_{\\alpha_{i}}(\\min_{\\beta,\\beta_{0}}L(\\beta,\\beta_{0},\\alpha))\n",
        "$$"
      ],
      "metadata": {
        "id": "S49ZjBXOnTlJ"
      }
    },
    {
      "cell_type": "markdown",
      "source": [
        "This allows us to take the partial derivatives of $L(\\beta,\\beta_{0},\\alpha)$ with respect to $\\beta$ and $\\beta_{0}$, equate to zero and then plug the results back into the original equation of the Lagrangian, hence generating an equivalent **dual** optimization problem of the form\n",
        "\n",
        "$$\n",
        "\\begin{align*}\n",
        "&\\max_{\\alpha_{i}}(\\min_{\\beta,\\beta_{0}}L(\\beta,\\beta_{0},\\alpha)) \\\\\n",
        "&\\max_{\\alpha_{i}}\\sum_{i=1}^{n}\\alpha_{i} - \\frac{1}{2}\\sum_{i=1}^{n}\\sum_{j=1}^{n}\\alpha_{i}\\alpha_{j}y_{i}y_{j}<x_{i},x_{j}> \\\\\n",
        "&\\mathrm{s.t.} \\ \\alpha_{i} \\geq 0 \\\\\n",
        "&\\mathrm{s.t.} \\ \\sum_{i=1}^{n}\\alpha_{i}y_{i}=0\n",
        "\\end{align*}\n",
        "$$"
      ],
      "metadata": {
        "id": "wygmeeR7nW_i"
      }
    },
    {
      "cell_type": "markdown",
      "source": [
        "From the complementary slackness (**KKT Conditions**), we have \n",
        "\n",
        "$$\\alpha_{i}^{\\star}g(x^{\\star})=\\alpha_{i}^{\\star}[y_{i}(\\beta^{T}x_{i}+\\beta_{0})-1] = 0$$\n",
        "\n",
        "* if $\\alpha_{i}^{\\star} > 0$, then $y_{i}(\\beta^{T}x_{i}+\\beta_{0})-1 = 0$, i.e. $x_{i}$ is on the margin. This point is called **support vector**.\n",
        "* if $y_{i}(\\beta^{T}x_{i}+\\beta_{0}) > 1$, $x_{i}$ is not on the margin, and $\\alpha_{i}^{⋆}=0$\n",
        "\n",
        "This is a convex optimization and can be solved by quadratic programming. "
      ],
      "metadata": {
        "id": "FGZTYakwnxVe"
      }
    },
    {
      "cell_type": "markdown",
      "source": [
        "### **Soft Margin SVM**\n",
        "\n",
        "Having a dataset with linear separable classes is very unlikely in practice, so we remove this requirement. We now consider a dataset where both classes overlap such that no hyperplane exists that can completely seperate the two classes on the training data. Instead, the **goal** becomes to find a hyperplane which **minimizes the amount of datapoints that \"spill\" over to the opposite sides**.\n",
        "\n",
        "We allow points to violate our previous constraint by some error $\\zeta$, but penalize the objective function the more it is violated. Our new optimization problem becomes:\n",
        "\n",
        "$$\n",
        "\\min_{\\beta,\\beta_{0}}\\frac{1}{2}{\\parallel\\beta\\parallel}^{2}+\\gamma\\sum_{i=1}^{n}\\zeta_{i} \\\\\n",
        "\\mathrm{Subject \\ to} \\ y_{i}(\\beta^{T}x_{i}+\\beta_{0}) \\geq 1-\\zeta_{i}, \\forall i \\\\\n",
        "\\zeta_{i} \\geq 0, \\forall i\n",
        "$$"
      ],
      "metadata": {
        "id": "ZV0HkWhHoAhz"
      }
    },
    {
      "cell_type": "markdown",
      "source": [
        "We formulate the **lagrangian function**:\n",
        "\n",
        "$$\n",
        "L(\\beta_{0},\\beta,\\alpha,\\zeta,\\lambda)=\\frac{1}{2}{\\parallel\\beta\\parallel}^{2}+\\gamma\\sum_{i=1}^{n}\\zeta_{i}-\\sum_{i=1}^{n}\\alpha_{i}[y_{i}(\\beta^{T}x_{i}+\\beta_{0})-(1-\\zeta_{i})] - \\sum_{i=1}^{n}\\lambda_{i}\\zeta_{i}\n",
        "$$"
      ],
      "metadata": {
        "id": "N4SznXM6oyDH"
      }
    },
    {
      "cell_type": "markdown",
      "source": [
        "$$\n",
        "\\begin{align*}\n",
        "\\max\\sum_{i=1}^{n}\\alpha_{i} - &\\frac{1}{2}\\sum_{i=1}^{n}\\sum_{j=1}^{n}\\alpha_{i}\\alpha_{j}y_{i}y_{j}<x_{i},{T}x_{j}> \\\\\n",
        "&s.t. \\ 0 \\leq \\alpha_{i} \\leq \\gamma \\\\\n",
        "&s.t. \\ 0 \\sum_{i=1}^{n}\\alpha_{i}y_{i}=0 \\\\\n",
        "\\end{align*}\n",
        "$$"
      ],
      "metadata": {
        "id": "VzEgpw25o-rk"
      }
    },
    {
      "cell_type": "markdown",
      "source": [
        "From the complementary slackness (**KKT Conditions**), we have \n",
        "\n",
        "$$\n",
        "\\alpha_{i}g(x^{⋆})=\\alpha_{i}[y_{i}(\\beta^{T}x_{i}+\\beta_{0})-(1-\\zeta_{i})] = 0, \\\\\n",
        "\\lambda_{i}\\zeta_{i}=0\n",
        "$$\n",
        "\n",
        "* if $\\alpha_{i}^{⋆} > 0$, then $y_{i}(\\beta^{T}x_{i}+\\beta_{0}) = 1-\\zeta_{i}$, $x_{i}$ is a **support vector**.\n",
        "    * $\\lambda_{i}>0$, then $\\zeta_{i}=0$. This point is on the margin. We know that $\\gamma - \\alpha_{i}^{⋆} - \\lambda_{i} = 0 \\Rightarrow \\alpha_{i}^{⋆} < \\gamma$ \n",
        "    * $\\zeta_{i}>0$, then $\\lambda_{i}=0$. This point is over the margin.\n",
        "    \n",
        "* if $\\alpha_{i}^{\\star}=0$, then this point is NOT **support vector**.\n",
        "$$\n",
        "y_{i}(\\beta^{T}x_{i}+\\beta_{0})-(1-\\zeta_{i})> 0 \\\\\n",
        "y_{i}(\\beta^{T}x_{i}+\\beta_{0})> 1-\\zeta_{i} \\\\\n",
        "Since \\ \\gamma - \\alpha_{i}^{⋆} - \\lambda_{i} = 0 \\ and \\ \\alpha_{i}^{\\star}=0 \\\\ \n",
        "\\Rightarrow \\lambda_{i}=\\gamma \\Rightarrow \\zeta_{i}=0 \\\\\n",
        "\\Rightarrow y_{i}(\\beta^{T}x_{i}+\\beta_{0})> 1\\\\\n",
        "$$\n",
        "\n",
        "This is a convex optimization and can be solved by quadratic programming. "
      ],
      "metadata": {
        "id": "JRHXHzDSpM7F"
      }
    },
    {
      "cell_type": "markdown",
      "source": [
        "### **Kernel Methods**\n",
        "\n",
        "**Kernels** or **kernel methods** (also called **Kernel functions**) are sets of different types of algorithms that are being used for pattern analysis. They are used to solve a **non-linear problem** by using a linear classifier. Kernels are a convenient way of **expanding the feature space**. The fact that kernels expand the feature space will not be obvious. The predicted value for a new vector x can be written as:\n",
        "\n",
        "$$\n",
        "\\hat{f}(x) = \\hat{\\beta_{0}}+ \\sum_{i\\in S}\\hat{\\alpha_{i}}y_{i}<x,x_{i}>\n",
        "$$\n",
        "Where\n",
        "\n",
        "* $x_{i}$ is a vector, $y_{i}$ is scalar(+1 or -1), $\\alpha_{i}$ is a scalar.\n",
        "* alpha’s are the Lagrange multipliers arising during optimization\n",
        "* S is the set of support vectors, and\n",
        "* the inner product $<.,.>$ is defined as $<x_{i},x_{i}'> = \\sum_{j=1}^{p}x_{ij}x_{ij}'$\n",
        "\n",
        "Remarkably, the solution depends only on the inner product of the observations, not on the observations themselves."
      ],
      "metadata": {
        "id": "vZlc79GRrWO1"
      }
    },
    {
      "cell_type": "markdown",
      "source": [
        "* **Classical Example**:\n",
        "\n",
        "$$\n",
        "\\begin{align*}\n",
        "<\\phi(x),\\phi(x')> &= (x^{2}_{1},x^{2}_{2}\\sqrt{2}x_{1}x_{2})(x'^{2}_{1},x'^{2}_{2}\\sqrt{2}x'_{1}x'_{2})^{T} \\\\\n",
        "&= ((x_{1},x_{2}),(x'_{1},x'_{2})^{T})^{2} \\\\\n",
        "&= <x,x'> \\\\\n",
        "&=: K(x,x') \\\\\n",
        "\\end{align*}\n",
        "$$"
      ],
      "metadata": {
        "id": "H-aM0Q1PuH3k"
      }
    },
    {
      "cell_type": "markdown",
      "source": [
        "* **Linear Kernel**\n",
        "\n",
        "$$\n",
        "K(x_{i},x_{i}') = \\ <x_{i},x_{i}'> \\ = \\sum_{j=1}^{d}x_{ij}x_{i'j}\n",
        "$$\n",
        "\n",
        "* No additional tuning parameters\n",
        "* Nonlinear kernels have more flexibility, but this is not always needed"
      ],
      "metadata": {
        "id": "J3DAMYUyuWZ_"
      }
    },
    {
      "cell_type": "markdown",
      "source": [
        "* **Polynomial Kernel**\n",
        "\n",
        "$$\n",
        "K(x_{i},x_{i}') = (1+ <x_{i},x_{i}'>)^{p} = (\\beta_{0}+ \\gamma\\sum_{j=1}^{d}x_{ij}x_{i'j})^{p}\n",
        "$$\n",
        "\n",
        "* A polynomial kernel of order $d=2$ corresponds to adding all possible quadratic variables\n",
        "* $\\beta_{0}, \\gamma>0$ and $d$ (>0, integer) are tuning parameters\n",
        "* In practice, often $\\beta_{0}=0$, $d=2$ or $d=3$ are often sufficient. Set $d=2$ or $d=3$ and tune gamma and $C$"
      ],
      "metadata": {
        "id": "E01Ax6Nvuwj6"
      }
    },
    {
      "cell_type": "markdown",
      "source": [
        "* **Radial Basis function (RBF) Kernel (or Gaussian Kernel)**\n",
        "\n",
        "$$\n",
        "K(x_{i},x_{i}') = \\exp(-\\gamma\\parallel x_{i}-x_{i}'\\parallel^{2}) = \\exp(-\\gamma\\sum_{j=1}^{d}(x_{ij}x_{i'j})^{2})\n",
        "$$\n",
        "\n",
        "* $\\gamma>0$ is a tuning parameter\n",
        "* The kernel is very small for points far apart\n",
        "* Most popular choice\n",
        "* It can be shown this kernel corresponds to an infinite number of $x$‐variables"
      ],
      "metadata": {
        "id": "tlLFc4f7u1b7"
      }
    },
    {
      "cell_type": "markdown",
      "source": [
        "### **Dataset Initialization**"
      ],
      "metadata": {
        "id": "b9rxLwN8ArFw"
      }
    },
    {
      "cell_type": "code",
      "source": [
        "import numpy as np\n",
        "import matplotlib.pyplot as plt\n",
        "from sklearn.model_selection import train_test_split"
      ],
      "metadata": {
        "id": "nKXd5HJMW7-o"
      },
      "execution_count": 4,
      "outputs": []
    },
    {
      "cell_type": "code",
      "source": [
        "np.random.seed(0)\n",
        "x_1, x_2 = np.random.rand(50, 1), np.random.rand(50, 1) + 0.6\n",
        "y_1, y_2 = 3 + 3 * x_1 + np.random.rand(50, 1), 3 + 3 * x_1 + np.random.rand(50, 1) \n",
        "class_1, class_2 = np.concatenate((x_1, y_1), axis=1), np.concatenate((x_2, y_2), axis=1)\n",
        "zeros, ones = np.zeros((50,1)), np.ones((50,1))\n",
        "x = np.concatenate((class_1, class_2), axis=0)\n",
        "y = np.concatenate((zeros, ones), axis=0)"
      ],
      "metadata": {
        "id": "MxTtgUwWAvI4"
      },
      "execution_count": 15,
      "outputs": []
    },
    {
      "cell_type": "code",
      "source": [
        "fig, ax = plt.subplots() \n",
        "ax.scatter(x_1,y_1) \n",
        "ax.scatter(x_2,y_2) \n",
        "ax.set_title('Logistic Regression Random Data')\n",
        "ax.set_xlabel('X1') \n",
        "ax.set_ylabel('X2')"
      ],
      "metadata": {
        "colab": {
          "base_uri": "https://localhost:8080/",
          "height": 313
        },
        "id": "Xvfde47KAxE2",
        "outputId": "e6ea77c9-db0d-4411-93d4-1233b45769bb"
      },
      "execution_count": 16,
      "outputs": [
        {
          "output_type": "execute_result",
          "data": {
            "text/plain": [
              "Text(0, 0.5, 'X2')"
            ]
          },
          "metadata": {},
          "execution_count": 16
        },
        {
          "output_type": "display_data",
          "data": {
            "text/plain": [
              "<Figure size 432x288 with 1 Axes>"
            ],
            "image/png": "[encoded data removed]"
          },
          "metadata": {
            "needs_background": "light"
          }
        }
      ]
    },
    {
      "cell_type": "code",
      "source": [
        "x_train, x_test, y_train, y_test = train_test_split(x, y)"
      ],
      "metadata": {
        "id": "-Juqw9DeBaug"
      },
      "execution_count": 17,
      "outputs": []
    },
    {
      "cell_type": "markdown",
      "source": [
        "### **Implementing Radial Basis function (RBF) Kernel Support Vector Machine from scratch**"
      ],
      "metadata": {
        "id": "l3W890Q6A4vr"
      }
    },
    {
      "cell_type": "code",
      "source": [],
      "metadata": {
        "id": "2OygWYdZAyUI"
      },
      "execution_count": null,
      "outputs": []
    }
  ]
}