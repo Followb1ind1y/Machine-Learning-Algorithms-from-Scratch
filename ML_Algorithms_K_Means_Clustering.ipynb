{
  "cells": [
    {
      "cell_type": "markdown",
      "metadata": {
        "colab_type": "text",
        "id": "view-in-github"
      },
      "source": [
        "<a href=\"https://colab.research.google.com/github/Followb1ind1y/Machine_Learning_Algorithms/blob/main/ML_Algorithms_K_Means_Clustering.ipynb\" target=\"_parent\"><img src=\"https://colab.research.google.com/assets/colab-badge.svg\" alt=\"Open In Colab\"/></a>"
      ]
    },
    {
      "cell_type": "markdown",
      "metadata": {
        "id": "wbh-2LbCylbL"
      },
      "source": [
        "# **Machine Learning Algorithms: K-Means Clustering**\n",
        "\n"
      ]
    },
    {
      "attachments": {},
      "cell_type": "markdown",
      "metadata": {
        "id": "1S3tqM-WzGDK"
      },
      "source": [
        "## **K-Means Clustering Basics**\n",
        "\n",
        "The **K-means clustering** method is an **unsupervised** machine learning technique used to identify clusters of data objects in a dataset. There are many different types of clustering methods, but K-means is one of the oldest and most approachable. The algorithm searches for a pre-determined number of clusters within an **unlabeled** multidimensional dataset. It accomplishes this using a simple conception of what the optimal clustering looks like:\n",
        "\n",
        "* The **Cluster Center (Centroid)** is the arithmetic mean of all the points belonging to the cluster.\n",
        "* Each point is **closer** to its own cluster center than to other cluster centers."
      ]
    },
    {
      "attachments": {},
      "cell_type": "markdown",
      "metadata": {
        "id": "2d0SiMOB4AMd"
      },
      "source": [
        "## **K-Means Clustering Algorithm**\n",
        "\n",
        "- Step 1: Choose the number of clusters K\n",
        "\n",
        "- Step 2: Select K random points from the data as centroids\n",
        "\n",
        "- Step 3: Assign all the points to the closest cluster centroid\n",
        "\n",
        "- Step 4: Recompute the centroids of newly formed clusters\n",
        "\n",
        "- Step 5: Repeat steps 3 and 4\n"
      ]
    },
    {
      "attachments": {},
      "cell_type": "markdown",
      "metadata": {
        "id": "VaGp6u0y64EW"
      },
      "source": [
        "## **Inertia and Elbow Method**\n",
        "\n",
        "**Inertia** is the **sum of squared distance of samples to their closest cluster center**. We would like this number to be as small as possible. But, if we choose K that is equal to the number of samples we will get inertia=0. This is the smallest inertia value we can achieve, however we miss our goal of clustering the data into the optimal number of clusters.\n",
        "\n",
        "The value of inertia decreases as the number of clusters increase. So we will need to manually pick K while considering the trade-off between the inertia value and the number of clusters. For that, we usually use the **Elbow Method**, and we choose the elbow point in the **inertia graph**. After that point the improvement in the inertia value is not significant.\n",
        "\n",
        "$$\\mathrm{Inertia} = \\sum_{i=1}^{N}(x_{i}-C_{k})^{2}$$"
      ]
    },
    {
      "attachments": {},
      "cell_type": "markdown",
      "metadata": {
        "id": "UyHQdCEx7tPW"
      },
      "source": [
        "## **Dataset Initialization**"
      ]
    },
    {
      "cell_type": "code",
      "execution_count": 4,
      "metadata": {
        "id": "YLWaZYhzyoL8"
      },
      "outputs": [],
      "source": [
        "import numpy as np\n",
        "import matplotlib.pyplot as plt"
      ]
    },
    {
      "cell_type": "code",
      "execution_count": 96,
      "metadata": {
        "id": "Z_4HuHO58hTl"
      },
      "outputs": [],
      "source": [
        "np.random.seed(0)\n",
        "\n",
        "# radius of the circle\n",
        "circle_r = 1\n",
        "\n",
        "# center of the circle (x, y)\n",
        "circle_x_1, circle_y_1 = 1, 3\n",
        "circle_x_2, circle_y_2 = 3, 3\n",
        "circle_x_3, circle_y_3 = 5, 3\n",
        "\n",
        "# random angle\n",
        "alpha_1 = 2 * np.math.pi * np.random.rand(50, 1) \n",
        "alpha_2 = 2 * np.math.pi * np.random.rand(50, 1) \n",
        "alpha_3 = 2 * np.math.pi * np.random.rand(50, 1) \n",
        "\n",
        "# random radius\n",
        "r_1 = circle_r * np.sqrt(np.random.rand(50, 1))\n",
        "r_2 = circle_r * np.sqrt(np.random.rand(50, 1))\n",
        "r_3 = circle_r * np.sqrt(np.random.rand(50, 1))\n",
        "\n",
        "# calculating coordinates\n",
        "x_1, y_1 = r_1 * np.cos(alpha_1) + circle_x_1, r_1 * np.sin(alpha_1) + circle_y_1\n",
        "x_2, y_2 = r_2 * np.cos(alpha_2) + circle_x_2, r_2 * np.sin(alpha_2) + circle_y_2\n",
        "x_3, y_3 = r_3 * np.cos(alpha_3) + circle_x_3, r_3 * np.sin(alpha_3) + circle_y_3"
      ]
    },
    {
      "cell_type": "code",
      "execution_count": 102,
      "metadata": {
        "id": "ixcHy9NV_Ais"
      },
      "outputs": [],
      "source": [
        "class_1, class_2, class_3 = np.concatenate((x_1, y_1), axis=1), np.concatenate((x_2, y_2), axis=1), np.concatenate((x_3, y_3), axis=1)\n",
        "zeros, ones, twos = np.zeros((50,1)), np.ones((50,1)), np.ones((50,1))*2\n",
        "x = np.concatenate((class_1, class_2, class_3), axis=0)\n",
        "y = np.concatenate((zeros, ones, twos), axis=0).ravel()"
      ]
    },
    {
      "cell_type": "code",
      "execution_count": 103,
      "metadata": {
        "colab": {
          "base_uri": "https://localhost:8080/",
          "height": 313
        },
        "id": "-TfQktjU-NTh",
        "outputId": "b074b531-0b0b-4736-a498-2586b4e6abe6"
      },
      "outputs": [
        {
          "data": {
            "text/plain": [
              "Text(0, 0.5, 'Y')"
            ]
          },
          "execution_count": 103,
          "metadata": {},
          "output_type": "execute_result"
        },
        {
          "data": {
            "image/png": "[encoded data removed]",
            "text/plain": [
              "<Figure size 432x288 with 1 Axes>"
            ]
          },
          "metadata": {
            "needs_background": "light"
          },
          "output_type": "display_data"
        }
      ],
      "source": [
        "fig, ax = plt.subplots() \n",
        "ax.scatter(x[:,0][y==0], x[:,1][y==0], c='r')\n",
        "ax.scatter(x[:,0][y==1], x[:,1][y==1], c='b')\n",
        "ax.scatter(x[:,0][y==2], x[:,1][y==2], c='g')\n",
        "ax.set_title('Random Data for KMeans Clustering')\n",
        "ax.set_xlabel('X') \n",
        "ax.set_ylabel('Y')"
      ]
    },
    {
      "attachments": {},
      "cell_type": "markdown",
      "metadata": {
        "id": "fGkNkhKJ_WjT"
      },
      "source": [
        "## **Implementing K-Means Clustering from scratch**"
      ]
    },
    {
      "cell_type": "code",
      "execution_count": 167,
      "metadata": {
        "id": "nGOdmxwt79sp"
      },
      "outputs": [],
      "source": [
        "class KMeansClustering():\n",
        "    def __init__(self, num_clusters=3, max_iterations=100):\n",
        "        self.num_clusters = num_clusters\n",
        "        self.max_iterations = max_iterations\n",
        "    \n",
        "    def initialize_random_centroids(self, x):\n",
        "        centroids = np.zeros((self.num_clusters, x.shape[1]))\n",
        "        for k in range(self.num_clusters): \n",
        "            centroid = x[np.random.choice(range(x.shape[0]))]\n",
        "            centroids[k] = centroid\n",
        "        return centroids\n",
        "    \n",
        "    def create_cluster(self, x, centroids):\n",
        "        clusters = [[] for _ in range(self.num_clusters)]\n",
        "        for i in range(len(x)):\n",
        "            closest_centroid = np.argmin(np.sqrt(np.sum((x[i]-centroids)**2, axis=1))) \n",
        "            clusters[closest_centroid].append(i)\n",
        "        return clusters\n",
        "    \n",
        "    def calculate_new_centroids(self, clusters, x):\n",
        "        centroids = np.zeros((self.num_clusters, x.shape[1]))\n",
        "        for i in range(len(clusters)):\n",
        "            new_centroid = np.mean(x[clusters[i]], axis=0)\n",
        "            centroids[i] = new_centroid\n",
        "        return centroids\n",
        "    \n",
        "    def get_inertia(self, clusters, centroids):\n",
        "        inertia = 0\n",
        "        for i in range(len(centroids)):\n",
        "            for point in clusters[i]:\n",
        "                inertia += np.sum((centroids[i] - point)**2)\n",
        "        return inertia\n",
        "    \n",
        "    def fit(self, x):\n",
        "        self.inertia, self.clusters = [], []\n",
        "        centroids = self.initialize_random_centroids(x)\n",
        "        for _ in range(self.max_iterations):\n",
        "            self.clusters = self.create_cluster(x, centroids)\n",
        "            self.inertia.append(self.get_inertia(self.clusters, centroids))\n",
        "            previous_centroids = centroids\n",
        "            centroids = self.calculate_new_centroids(self.clusters, x)\n",
        "            diff = centroids - previous_centroids \n",
        "            if not diff.any():\n",
        "                break\n",
        "        return self\n",
        "    \n",
        "    def predict(self, x):\n",
        "        y_pred = np.zeros(x.shape[0])\n",
        "        for i in range(len(self.clusters)):\n",
        "            for j in self.clusters[i]:\n",
        "                y_pred[j] = i\n",
        "        return y_pred"
      ]
    },
    {
      "cell_type": "code",
      "execution_count": 168,
      "metadata": {
        "id": "_nTLOVQrOJbJ"
      },
      "outputs": [],
      "source": [
        "k_range = range(1,10)\n",
        "scores_list = []\n",
        "\n",
        "for k in k_range:\n",
        "    kmeans = KMeansClustering(num_clusters=k)\n",
        "    kmeans.fit(x)\n",
        "    scores_list.append(kmeans.inertia[-1])"
      ]
    },
    {
      "cell_type": "code",
      "execution_count": 169,
      "metadata": {
        "colab": {
          "base_uri": "https://localhost:8080/",
          "height": 313
        },
        "id": "ieW0OysOTB76",
        "outputId": "579501de-ac79-4a00-95cf-9bc2fe022702"
      },
      "outputs": [
        {
          "data": {
            "text/plain": [
              "Text(0.5, 1.0, 'Inertia for each K')"
            ]
          },
          "execution_count": 169,
          "metadata": {},
          "output_type": "execute_result"
        },
        {
          "data": {
            "image/png": "[encoded data removed]",
            "text/plain": [
              "<Figure size 432x288 with 1 Axes>"
            ]
          },
          "metadata": {
            "needs_background": "light"
          },
          "output_type": "display_data"
        }
      ],
      "source": [
        "plt.plot(k_range, scores_list, marker='o')\n",
        "plt.xlabel('Number of clusters')\n",
        "plt.ylabel('Inertia')\n",
        "plt.title(\"Inertia for each K\")"
      ]
    },
    {
      "cell_type": "code",
      "execution_count": 170,
      "metadata": {
        "id": "LsagmPakT5l9"
      },
      "outputs": [],
      "source": [
        "kmeans = KMeansClustering(num_clusters=3, max_iterations=3)\n",
        "kmeans.fit(x)\n",
        "kmeans.inertia\n",
        "y_pred = kmeans.predict(x)"
      ]
    },
    {
      "cell_type": "code",
      "execution_count": 171,
      "metadata": {
        "colab": {
          "base_uri": "https://localhost:8080/",
          "height": 313
        },
        "id": "Hh6iMvIuUe7I",
        "outputId": "493fbb42-a949-47cc-fca4-5441f261ded5"
      },
      "outputs": [
        {
          "data": {
            "text/plain": [
              "Text(0, 0.5, 'Y')"
            ]
          },
          "execution_count": 171,
          "metadata": {},
          "output_type": "execute_result"
        },
        {
          "data": {
            "image/png": "[encoded data removed]",
            "text/plain": [
              "<Figure size 432x288 with 1 Axes>"
            ]
          },
          "metadata": {
            "needs_background": "light"
          },
          "output_type": "display_data"
        }
      ],
      "source": [
        "fig, ax = plt.subplots() \n",
        "ax.scatter(x[:,0][y_pred==0], x[:,1][y_pred==0], c='r')\n",
        "ax.scatter(x[:,0][y_pred==1], x[:,1][y_pred==1], c='b')\n",
        "ax.scatter(x[:,0][y_pred==2], x[:,1][y_pred==2], c='g')\n",
        "ax.set_title('KMeans Clustering Result from scratch')\n",
        "ax.set_xlabel('X') \n",
        "ax.set_ylabel('Y')"
      ]
    },
    {
      "attachments": {},
      "cell_type": "markdown",
      "metadata": {
        "id": "6I74L5Sk_juD"
      },
      "source": [
        "## **Implementing K-Means Clustering from sklearn**"
      ]
    },
    {
      "cell_type": "code",
      "execution_count": 27,
      "metadata": {
        "id": "51mKZ0pb_1iN"
      },
      "outputs": [],
      "source": [
        "from sklearn.cluster import KMeans"
      ]
    },
    {
      "cell_type": "code",
      "execution_count": 172,
      "metadata": {
        "id": "qhVIcKdD_2AT"
      },
      "outputs": [],
      "source": [
        "k_range = range(1,10)\n",
        "scores_list = []\n",
        "\n",
        "for k in k_range:\n",
        "    kmeans = KMeans(n_clusters=k)\n",
        "    kmeans.fit(x)\n",
        "    scores_list.append(kmeans.inertia_)"
      ]
    },
    {
      "cell_type": "code",
      "execution_count": 173,
      "metadata": {
        "colab": {
          "base_uri": "https://localhost:8080/",
          "height": 313
        },
        "id": "QjGotznm_5_s",
        "outputId": "9a9315a7-ea10-4212-a099-c68056abe930"
      },
      "outputs": [
        {
          "data": {
            "text/plain": [
              "Text(0.5, 1.0, 'Inertia for each K')"
            ]
          },
          "execution_count": 173,
          "metadata": {},
          "output_type": "execute_result"
        },
        {
          "data": {
            "image/png": "[encoded data removed]",
            "text/plain": [
              "<Figure size 432x288 with 1 Axes>"
            ]
          },
          "metadata": {
            "needs_background": "light"
          },
          "output_type": "display_data"
        }
      ],
      "source": [
        "plt.plot(k_range, scores_list, marker='o')\n",
        "plt.xlabel('Number of clusters')\n",
        "plt.ylabel('Inertia')\n",
        "plt.title(\"Inertia for each K\")"
      ]
    },
    {
      "cell_type": "code",
      "execution_count": 174,
      "metadata": {
        "id": "Q8hRtxGxBCpq"
      },
      "outputs": [],
      "source": [
        "## We would pick K=3 from Inertia Graph above\n",
        "kmeans = KMeans(n_clusters=3)\n",
        "kmeans.fit(x)\n",
        "y_pred = kmeans.predict(x)"
      ]
    },
    {
      "cell_type": "code",
      "execution_count": 175,
      "metadata": {
        "colab": {
          "base_uri": "https://localhost:8080/",
          "height": 313
        },
        "id": "gy1XhJVpEqZN",
        "outputId": "a29acecc-7d0b-48ae-e5fe-a70875939904"
      },
      "outputs": [
        {
          "data": {
            "text/plain": [
              "Text(0, 0.5, 'Y')"
            ]
          },
          "execution_count": 175,
          "metadata": {},
          "output_type": "execute_result"
        },
        {
          "data": {
            "image/png": "[encoded data removed]",
            "text/plain": [
              "<Figure size 432x288 with 1 Axes>"
            ]
          },
          "metadata": {
            "needs_background": "light"
          },
          "output_type": "display_data"
        }
      ],
      "source": [
        "fig, ax = plt.subplots() \n",
        "ax.scatter(x[:,0][y_pred==0], x[:,1][y_pred==0], c='r')\n",
        "ax.scatter(x[:,0][y_pred==1], x[:,1][y_pred==1], c='b')\n",
        "ax.scatter(x[:,0][y_pred==2], x[:,1][y_pred==2], c='g')\n",
        "ax.set_title('KMeans Clustering Result from sklearn')\n",
        "ax.set_xlabel('X') \n",
        "ax.set_ylabel('Y')"
      ]
    },
    {
      "attachments": {},
      "cell_type": "markdown",
      "metadata": {},
      "source": [
        "## **Reference**\n",
        "\n",
        "* Adinishad. (2021, August 1). KMEANS clustering from scratch. Kaggle. Retrieved January 23, 2023, from `https://www.kaggle.com/code/adinishad/kmeans-clustering-from-scratch` "
      ]
    },
    {
      "cell_type": "code",
      "execution_count": 177,
      "metadata": {
        "colab": {
          "base_uri": "https://localhost:8080/"
        },
        "id": "LKLvZ4VwGe11",
        "outputId": "df38787c-6fc5-4dde-ee3f-10cfd29f8059"
      },
      "outputs": [
        {
          "name": "stdout",
          "output_type": "stream",
          "text": [
            "[NbConvertApp] Converting notebook ML_Algorithms_K_Means_Clustering.ipynb to html\n",
            "[NbConvertApp] Writing 412078 bytes to ML_Algorithms_K_Means_Clustering.html\n"
          ]
        },
        {
          "data": {
            "text/plain": []
          },
          "execution_count": 177,
          "metadata": {},
          "output_type": "execute_result"
        }
      ],
      "source": [
        "%%shell\n",
        "jupyter nbconvert --to html ML_Algorithms_K_Means_Clustering.ipynb"
      ]
    }
  ],
  "metadata": {
    "colab": {
      "authorship_tag": "ABX9TyN62SxAk5O36mx/jg8DPGRW",
      "collapsed_sections": [
        "1S3tqM-WzGDK",
        "2d0SiMOB4AMd"
      ],
      "include_colab_link": true,
      "provenance": []
    },
    "kernelspec": {
      "display_name": "Python 3",
      "language": "python",
      "name": "python3"
    },
    "language_info": {
      "name": "python",
      "version": "3.8.2 (default, Dec 21 2020, 15:06:04) \n[Clang 12.0.0 (clang-1200.0.32.29)]"
    },
    "vscode": {
      "interpreter": {
        "hash": "31f2aee4e71d21fbe5cf8b01ff0e069b9275f58929596ceb00d14d90e3e16cd6"
      }
    }
  },
  "nbformat": 4,
  "nbformat_minor": 0
}
