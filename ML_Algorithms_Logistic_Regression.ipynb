{
  "cells": [
    {
      "cell_type": "markdown",
      "metadata": {
        "colab_type": "text",
        "id": "view-in-github"
      },
      "source": [
        "<a href=\"https://colab.research.google.com/github/Followb1ind1y/Machine_Learning_Algorithms_from_Scratch/blob/main/ML_Algorithms_Logistic_Regression.ipynb\" target=\"_parent\"><img src=\"https://colab.research.google.com/assets/colab-badge.svg\" alt=\"Open In Colab\"/></a>"
      ]
    },
    {
      "cell_type": "markdown",
      "metadata": {
        "id": "IcQieWIdoRMA"
      },
      "source": [
        "# **Machine Learning Algorithms: Logistic Regression**\n"
      ]
    },
    {
      "attachments": {},
      "cell_type": "markdown",
      "metadata": {
        "id": "-koeHH5LMt40"
      },
      "source": [
        "## **Logistic Regression Basics**\n",
        "\n",
        "**Logistic Regression** is one of the most simple and commonly used Machine Learning algorithms for **classification** problem. It is easy to implement and can be used as the baseline for any binary classification problem. Logistic regression describes and estimates the relationship between one dependent binary variable and independent variables. The classification problem is just like the regression problem, except that the values we now want to predict take on only a small number of discrete values. In Logistic Regression the new form uses the **Sigmoid Function**, also called the **Logistic Function**:"
      ]
    },
    {
      "cell_type": "code",
      "execution_count": 1,
      "metadata": {
        "colab": {
          "base_uri": "https://localhost:8080/",
          "height": 295
        },
        "id": "dcd3nP7SMOA1",
        "outputId": "749e1c66-31de-439b-a7bd-b6748a1e7d7d"
      },
      "outputs": [
        {
          "data": {
            "image/png": "[encoded data removed]",
            "text/plain": [
              "<Figure size 432x288 with 1 Axes>"
            ]
          },
          "metadata": {
            "needs_background": "light"
          },
          "output_type": "display_data"
        }
      ],
      "source": [
        "import numpy as np\n",
        "import matplotlib.pyplot as plt\n",
        "\n",
        "x = np.linspace(-10, 10, 100) \n",
        "y = 1/(1+np.exp(-x))\n",
        "plt.plot(x, y, color = 'red') \n",
        "plt.title(\"Logistic Function\")\n",
        "plt.xlabel(\"X\")\n",
        "plt.ylabel(\"Y\")\n",
        "plt.show()"
      ]
    },
    {
      "cell_type": "markdown",
      "metadata": {
        "id": "Xsk4rUxgLfJz"
      },
      "source": [
        "$$\n",
        "\\begin{align*}\n",
        "& \\mathrm{Activation \\ Function}: \\sigma(x) = \\frac{1}{1+e^{-(x)}} \\\\\n",
        "& \\mathrm{Model}: z = (\\sum^{n}_{i=1}w_{i}x_{i})+ b = W^{T}\\cdot x + b⇒ ŷ = \\sigma(z) = \\frac{1}{1+e^{-(W^{T}\\cdot x + b)}}\\\\\n",
        "&\\mathrm{Loss \\ Function}: L_{CE}(y^{̂},y) = \\frac{1}{m}\\sum_{i=1}^{m}y \\log(ŷ) + (1-y) \\log(1-ŷ) \\\\\n",
        "\\end{align*}\n",
        "$$"
      ]
    },
    {
      "cell_type": "markdown",
      "metadata": {
        "id": "XKwOPdQfY3vd"
      },
      "source": [
        "$$\\begin{align*}  \n",
        "&\\frac{\\partial L_{CE}(y^{̂},y)}{\\partial W}= \\frac{1}{m}\\sum_{i=1}^{m}(ŷ-y)x_{i}^{T}\\\\\n",
        "&\\frac{\\partial L_{CE}(y^{̂},y)}{\\partial b}= \\frac{1}{m}\\sum_{i=1}^{m}(ŷ-y) \\\\\n",
        "\\end{align*}\n",
        "$$"
      ]
    },
    {
      "attachments": {},
      "cell_type": "markdown",
      "metadata": {
        "id": "TEzCa_vjo2rs"
      },
      "source": [
        "## **Dataset Initialization**"
      ]
    },
    {
      "cell_type": "code",
      "execution_count": 2,
      "metadata": {
        "id": "gckyaoj6OIJ3"
      },
      "outputs": [],
      "source": [
        "import numpy as np\n",
        "import matplotlib.pyplot as plt\n",
        "from sklearn.model_selection import train_test_split"
      ]
    },
    {
      "cell_type": "code",
      "execution_count": 3,
      "metadata": {
        "id": "sfcNL628aEnA"
      },
      "outputs": [],
      "source": [
        "np.random.seed(0)\n",
        "x_1, x_2 = np.random.rand(50, 1), np.random.rand(50, 1) + 0.9\n",
        "y_1, y_2 = 3 + 3 * x_1 + np.random.rand(50, 1), 3 + 3 * x_1 + np.random.rand(50, 1) \n",
        "class_1, class_2 = np.concatenate((x_1, y_1), axis=1), np.concatenate((x_2, y_2), axis=1)\n",
        "zeros, ones = np.zeros((50,1)), np.ones((50,1))\n",
        "x = np.concatenate((class_1, class_2), axis=0)\n",
        "y = np.concatenate((zeros, ones), axis=0)"
      ]
    },
    {
      "cell_type": "code",
      "execution_count": 4,
      "metadata": {
        "colab": {
          "base_uri": "https://localhost:8080/",
          "height": 313
        },
        "id": "8eJ_ZPYbaxkP",
        "outputId": "6d64c1ae-5412-478b-915d-4c252a905ccc"
      },
      "outputs": [
        {
          "data": {
            "text/plain": [
              "Text(0, 0.5, 'X2')"
            ]
          },
          "execution_count": 4,
          "metadata": {},
          "output_type": "execute_result"
        },
        {
          "data": {
            "image/png": "[encoded data removed]",
            "text/plain": [
              "<Figure size 432x288 with 1 Axes>"
            ]
          },
          "metadata": {
            "needs_background": "light"
          },
          "output_type": "display_data"
        }
      ],
      "source": [
        "fig, ax = plt.subplots() \n",
        "ax.scatter(x_1,y_1) \n",
        "ax.scatter(x_2,y_2) \n",
        "ax.set_title('Logistic Regression Random Data')\n",
        "ax.set_xlabel('X1') \n",
        "ax.set_ylabel('X2')"
      ]
    },
    {
      "cell_type": "code",
      "execution_count": 5,
      "metadata": {
        "id": "4SzBbnkVcuQD"
      },
      "outputs": [],
      "source": [
        "x_train, x_test, y_train, y_test = train_test_split(x, y)"
      ]
    },
    {
      "attachments": {},
      "cell_type": "markdown",
      "metadata": {
        "id": "tcxmp5cLrlqz"
      },
      "source": [
        "## **Implementing Logistic Regression from scratch**"
      ]
    },
    {
      "cell_type": "code",
      "execution_count": 15,
      "metadata": {
        "id": "lwfpkCgXa5iS"
      },
      "outputs": [],
      "source": [
        "class LogisticRegressionUsingGD:\n",
        "    def __init__(self, learning_rate=0.05, n_iterations=100):\n",
        "        self.learning_rate = learning_rate\n",
        "        self.n_iterations = n_iterations\n",
        "    \n",
        "    def Sigmoid(self, x):\n",
        "        return 1/(1+np.exp(-x))\n",
        "    \n",
        "    def Cross_Entropy(self, y_pred, y):\n",
        "        return - np.sum(np.dot(y.T,np.log(y_pred))+ np.dot((1-y).T,np.log(1-y_pred))) / y.shape[0]\n",
        "    \n",
        "    def get_accuracy(self, y_pred, y):\n",
        "        return 1- (np.sum(np.abs(y_pred - y)) / y.shape[0])\n",
        "    \n",
        "    def fit(self, x, y):\n",
        "        self.iters, self.losses, self.accuracys = [], [], []\n",
        "        self.m = x.shape[0]\n",
        "        self.weights = np.zeros((x.shape[1]+1,1))\n",
        "        self.new_x = np.concatenate((np.ones((self.m,1)),x), axis=1)\n",
        "\n",
        "        # initial data\n",
        "        initial_loss = self.Cross_Entropy(self.Sigmoid(np.dot(self.new_x, self.weights)), y)\n",
        "        intial_acc = self.get_accuracy(self.predict(x), y)\n",
        "        self.iters.append(0)\n",
        "        self.losses.append(initial_loss)\n",
        "        self.accuracys.append(intial_acc)\n",
        "\n",
        "        # Train\n",
        "        for i in range(1,self.n_iterations):\n",
        "            x_dot_w = np.dot(self.new_x, self.weights)\n",
        "            y_hat = self.Sigmoid(x_dot_w)\n",
        "            residuals = y_hat - y \n",
        "            gradient_vector = np.dot(self.new_x.T, residuals)\n",
        "            self.weights -= (self.learning_rate / self.m) * gradient_vector\n",
        "            loss = self.Cross_Entropy(y_hat, y)\n",
        "            y_pred = self.predict(x)\n",
        "            accuracy = self.get_accuracy(y_pred, y)\n",
        "            self.iters.append(i)\n",
        "            self.losses.append(loss)\n",
        "            self.accuracys.append(accuracy)\n",
        "\n",
        "        self.plot_curve()\n",
        "        return self\n",
        "    \n",
        "    def predict(self, x):\n",
        "        new_x = np.concatenate((np.ones((x.shape[0],1)),x), axis=1)\n",
        "        x_dot_w = np.dot(new_x, self.weights)\n",
        "        y_pred = self.Sigmoid(x_dot_w)\n",
        "        y_pred[y_pred >= 0.5] = 1\n",
        "        y_pred[y_pred < 0.5] = 0\n",
        "        return y_pred\n",
        "    \n",
        "    def plot_curve(self):\n",
        "        plt.title(\"Training Curve\")\n",
        "        plt.plot(self.iters, self.losses, label=\"Train\")\n",
        "        plt.xlabel(\"Iterations\")\n",
        "        plt.ylabel(\"Loss\")\n",
        "        plt.show()\n",
        "\n",
        "        print(\"Final Training Loss: {}\".format(self.losses[-1]))\n",
        "\n",
        "        plt.title(\"Training Curve\")\n",
        "        plt.plot(self.iters, self.accuracys, label=\"Train\")\n",
        "        plt.xlabel(\"Iterations\")\n",
        "        plt.ylabel(\"Accuracys\")\n",
        "        plt.show()\n",
        "\n",
        "        print(\"Final Training Accuracy: {}\".format(self.accuracys[-1]))"
      ]
    },
    {
      "cell_type": "code",
      "execution_count": 25,
      "metadata": {
        "colab": {
          "base_uri": "https://localhost:8080/",
          "height": 609
        },
        "id": "vwrziyKdKOkQ",
        "outputId": "42469439-952d-4f15-93d2-78e098d5908d"
      },
      "outputs": [
        {
          "data": {
            "image/png": "[encoded data removed]",
            "text/plain": [
              "<Figure size 432x288 with 1 Axes>"
            ]
          },
          "metadata": {
            "needs_background": "light"
          },
          "output_type": "display_data"
        },
        {
          "name": "stdout",
          "output_type": "stream",
          "text": [
            "Final Training Loss: 0.2505203971049209\n"
          ]
        },
        {
          "data": {
            "image/png": "[encoded data removed]",
            "text/plain": [
              "<Figure size 432x288 with 1 Axes>"
            ]
          },
          "metadata": {
            "needs_background": "light"
          },
          "output_type": "display_data"
        },
        {
          "name": "stdout",
          "output_type": "stream",
          "text": [
            "Final Training Accuracy: 0.9866666666666667\n"
          ]
        }
      ],
      "source": [
        "# Model initialization\n",
        "Logistic_Regression_GD = LogisticRegressionUsingGD(learning_rate=0.05, n_iterations=1000)\n",
        "# Fit the data(train the model)\n",
        "train_model = Logistic_Regression_GD.fit(x_train, y_train)"
      ]
    },
    {
      "cell_type": "code",
      "execution_count": 26,
      "metadata": {
        "colab": {
          "base_uri": "https://localhost:8080/"
        },
        "id": "D0V_rhvhKcKL",
        "outputId": "3bb9546a-d7e8-47d4-b205-8c732edf16e7"
      },
      "outputs": [
        {
          "name": "stdout",
          "output_type": "stream",
          "text": [
            "Test Accuracy: 0.96\n"
          ]
        }
      ],
      "source": [
        "y_test_pred = Logistic_Regression_GD.predict(x_test)\n",
        "test_accuracy = Logistic_Regression_GD.get_accuracy(y_test_pred, y_test)\n",
        "print(\"Test Accuracy:\", test_accuracy)"
      ]
    },
    {
      "cell_type": "code",
      "execution_count": 27,
      "metadata": {
        "colab": {
          "base_uri": "https://localhost:8080/",
          "height": 313
        },
        "id": "dz-bvvGNPBwi",
        "outputId": "883a4689-da09-49e9-ac36-35cc5b19d906"
      },
      "outputs": [
        {
          "data": {
            "text/plain": [
              "<matplotlib.legend.Legend at 0x7f5f7c2bdca0>"
            ]
          },
          "execution_count": 27,
          "metadata": {},
          "output_type": "execute_result"
        },
        {
          "data": {
            "image/png": "[encoded data removed]",
            "text/plain": [
              "<Figure size 432x288 with 1 Axes>"
            ]
          },
          "metadata": {
            "needs_background": "light"
          },
          "output_type": "display_data"
        }
      ],
      "source": [
        "# scatter plot points\n",
        "fig, ax = plt.subplots() \n",
        "ax.scatter(x_1,y_1, label='Class 1') \n",
        "ax.scatter(x_2,y_2, label='Class 2') \n",
        "\n",
        "# plot the Decision Boundary\n",
        "weight_0, weight_1, weight_2 = train_model.weights\n",
        "intercept, slope = -weight_0/weight_2, -weight_1/weight_2\n",
        "xd = np.array([0, 2])\n",
        "yd = slope*xd + intercept\n",
        "plt.plot(xd, yd, color='red', label='Decision Boundary')\n",
        "ax.set_ylim(3,7)\n",
        "\n",
        "ax.set_title('Logistic Regression Random Data')\n",
        "ax.set_xlabel('X1') \n",
        "ax.set_ylabel('X2')\n",
        "plt.legend()"
      ]
    },
    {
      "attachments": {},
      "cell_type": "markdown",
      "metadata": {
        "id": "-Nzxb6nDjJ1Z"
      },
      "source": [
        "## **Implementing Linear Regression from Scikit-learn**"
      ]
    },
    {
      "cell_type": "code",
      "execution_count": 28,
      "metadata": {
        "id": "jvaMeU7MUPCg"
      },
      "outputs": [],
      "source": [
        "from sklearn import metrics \n",
        "from sklearn.linear_model import LogisticRegression"
      ]
    },
    {
      "cell_type": "code",
      "execution_count": null,
      "metadata": {
        "id": "OPnWkyCvUWu0"
      },
      "outputs": [],
      "source": [
        "logistic_regression = LogisticRegression()\n",
        "logistic_regression.fit(x_train,y_train)\n",
        "y_pred = logistic_regression.predict(x_test)"
      ]
    },
    {
      "cell_type": "code",
      "execution_count": 30,
      "metadata": {
        "colab": {
          "base_uri": "https://localhost:8080/"
        },
        "id": "E1h_P4LLUYoW",
        "outputId": "05a7f125-4916-488e-dd7c-17e387201bdd"
      },
      "outputs": [
        {
          "data": {
            "text/plain": [
              "0.96"
            ]
          },
          "execution_count": 30,
          "metadata": {},
          "output_type": "execute_result"
        }
      ],
      "source": [
        "accuracy = metrics.accuracy_score(y_test, y_pred)\n",
        "accuracy"
      ]
    },
    {
      "cell_type": "code",
      "execution_count": 31,
      "metadata": {
        "colab": {
          "base_uri": "https://localhost:8080/",
          "height": 313
        },
        "id": "irXCgY-9vo4y",
        "outputId": "1a68cf2c-b586-4abf-9c36-7d135a51c82d"
      },
      "outputs": [
        {
          "data": {
            "text/plain": [
              "<matplotlib.legend.Legend at 0x7f5f7c506dc0>"
            ]
          },
          "execution_count": 31,
          "metadata": {},
          "output_type": "execute_result"
        },
        {
          "data": {
            "image/png": "[encoded data removed]",
            "text/plain": [
              "<Figure size 432x288 with 1 Axes>"
            ]
          },
          "metadata": {
            "needs_background": "light"
          },
          "output_type": "display_data"
        }
      ],
      "source": [
        "# scatter plot points\n",
        "fig, ax = plt.subplots() \n",
        "ax.scatter(x_1,y_1, label='Class 1') \n",
        "ax.scatter(x_2,y_2, label='Class 2') \n",
        "\n",
        "# plot the Decision Boundary\n",
        "beta_1, beta_2 =logistic_regression.coef_.T\n",
        "beta_0 = logistic_regression.intercept_[0]\n",
        "\n",
        "# Calculate the intercept and gradient of the decision boundary.\n",
        "c = -beta_0/beta_2\n",
        "m = -beta_1/beta_2\n",
        "\n",
        "xd = np.array([0, 2])\n",
        "yd = m*xd + c\n",
        "plt.plot(xd, yd, color='red', label='Decision Boundary')\n",
        "ax.set_ylim(3,7)\n",
        "\n",
        "ax.set_title('Logistic Regression Random Data')\n",
        "ax.set_xlabel('X1') \n",
        "ax.set_ylabel('X2')\n",
        "plt.legend()"
      ]
    },
    {
      "attachments": {},
      "cell_type": "markdown",
      "metadata": {},
      "source": [
        "## **Reference**\n",
        "* K, D. (2021, October 5). Logistic regression in python using Scikit-Learn. Medium. Retrieved January 23, 2023, from `https://heartbeat.comet.ml/logistic-regression-in-python-using-scikit-learn-d34e882eebb1` \n",
        "\n",
        "* Plotting the decision boundary of a logistic regression model. (n.d.). Retrieved January 23, 2023, from `https://scipython.com/blog/plotting-the-decision-boundary-of-a-logistic-regression-model/` "
      ]
    },
    {
      "cell_type": "code",
      "execution_count": 33,
      "metadata": {
        "colab": {
          "base_uri": "https://localhost:8080/"
        },
        "id": "0C4_KA2CToLS",
        "outputId": "4adc226a-aed5-4d0b-e2c6-07734d7b951e"
      },
      "outputs": [
        {
          "name": "stdout",
          "output_type": "stream",
          "text": [
            "[NbConvertApp] Converting notebook ML_Algorithms_Logistic_Regression.ipynb to html\n",
            "[NbConvertApp] Writing 422488 bytes to ML_Algorithms_Logistic_Regression.html\n"
          ]
        },
        {
          "data": {
            "text/plain": []
          },
          "execution_count": 33,
          "metadata": {},
          "output_type": "execute_result"
        }
      ],
      "source": [
        "%%shell\n",
        "jupyter nbconvert --to html ML_Algorithms_Logistic_Regression.ipynb"
      ]
    }
  ],
  "metadata": {
    "colab": {
      "authorship_tag": "ABX9TyNqGjZeNZMiaI9h+Bky1cRG",
      "include_colab_link": true,
      "provenance": []
    },
    "kernelspec": {
      "display_name": "Python 3",
      "language": "python",
      "name": "python3"
    },
    "language_info": {
      "name": "python",
      "version": "3.8.2 (default, Dec 21 2020, 15:06:04) \n[Clang 12.0.0 (clang-1200.0.32.29)]"
    },
    "vscode": {
      "interpreter": {
        "hash": "31f2aee4e71d21fbe5cf8b01ff0e069b9275f58929596ceb00d14d90e3e16cd6"
      }
    }
  },
  "nbformat": 4,
  "nbformat_minor": 0
}
