{
  "nbformat": 4,
  "nbformat_minor": 0,
  "metadata": {
    "colab": {
      "provenance": [],
      "authorship_tag": "ABX9TyNwhzXkq2yCoFy63z3oCAa2",
      "include_colab_link": true
    },
    "kernelspec": {
      "name": "python3",
      "display_name": "Python 3"
    },
    "language_info": {
      "name": "python"
    }
  },
  "cells": [
    {
      "cell_type": "markdown",
      "metadata": {
        "id": "view-in-github",
        "colab_type": "text"
      },
      "source": [
        "<a href=\"https://colab.research.google.com/github/Followb1ind1y/Machine_Learning_Algorithms/blob/main/ML_Algorithms_Logistic_Regression.ipynb\" target=\"_parent\"><img src=\"https://colab.research.google.com/assets/colab-badge.svg\" alt=\"Open In Colab\"/></a>"
      ]
    },
    {
      "cell_type": "markdown",
      "source": [
        "# **Machine Learning Algorithms: Logistic Regression**\n"
      ],
      "metadata": {
        "id": "IcQieWIdoRMA"
      }
    },
    {
      "cell_type": "markdown",
      "source": [
        "### **Logistic Regression Basics**\n",
        "\n",
        "**Logistic Regression** is one of the most simple and commonly used Machine Learning algorithms for **classification** problem. It is easy to implement and can be used as the baseline for any binary classification problem. Logistic regression describes and estimates the relationship between one dependent binary variable and independent variables. The classification problem is just like the regression problem, except that the values we now want to predict take on only a small number of discrete values. In Logistic Regression the new form uses the **Sigmoid Function**, also called the **Logistic Function**:"
      ],
      "metadata": {
        "id": "-koeHH5LMt40"
      }
    },
    {
      "cell_type": "code",
      "source": [
        "import numpy as np\n",
        "import matplotlib.pyplot as plt\n",
        "\n",
        "x = np.linspace(-10, 10, 100) \n",
        "y = 1/(1+np.exp(-x))\n",
        "plt.plot(x, y, color = 'red') \n",
        "plt.title(\"Logistic Function\")\n",
        "plt.xlabel(\"X\")\n",
        "plt.ylabel(\"Y\")\n",
        "plt.show()"
      ],
      "metadata": {
        "colab": {
          "base_uri": "https://localhost:8080/",
          "height": 295
        },
        "id": "dcd3nP7SMOA1",
        "outputId": "a9253047-deee-4eb8-9bab-d31942e4ffd7"
      },
      "execution_count": 1,
      "outputs": [
        {
          "output_type": "display_data",
          "data": {
            "text/plain": [
              "<Figure size 432x288 with 1 Axes>"
            ],
            "image/png": "[encoded data removed]"
          },
          "metadata": {
            "needs_background": "light"
          }
        }
      ]
    },
    {
      "cell_type": "markdown",
      "source": [
        "$$\n",
        "\\begin{align*}\n",
        "& \\mathrm{Activation \\ Function}: \\sigma(x) = \\frac{1}{1+e^{-(x)}} \\\\\n",
        "& \\mathrm{Model}: z = (\\sum^{n}_{i=1}w_{i}x_{i})+ b = W^{T}\\cdot x + b⇒ ŷ = \\sigma(z) = \\frac{1}{1+e^{-(W^{T}\\cdot x + b)}}\\\\\n",
        "&\\mathrm{Loss \\ Function}: L_{CE}(y^{̂},y) = \\frac{1}{m}\\sum_{i=1}^{m}y \\log(ŷ) + (1-y) \\log(1-ŷ) \\\\\n",
        "\\end{align*}\n",
        "$$"
      ],
      "metadata": {
        "id": "Xsk4rUxgLfJz"
      }
    },
    {
      "cell_type": "markdown",
      "source": [
        "$$\\begin{align*}  \n",
        "&\\frac{\\partial L_{CE}(y^{̂},y)}{\\partial W}= \\frac{1}{m}\\sum_{i=1}^{m}(ŷ-y)x_{i}^{T}\\\\\n",
        "&\\frac{\\partial L_{CE}(y^{̂},y)}{\\partial b}= \\frac{1}{m}\\sum_{i=1}^{m}(ŷ-y) \\\\\n",
        "\\end{align*}\n",
        "$$"
      ],
      "metadata": {
        "id": "XKwOPdQfY3vd"
      }
    },
    {
      "cell_type": "markdown",
      "source": [
        "### **Dataset Initialization**"
      ],
      "metadata": {
        "id": "TEzCa_vjo2rs"
      }
    },
    {
      "cell_type": "code",
      "source": [
        "import numpy as np\n",
        "import matplotlib.pyplot as plt\n",
        "from sklearn.model_selection import train_test_split"
      ],
      "metadata": {
        "id": "gckyaoj6OIJ3"
      },
      "execution_count": 2,
      "outputs": []
    },
    {
      "cell_type": "code",
      "source": [
        "np.random.seed(10)\n",
        "x_1, x_2 = np.random.rand(50, 1), np.random.rand(50, 1) + 0.9\n",
        "y_1, y_2 = 3 + 3 * x_1 + np.random.rand(50, 1), 3 + 3 * x_1 + np.random.rand(50, 1) \n",
        "class_1, class_2 = np.concatenate((x_1, y_1), axis=1), np.concatenate((x_2, y_2), axis=1)\n",
        "zeros, ones = np.zeros((50,1)), np.ones((50,1))\n",
        "x = np.concatenate((class_1, class_2), axis=0)\n",
        "y = np.concatenate((zeros, ones), axis=0)"
      ],
      "metadata": {
        "id": "sfcNL628aEnA"
      },
      "execution_count": 3,
      "outputs": []
    },
    {
      "cell_type": "code",
      "source": [
        "fig, ax = plt.subplots() \n",
        "ax.scatter(x_1,y_1) \n",
        "ax.scatter(x_2,y_2) \n",
        "ax.set_title('Logistic Regression Random Data')\n",
        "ax.set_xlabel('X') \n",
        "ax.set_ylabel('Y')"
      ],
      "metadata": {
        "colab": {
          "base_uri": "https://localhost:8080/",
          "height": 313
        },
        "id": "8eJ_ZPYbaxkP",
        "outputId": "0112dda0-1087-4be8-db48-da34983201f6"
      },
      "execution_count": 4,
      "outputs": [
        {
          "output_type": "execute_result",
          "data": {
            "text/plain": [
              "Text(0, 0.5, 'Y')"
            ]
          },
          "metadata": {},
          "execution_count": 4
        },
        {
          "output_type": "display_data",
          "data": {
            "text/plain": [
              "<Figure size 432x288 with 1 Axes>"
            ],
            "image/png": "[encoded data removed]"
          },
          "metadata": {
            "needs_background": "light"
          }
        }
      ]
    },
    {
      "cell_type": "code",
      "source": [
        "x_train, x_test, y_train, y_test = train_test_split(x, y)"
      ],
      "metadata": {
        "id": "4SzBbnkVcuQD"
      },
      "execution_count": 5,
      "outputs": []
    },
    {
      "cell_type": "code",
      "source": [
        "def Sigmoid(x):\n",
        "    return 1/(1+np.exp(-x))\n",
        "def predict(new_x, weights):\n",
        "    x_dot_w = np.dot(new_x, weights)\n",
        "    y_pred = Sigmoid(x_dot_w)\n",
        "    y_pred[y_pred >= 0.5] = 1\n",
        "    y_pred[y_pred < 0.5] = 0\n",
        "    return y_pred"
      ],
      "metadata": {
        "id": "DAWF-ITpI_r9"
      },
      "execution_count": 35,
      "outputs": []
    },
    {
      "cell_type": "code",
      "source": [
        "weights = np.zeros((x.shape[1]+1,1))\n",
        "new_x = np.concatenate((np.ones((x.shape[0],1)),x), axis=1)\n",
        "x_dot_w = np.dot(new_x, weights)\n",
        "y_pred = predict(new_x, weights)\n",
        "y_pred.shape"
      ],
      "metadata": {
        "colab": {
          "base_uri": "https://localhost:8080/"
        },
        "id": "f5aXlMfnAe_S",
        "outputId": "70bf5c93-b65c-44c2-d990-0a2e1b868b7b"
      },
      "execution_count": 42,
      "outputs": [
        {
          "output_type": "execute_result",
          "data": {
            "text/plain": [
              "(100, 1)"
            ]
          },
          "metadata": {},
          "execution_count": 42
        }
      ]
    },
    {
      "cell_type": "markdown",
      "source": [
        "### **Implementing Logistic Regression from scratch**"
      ],
      "metadata": {
        "id": "tcxmp5cLrlqz"
      }
    },
    {
      "cell_type": "code",
      "source": [
        "class LogisticRegressionUsingGD:\n",
        "    def __init__(self, learning_rate=0.0001, n_iterations=2):\n",
        "        self.learning_rate = learning_rate\n",
        "        self.n_iterations = n_iterations\n",
        "    \n",
        "    def Sigmoid(self, x):\n",
        "        return 1/(1+np.exp(-x))\n",
        "    \n",
        "    def Cross_Entropy(self, y_pred, y):\n",
        "        return - np.sum(np.dot(y.T,np.log(y_pred))+ np.dot((1-y).T,np.log(1-y_pred))) / y.shape[0]\n",
        "    \n",
        "    def get_accuracy(self, y_pred, y):\n",
        "        return 1- (np.sum(np.abs(y_pred - y)) / y.shape[0])\n",
        "    \n",
        "    def fit(self, x, y):\n",
        "        self.iters, self.losses, self.accuracys = [], [], []\n",
        "        self.m = x.shape[0]\n",
        "        self.weights = np.zeros((x.shape[1]+1,1))\n",
        "        self.new_x = np.concatenate((np.ones((self.m,1)),x), axis=1)\n",
        "\n",
        "        for i in range(self.n_iterations):\n",
        "            x_dot_w = np.dot(self.new_x, self.weights)\n",
        "            y_pred = self.Sigmoid(x_dot_w)\n",
        "            residuals = y_pred - y \n",
        "            gradient_vector = np.dot(self.new_x.T, residuals)\n",
        "            self.weights -= (self.learning_rate / self.m) * gradient_vector\n",
        "            loss = self.Cross_Entropy(y_pred, y)\n",
        "            accuracy = self.get_accuracy(self.predict(x), y)\n",
        "            self.iters.append(i)\n",
        "            self.losses.append(loss)\n",
        "            self.accuracys.append(accuracy)\n",
        "\n",
        "        self.plot_curve()\n",
        "        return self\n",
        "    \n",
        "    def predict(self, x):\n",
        "        new_x = np.concatenate((np.ones((x.shape[0],1)),x), axis=1)\n",
        "        x_dot_w = np.dot(new_x, self.weights)\n",
        "        y_pred = self.Sigmoid(x_dot_w)\n",
        "        y_pred[y_pred >= 0.5] = 1\n",
        "        y_pred[y_pred < 0.5] = 0\n",
        "        return y_pred\n",
        "    \n",
        "    def plot_curve(self):\n",
        "        plt.title(\"Training Curve\")\n",
        "        plt.plot(self.iters, self.losses, label=\"Train\")\n",
        "        plt.xlabel(\"Iterations\")\n",
        "        plt.ylabel(\"Loss\")\n",
        "        plt.show()\n",
        "\n",
        "        print(\"Final Training Loss: {}\".format(self.losses[-1]))\n",
        "\n",
        "        plt.title(\"Training Curve\")\n",
        "        plt.plot(self.iters, self.accuracys, label=\"Train\")\n",
        "        plt.xlabel(\"Iterations\")\n",
        "        plt.ylabel(\"Accuracys\")\n",
        "        plt.show()\n",
        "\n",
        "        print(\"Final Training Accuracy: {}\".format(self.accuracys[-1]))"
      ],
      "metadata": {
        "id": "lwfpkCgXa5iS"
      },
      "execution_count": 68,
      "outputs": []
    },
    {
      "cell_type": "code",
      "source": [
        "# Model initialization\n",
        "Logistic_Regression_GD = LogisticRegressionUsingGD()\n",
        "# Fit the data(train the model)\n",
        "train_model = Logistic_Regression_GD.fit(x_train, y_train)"
      ],
      "metadata": {
        "colab": {
          "base_uri": "https://localhost:8080/",
          "height": 609
        },
        "id": "vwrziyKdKOkQ",
        "outputId": "173f3f45-44e2-46ff-ba95-d1fb57a23122"
      },
      "execution_count": 70,
      "outputs": [
        {
          "output_type": "display_data",
          "data": {
            "text/plain": [
              "<Figure size 432x288 with 1 Axes>"
            ],
            "image/png": "[encoded data removed]"
          },
          "metadata": {
            "needs_background": "light"
          }
        },
        {
          "output_type": "stream",
          "name": "stdout",
          "text": [
            "Final Training Loss: 0.6931424174039789\n"
          ]
        },
        {
          "output_type": "display_data",
          "data": {
            "text/plain": [
              "<Figure size 432x288 with 1 Axes>"
            ],
            "image/png": "[encoded data removed]"
          },
          "metadata": {
            "needs_background": "light"
          }
        },
        {
          "output_type": "stream",
          "name": "stdout",
          "text": [
            "Final Training Accuracy: 0.96\n"
          ]
        }
      ]
    },
    {
      "cell_type": "code",
      "source": [
        "y_test_pred = Logistic_Regression_GD.predict(x_test)\n",
        "Logistic_Regression_GD.get_accuracy(y_test_pred, y_test)"
      ],
      "metadata": {
        "colab": {
          "base_uri": "https://localhost:8080/"
        },
        "id": "D0V_rhvhKcKL",
        "outputId": "961fd89f-6370-40ae-b403-1d97b542944f"
      },
      "execution_count": 67,
      "outputs": [
        {
          "output_type": "execute_result",
          "data": {
            "text/plain": [
              "0.96"
            ]
          },
          "metadata": {},
          "execution_count": 67
        }
      ]
    },
    {
      "cell_type": "code",
      "source": [
        "fig, ax = plt.subplots() \n",
        "ax.scatter(x_1,y_1) \n",
        "ax.scatter(x_2,y_2) \n",
        "\n",
        "weight_0, weight_1, weight_2 = train_model.weights\n",
        "intercept, slope = -weight_0/weight_2, -weight_1/weight_2\n",
        "xd = np.array([0, 2])\n",
        "yd = slope*xd + intercept\n",
        "plt.plot(xd, yd, color='red')\n",
        "\n",
        "ax.set_title('Logistic Regression Random Data')\n",
        "ax.set_xlabel('X') \n",
        "ax.set_ylabel('Y')"
      ],
      "metadata": {
        "colab": {
          "base_uri": "https://localhost:8080/",
          "height": 313
        },
        "id": "dz-bvvGNPBwi",
        "outputId": "b361e0c3-f3e1-48c8-f772-709817b46aeb"
      },
      "execution_count": 80,
      "outputs": [
        {
          "output_type": "execute_result",
          "data": {
            "text/plain": [
              "Text(0, 0.5, 'Y')"
            ]
          },
          "metadata": {},
          "execution_count": 80
        },
        {
          "output_type": "display_data",
          "data": {
            "text/plain": [
              "<Figure size 432x288 with 1 Axes>"
            ],
            "image/png": "[encoded data removed]"
          },
          "metadata": {
            "needs_background": "light"
          }
        }
      ]
    },
    {
      "cell_type": "markdown",
      "source": [
        "### **Implementing Linear Regression from Scikit-learn**"
      ],
      "metadata": {
        "id": "-Nzxb6nDjJ1Z"
      }
    },
    {
      "cell_type": "code",
      "source": [
        "from sklearn import metrics \n",
        "from sklearn.linear_model import LogisticRegression"
      ],
      "metadata": {
        "id": "jvaMeU7MUPCg"
      },
      "execution_count": 84,
      "outputs": []
    },
    {
      "cell_type": "code",
      "source": [
        "x_train, x_test, y_train, y_test = train_test_split(x, y, random_state=4)\n",
        "logistic_regression = LogisticRegression()\n",
        "logistic_regression.fit(x_train,y_train)\n",
        "y_pred = logistic_regression.predict(x_test)"
      ],
      "metadata": {
        "colab": {
          "base_uri": "https://localhost:8080/"
        },
        "id": "OPnWkyCvUWu0",
        "outputId": "e6e9b560-e856-4160-ea2b-9ef5b332a8b7"
      },
      "execution_count": 82,
      "outputs": [
        {
          "output_type": "stream",
          "name": "stderr",
          "text": [
            "/usr/local/lib/python3.8/dist-packages/sklearn/utils/validation.py:993: DataConversionWarning: A column-vector y was passed when a 1d array was expected. Please change the shape of y to (n_samples, ), for example using ravel().\n",
            "  y = column_or_1d(y, warn=True)\n"
          ]
        }
      ]
    },
    {
      "cell_type": "code",
      "source": [
        "accuracy = metrics.accuracy_score(y_test, y_pred)\n",
        "accuracy_percentage = 100 * accuracy\n",
        "accuracy_percentage"
      ],
      "metadata": {
        "colab": {
          "base_uri": "https://localhost:8080/"
        },
        "id": "E1h_P4LLUYoW",
        "outputId": "5a886754-64e9-4f29-cec2-b457fd1637f0"
      },
      "execution_count": 83,
      "outputs": [
        {
          "output_type": "execute_result",
          "data": {
            "text/plain": [
              "100.0"
            ]
          },
          "metadata": {},
          "execution_count": 83
        }
      ]
    },
    {
      "cell_type": "code",
      "source": [
        "%%shell\n",
        "jupyter nbconvert --to html ML_Algorithms_Linear_Regression.ipynb"
      ],
      "metadata": {
        "id": "0C4_KA2CToLS"
      },
      "execution_count": null,
      "outputs": []
    }
  ]
}