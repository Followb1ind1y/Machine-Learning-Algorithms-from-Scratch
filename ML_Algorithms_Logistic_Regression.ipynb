{
  "nbformat": 4,
  "nbformat_minor": 0,
  "metadata": {
    "colab": {
      "provenance": [],
      "authorship_tag": "ABX9TyPVZREYDb/Bnb92n0IxcClt",
      "include_colab_link": true
    },
    "kernelspec": {
      "name": "python3",
      "display_name": "Python 3"
    },
    "language_info": {
      "name": "python"
    }
  },
  "cells": [
    {
      "cell_type": "markdown",
      "metadata": {
        "id": "view-in-github",
        "colab_type": "text"
      },
      "source": [
        "<a href=\"https://colab.research.google.com/github/Followb1ind1y/Machine_Learning_Algorithms/blob/main/ML_Algorithms_Logistic_Regression.ipynb\" target=\"_parent\"><img src=\"https://colab.research.google.com/assets/colab-badge.svg\" alt=\"Open In Colab\"/></a>"
      ]
    },
    {
      "cell_type": "markdown",
      "source": [
        "# **Machine Learning Algorithms: Logistic Regression**\n"
      ],
      "metadata": {
        "id": "IcQieWIdoRMA"
      }
    },
    {
      "cell_type": "markdown",
      "source": [
        "### **Logistic Regression Basics**\n",
        "\n",
        "**Logistic Regression** is one of the most simple and commonly used Machine Learning algorithms for **classification** problem. It is easy to implement and can be used as the baseline for any binary classification problem. Logistic regression describes and estimates the relationship between one dependent binary variable and independent variables. The classification problem is just like the regression problem, except that the values we now want to predict take on only a small number of discrete values. In Logistic Regression the new form uses the **Sigmoid Function**, also called the **Logistic Function**:"
      ],
      "metadata": {
        "id": "-koeHH5LMt40"
      }
    },
    {
      "cell_type": "code",
      "source": [
        "import numpy as np\n",
        "import matplotlib.pyplot as plt\n",
        "\n",
        "x = np.linspace(-10, 10, 100) \n",
        "y = 1/(1+np.exp(-x))\n",
        "plt.plot(x, y, color = 'red') \n",
        "plt.title(\"Logistic Function\")\n",
        "plt.xlabel(\"X\")\n",
        "plt.ylabel(\"Y\")\n",
        "plt.show()"
      ],
      "metadata": {
        "colab": {
          "base_uri": "https://localhost:8080/",
          "height": 295
        },
        "id": "dcd3nP7SMOA1",
        "outputId": "a9253047-deee-4eb8-9bab-d31942e4ffd7"
      },
      "execution_count": 1,
      "outputs": [
        {
          "output_type": "display_data",
          "data": {
            "text/plain": [
              "<Figure size 432x288 with 1 Axes>"
            ],
            "image/png": "[encoded data removed]"
          },
          "metadata": {
            "needs_background": "light"
          }
        }
      ]
    },
    {
      "cell_type": "markdown",
      "source": [
        "$$\n",
        "\\begin{align*}\n",
        "& \\mathrm{Activation \\ Function}: \\sigma(x) = \\frac{1}{1+e^{-(x)}} \\\\\n",
        "& \\mathrm{Model}: z = (\\sum^{n}_{i=1}w_{i}x_{i})+ b = W^{T}\\cdot x + b⇒ ŷ = \\sigma(z) = \\frac{1}{1+e^{-(W^{T}\\cdot x + b)}}\\\\\n",
        "&\\mathrm{Loss \\ Function}: L_{CE}(y^{̂},y) = \\frac{1}{m}\\sum_{i=1}^{m}y \\log(ŷ) + (1-y) \\log(1-ŷ) \\\\\n",
        "\\end{align*}\n",
        "$$"
      ],
      "metadata": {
        "id": "Xsk4rUxgLfJz"
      }
    },
    {
      "cell_type": "markdown",
      "source": [
        "$$\\begin{align*}  \n",
        "&\\frac{\\partial L_{CE}(y^{̂},y)}{\\partial W}= \\frac{1}{m}\\sum_{i=1}^{m}(ŷ-y)x_{i}^{T}\\\\\n",
        "&\\frac{\\partial L_{CE}(y^{̂},y)}{\\partial b}= \\frac{1}{m}\\sum_{i=1}^{m}(ŷ-y) \\\\\n",
        "\\end{align*}\n",
        "$$"
      ],
      "metadata": {
        "id": "XKwOPdQfY3vd"
      }
    },
    {
      "cell_type": "markdown",
      "source": [
        "### **Dataset Initialization**"
      ],
      "metadata": {
        "id": "TEzCa_vjo2rs"
      }
    },
    {
      "cell_type": "code",
      "source": [
        "import numpy as np\n",
        "import matplotlib.pyplot as plt\n",
        "from sklearn.model_selection import train_test_split"
      ],
      "metadata": {
        "id": "gckyaoj6OIJ3"
      },
      "execution_count": 85,
      "outputs": []
    },
    {
      "cell_type": "code",
      "source": [
        "np.random.seed(10)\n",
        "x_1, x_2 = np.random.rand(50, 1), np.random.rand(50, 1) + 0.9\n",
        "y_1, y_2 = 3 + 3 * x_1 + np.random.rand(50, 1), 3 + 3 * x_1 + np.random.rand(50, 1) \n",
        "class_1, class_2 = np.concatenate((x_1, y_1), axis=1), np.concatenate((x_2, y_2), axis=1)\n",
        "zeros, ones = np.zeros((50,1)), np.ones((50,1))\n",
        "x = np.concatenate((class_1, class_2), axis=0)\n",
        "y = np.concatenate((zeros, ones), axis=0)"
      ],
      "metadata": {
        "id": "sfcNL628aEnA"
      },
      "execution_count": 103,
      "outputs": []
    },
    {
      "cell_type": "code",
      "source": [
        "fig, ax = plt.subplots() \n",
        "ax.scatter(x_1,y_1) \n",
        "ax.scatter(x_2,y_2) \n",
        "ax.set_title('Logistic Regression Random Data')\n",
        "ax.set_xlabel('X') \n",
        "ax.set_ylabel('Y')"
      ],
      "metadata": {
        "colab": {
          "base_uri": "https://localhost:8080/",
          "height": 313
        },
        "id": "8eJ_ZPYbaxkP",
        "outputId": "a315e89f-1a1c-41fa-ebb6-bee90253a89c"
      },
      "execution_count": 104,
      "outputs": [
        {
          "output_type": "execute_result",
          "data": {
            "text/plain": [
              "Text(0, 0.5, 'Y')"
            ]
          },
          "metadata": {},
          "execution_count": 104
        },
        {
          "output_type": "display_data",
          "data": {
            "text/plain": [
              "<Figure size 432x288 with 1 Axes>"
            ],
            "image/png": "[encoded data removed]"
          },
          "metadata": {
            "needs_background": "light"
          }
        }
      ]
    },
    {
      "cell_type": "code",
      "source": [
        "x_train, x_test, y_train, y_test = train_test_split(x, y)"
      ],
      "metadata": {
        "id": "4SzBbnkVcuQD"
      },
      "execution_count": 105,
      "outputs": []
    },
    {
      "cell_type": "markdown",
      "source": [
        "### **Implementing Logistic Regression from scratch**"
      ],
      "metadata": {
        "id": "tcxmp5cLrlqz"
      }
    },
    {
      "cell_type": "code",
      "source": [
        "class LogisticRegressionUsingGD:\n",
        "    def __init__(self, learning_rate=0.0001, n_iterations=100):\n",
        "        self.learning_rate = learning_rate\n",
        "        self.n_iterations = n_iterations\n",
        "    \n",
        "    def Sigmoid(self, x):\n",
        "        return 1/(1+np.exp(-x))\n",
        "    \n",
        "    def Cross_Entropy(self, y_pred, y):\n",
        "        return - np.sum(np.dot(y.T,np.log(y_pred))+ np.dot((1-y).T,np.log(1-y_pred))) / y.shape[0]\n",
        "    \n",
        "    def get_accuracy(self, y_pred, y):\n",
        "        return 1- (np.sum(np.abs(y_pred - y)) / y.shape[0])\n",
        "    \n",
        "    def fit(self, x, y):\n",
        "        self.iters, self.losses, self.accuracys = [], [], []\n",
        "        self.m = x.shape[0]\n",
        "        self.weights = np.zeros((x.shape[1]+1,1))\n",
        "        self.new_x = np.concatenate((np.ones((self.m,1)),x), axis=1)\n",
        "\n",
        "        # initial data\n",
        "        initial_loss = self.Cross_Entropy(self.Sigmoid(np.dot(self.new_x, self.weights)), y)\n",
        "        intial_acc = self.get_accuracy(self.predict(x), y)\n",
        "        self.iters.append(0)\n",
        "        self.losses.append(initial_loss)\n",
        "        self.accuracys.append(intial_acc)\n",
        "\n",
        "        # Train\n",
        "        for i in range(1,self.n_iterations):\n",
        "            x_dot_w = np.dot(self.new_x, self.weights)\n",
        "            y_hat = self.Sigmoid(x_dot_w)\n",
        "            residuals = y_hat - y \n",
        "            gradient_vector = np.dot(self.new_x.T, residuals)\n",
        "            self.weights -= (self.learning_rate / self.m) * gradient_vector\n",
        "            loss = self.Cross_Entropy(y_hat, y)\n",
        "            y_pred = self.predict(x)\n",
        "            accuracy = self.get_accuracy(y_pred, y)\n",
        "            self.iters.append(i)\n",
        "            self.losses.append(loss)\n",
        "            self.accuracys.append(accuracy)\n",
        "\n",
        "        self.plot_curve()\n",
        "        return self\n",
        "    \n",
        "    def predict(self, x):\n",
        "        new_x = np.concatenate((np.ones((x.shape[0],1)),x), axis=1)\n",
        "        x_dot_w = np.dot(new_x, self.weights)\n",
        "        y_pred = self.Sigmoid(x_dot_w)\n",
        "        y_pred[y_pred >= 0.5] = 1\n",
        "        y_pred[y_pred < 0.5] = 0\n",
        "        return y_pred\n",
        "    \n",
        "    def plot_curve(self):\n",
        "        plt.title(\"Training Curve\")\n",
        "        plt.plot(self.iters, self.losses, label=\"Train\")\n",
        "        plt.xlabel(\"Iterations\")\n",
        "        plt.ylabel(\"Loss\")\n",
        "        plt.show()\n",
        "\n",
        "        print(\"Final Training Loss: {}\".format(self.losses[-1]))\n",
        "\n",
        "        plt.title(\"Training Curve\")\n",
        "        plt.plot(self.iters, self.accuracys, label=\"Train\")\n",
        "        plt.xlabel(\"Iterations\")\n",
        "        plt.ylabel(\"Accuracys\")\n",
        "        plt.show()\n",
        "\n",
        "        print(\"Final Training Accuracy: {}\".format(self.accuracys[-1]))"
      ],
      "metadata": {
        "id": "lwfpkCgXa5iS"
      },
      "execution_count": 116,
      "outputs": []
    },
    {
      "cell_type": "code",
      "source": [
        "# Model initialization\n",
        "Logistic_Regression_GD = LogisticRegressionUsingGD()\n",
        "# Fit the data(train the model)\n",
        "train_model = Logistic_Regression_GD.fit(x_train, y_train)"
      ],
      "metadata": {
        "colab": {
          "base_uri": "https://localhost:8080/",
          "height": 609
        },
        "id": "vwrziyKdKOkQ",
        "outputId": "ed2d51ce-437e-4430-ba0d-802f6c2c73a0"
      },
      "execution_count": 117,
      "outputs": [
        {
          "output_type": "display_data",
          "data": {
            "text/plain": [
              "<Figure size 432x288 with 1 Axes>"
            ],
            "image/png": "[encoded data removed]"
          },
          "metadata": {
            "needs_background": "light"
          }
        },
        {
          "output_type": "stream",
          "name": "stdout",
          "text": [
            "Final Training Loss: 0.6926807176485862\n"
          ]
        },
        {
          "output_type": "display_data",
          "data": {
            "text/plain": [
              "<Figure size 432x288 with 1 Axes>"
            ],
            "image/png": "[encoded data removed]"
          },
          "metadata": {
            "needs_background": "light"
          }
        },
        {
          "output_type": "stream",
          "name": "stdout",
          "text": [
            "Final Training Accuracy: 0.9733333333333334\n"
          ]
        }
      ]
    },
    {
      "cell_type": "code",
      "source": [
        "y_test_pred = Logistic_Regression_GD.predict(x_test)\n",
        "test_accuracy = Logistic_Regression_GD.get_accuracy(y_test_pred, y_test)\n",
        "print(\"Test Accuracy:\", test_accuracy)"
      ],
      "metadata": {
        "colab": {
          "base_uri": "https://localhost:8080/"
        },
        "id": "D0V_rhvhKcKL",
        "outputId": "7487ffcc-6c16-405b-dc98-e9e1e0acf21d"
      },
      "execution_count": 126,
      "outputs": [
        {
          "output_type": "stream",
          "name": "stdout",
          "text": [
            "Test Accuracy: 0.96\n"
          ]
        }
      ]
    },
    {
      "cell_type": "code",
      "source": [
        "# scatter plot points\n",
        "fig, ax = plt.subplots() \n",
        "ax.scatter(x_1,y_1, label='Class 1') \n",
        "ax.scatter(x_2,y_2, label='Class 2') \n",
        "\n",
        "# plot the Decision Boundary\n",
        "weight_0, weight_1, weight_2 = train_model.weights\n",
        "intercept, slope = -weight_0/weight_2, -weight_1/weight_2\n",
        "xd = np.array([0, 2])\n",
        "yd = slope*xd + intercept\n",
        "plt.plot(xd, yd, color='red', label='Decision Boundary')\n",
        "ax.set_ylim(3,7)\n",
        "\n",
        "ax.set_title('Logistic Regression Random Data')\n",
        "ax.set_xlabel('X') \n",
        "ax.set_ylabel('Y')\n",
        "plt.legend()"
      ],
      "metadata": {
        "colab": {
          "base_uri": "https://localhost:8080/",
          "height": 313
        },
        "id": "dz-bvvGNPBwi",
        "outputId": "03deed8f-a577-4ed1-b0f8-caf53eac08dc"
      },
      "execution_count": 125,
      "outputs": [
        {
          "output_type": "execute_result",
          "data": {
            "text/plain": [
              "<matplotlib.legend.Legend at 0x7ff1ed7aa9a0>"
            ]
          },
          "metadata": {},
          "execution_count": 125
        },
        {
          "output_type": "display_data",
          "data": {
            "text/plain": [
              "<Figure size 432x288 with 1 Axes>"
            ],
            "image/png": "[encoded data removed]"
          },
          "metadata": {
            "needs_background": "light"
          }
        }
      ]
    },
    {
      "cell_type": "markdown",
      "source": [
        "### **Implementing Linear Regression from Scikit-learn**"
      ],
      "metadata": {
        "id": "-Nzxb6nDjJ1Z"
      }
    },
    {
      "cell_type": "code",
      "source": [
        "from sklearn import metrics \n",
        "from sklearn.linear_model import LogisticRegression"
      ],
      "metadata": {
        "id": "jvaMeU7MUPCg"
      },
      "execution_count": 127,
      "outputs": []
    },
    {
      "cell_type": "code",
      "source": [
        "logistic_regression = LogisticRegression()\n",
        "logistic_regression.fit(x_train,y_train)\n",
        "y_pred = logistic_regression.predict(x_test)"
      ],
      "metadata": {
        "id": "OPnWkyCvUWu0"
      },
      "execution_count": null,
      "outputs": []
    },
    {
      "cell_type": "code",
      "source": [
        "accuracy = metrics.accuracy_score(y_test, y_pred)\n",
        "accuracy_percentage = 100 * accuracy\n",
        "accuracy_percentage"
      ],
      "metadata": {
        "colab": {
          "base_uri": "https://localhost:8080/"
        },
        "id": "E1h_P4LLUYoW",
        "outputId": "ab3943c4-653e-4f43-e5cd-2063d7e838e3"
      },
      "execution_count": 129,
      "outputs": [
        {
          "output_type": "execute_result",
          "data": {
            "text/plain": [
              "92.0"
            ]
          },
          "metadata": {},
          "execution_count": 129
        }
      ]
    },
    {
      "cell_type": "code",
      "source": [
        "# scatter plot points\n",
        "fig, ax = plt.subplots() \n",
        "ax.scatter(x_1,y_1, label='Class 1') \n",
        "ax.scatter(x_2,y_2, label='Class 2') \n",
        "\n",
        "# plot the Decision Boundary\n",
        "beta_1, beta_2 =logistic_regression.coef_.T\n",
        "beta_0 = logistic_regression.intercept_[0]\n",
        "\n",
        "# Calculate the intercept and gradient of the decision boundary.\n",
        "c = -beta_0/beta_2\n",
        "m = -beta_1/beta_2\n",
        "\n",
        "xd = np.array([0, 2])\n",
        "yd = m*xd + c\n",
        "plt.plot(xd, yd, color='red', label='Decision Boundary')\n",
        "ax.set_ylim(3,7)\n",
        "\n",
        "ax.set_title('Logistic Regression Random Data')\n",
        "ax.set_xlabel('X') \n",
        "ax.set_ylabel('Y')\n",
        "plt.legend()"
      ],
      "metadata": {
        "colab": {
          "base_uri": "https://localhost:8080/",
          "height": 313
        },
        "id": "irXCgY-9vo4y",
        "outputId": "75ecb45e-df5a-453c-e455-185e2f856699"
      },
      "execution_count": 131,
      "outputs": [
        {
          "output_type": "execute_result",
          "data": {
            "text/plain": [
              "<matplotlib.legend.Legend at 0x7ff1ed602b80>"
            ]
          },
          "metadata": {},
          "execution_count": 131
        },
        {
          "output_type": "display_data",
          "data": {
            "text/plain": [
              "<Figure size 432x288 with 1 Axes>"
            ],
            "image/png": "[encoded data removed]"
          },
          "metadata": {
            "needs_background": "light"
          }
        }
      ]
    },
    {
      "cell_type": "code",
      "source": [
        "%%shell\n",
        "jupyter nbconvert --to html ML_Algorithms_Logistic_Regression.ipynb"
      ],
      "metadata": {
        "colab": {
          "base_uri": "https://localhost:8080/"
        },
        "id": "0C4_KA2CToLS",
        "outputId": "d1bfc6e8-8f57-460a-df84-f9e435820945"
      },
      "execution_count": 134,
      "outputs": [
        {
          "output_type": "stream",
          "name": "stdout",
          "text": [
            "[NbConvertApp] Converting notebook ML_Algorithms_Logistic_Regression.ipynb to html\n",
            "[NbConvertApp] Writing 410696 bytes to ML_Algorithms_Logistic_Regression.html\n"
          ]
        },
        {
          "output_type": "execute_result",
          "data": {
            "text/plain": []
          },
          "metadata": {},
          "execution_count": 134
        }
      ]
    }
  ]
}