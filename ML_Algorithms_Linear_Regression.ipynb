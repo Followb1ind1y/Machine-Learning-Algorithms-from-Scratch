{
  "cells": [
    {
      "cell_type": "markdown",
      "metadata": {
        "colab_type": "text",
        "id": "view-in-github"
      },
      "source": [
        "<a href=\"https://colab.research.google.com/github/Followb1ind1y/Machine_Learning_Algorithms/blob/main/ML_Algorithms_Linear_Regression.ipynb\" target=\"_parent\"><img src=\"https://colab.research.google.com/assets/colab-badge.svg\" alt=\"Open In Colab\"/></a>"
      ]
    },
    {
      "cell_type": "markdown",
      "metadata": {
        "id": "IcQieWIdoRMA"
      },
      "source": [
        "# **Machine Learning Algorithms: Linear Regression**\n"
      ]
    },
    {
      "attachments": {},
      "cell_type": "markdown",
      "metadata": {
        "id": "2DwiyV5IpBPB"
      },
      "source": [
        "## **Linear Regression Basics**\n",
        "\n",
        "**Regression** is a method of modelling a target value based on independent predictors. This method is mostly used for forecasting and finding out **cause and effect relationship between variables**. Regression techniques mostly differ based on the number of independent variables and the type of relationship between the independent and dependent variables. Regression problems usually have one continuous and unbounded dependent variable. The inputs, however, can be continuous, discrete, or even categorical data.\n",
        "\n",
        "**Linear Regression** with multiple variables is also known as **“multivariate linear regression”**. The multivariable form of the hypothesis function accommodating these multiple features is as follows:\n"
      ]
    },
    {
      "cell_type": "markdown",
      "metadata": {
        "id": "Xsk4rUxgLfJz"
      },
      "source": [
        "$$\n",
        "\\begin{align*}&\\mathrm{Hypothesis}: h_{\\theta}(x) = \\theta_{0} + \\theta_{1}x_{1} + \\theta_{2}x_{2} + \\theta_{3}x_{3} + \\cdot\\cdot\\cdot + \\theta_{n}x_{n} \\\\&\\mathrm{Cost \\ Function}: J(\\theta) = \\frac{1}{2m}\\sum_{i=1}^{m}(h_{\\theta}(x^{(i)})-y^{(i)})^2 \\\\&\\mathrm{Goal}: \\min_{\\theta}J(\\theta) \\\\\\end{align*}\n",
        "$$"
      ]
    },
    {
      "attachments": {},
      "cell_type": "markdown",
      "metadata": {
        "id": "AVw1Ho3gFOAo"
      },
      "source": [
        "## **Gradient Descent for Linear Regression**\n",
        "\n",
        "Gradient descent is a generic optimization algorithm used in many machine learning algorithms. It iteratively tweaks the parameters of the model in order to minimize the cost function. We do this is by taking the **derivative** (the tangential line to a function) of our cost function. The slope of the tangent is the derivative at that point and it will give us a direction to move towards. We make steps down the cost function in the direction with the steepest descent. The size of each step is determined by the parameter **$\\alpha$**, which is called the **learning rate**. The **gradient descent algorithm** can be represented as:"
      ]
    },
    {
      "cell_type": "markdown",
      "metadata": {
        "id": "uqlFMekFF19U"
      },
      "source": [
        "$$\\begin{align*}  \n",
        "&\\frac{\\partial J(\\theta)}{\\partial \\theta_{0}}= \\frac{1}{m}\\sum_{i=1}^{m}(h_{\\theta}(x^{(i)})-y^{(i)}) \\\\\n",
        "&\\frac{\\partial J(\\theta)}{\\partial \\theta_{j}}= \\frac{1}{m}\\sum_{i=1}^{m}(h_{\\theta}(x^{(i)})-y^{(i)})x_{j}^{(i)} \\\\\n",
        "\\end{align*}\n",
        "$$"
      ]
    },
    {
      "cell_type": "markdown",
      "metadata": {
        "id": "wNOak6y8F6TK"
      },
      "source": [
        "$$\n",
        "\\begin{bmatrix}\n",
        "\\theta_{0} \\\\\n",
        "\\theta_{1} \\\\\n",
        "\\cdot\\cdot\\cdot \\\\\n",
        "\\theta_{n}\n",
        "\\end{bmatrix}\n",
        "= \n",
        "\\begin{bmatrix}\n",
        "\\theta_{0} \\\\\n",
        "\\theta_{1} \\\\\n",
        "\\cdot\\cdot\\cdot \\\\\n",
        "\\theta_{n}\n",
        "\\end{bmatrix} \n",
        "-\n",
        "\\alpha\n",
        "\\begin{bmatrix}\n",
        "\\frac{\\partial J(\\theta)}{\\partial \\theta_{0}} \\\\\n",
        "\\frac{\\partial J(\\theta)}{\\partial \\theta_{1}} \\\\\n",
        "\\cdot\\cdot\\cdot \\\\\n",
        "\\frac{\\partial J(\\theta)}{\\partial \\theta_{n}}\n",
        "\\end{bmatrix}\n",
        "$$"
      ]
    },
    {
      "cell_type": "markdown",
      "metadata": {
        "id": "laU-yNy6GBxG"
      },
      "source": [
        "$$\\begin{align*}  \n",
        "&repect\\ until \\ convergence\\{ \\\\\n",
        "&\\ \\ \\ \\ \\theta_{j} :=\\theta_{j} - \\alpha\\frac{1}{m}\\sum_{i=1}^{m}(h_{\\theta}(x^{(i)})-y^{(i)})x_{j}^{(i)}) \\ \\ \\ \\ for \\ j := 0 \\cdot\\cdot\\cdot n \\\\\n",
        "&\\} \\\\\n",
        "\\end{align*}\n",
        "$$"
      ]
    },
    {
      "cell_type": "markdown",
      "metadata": {
        "id": "hr30u-4-GKBL"
      },
      "source": [
        "We should adjust our parameter $\\alpha$ to ensure that the gradient descent algorithm converges in a reasonable time. **If $\\alpha$ is too small**, gradient descent can be slow. **If $\\alpha$ is too large**, gradient descent can overshoot the minimum. It may fail to converge, or even diverge. Failure to converge or too much time to obtain the minimum value imply that our step size is wrong."
      ]
    },
    {
      "attachments": {},
      "cell_type": "markdown",
      "metadata": {
        "id": "cqXBx2XaGctv"
      },
      "source": [
        "## **Evaluation Metrics for Linear Regression**\n",
        "\n",
        "We can use **Mean squared error(MSE)** and **Root mean squared error(RMSE)** to evaluate our model. The Mean Squared Error (MSE) of an estimator measures the average of error squares i.e. the average squared difference between the estimated values and true value. MSE is defined by:\n",
        "\n"
      ]
    },
    {
      "cell_type": "markdown",
      "metadata": {
        "id": "MWKqwIIjLkA8"
      },
      "source": [
        "$$ MSE = \\frac{1}{m}\\sum_{i=1}^{m}(h(x^{(i)})-y^{(i)})^2$$"
      ]
    },
    {
      "cell_type": "markdown",
      "metadata": {
        "id": "n4gby4zgLmIT"
      },
      "source": [
        "RMSE is the square root of the average of the sum of the squares of residuals. RMSE is defined by:"
      ]
    },
    {
      "cell_type": "markdown",
      "metadata": {
        "id": "LnkROLxgLn8p"
      },
      "source": [
        "\n",
        "$$ RMSE = \\sqrt{\\frac{1}{m}\\sum_{i=1}^{m}(h(x^{(i)})-y^{(i)})^2}$$"
      ]
    },
    {
      "attachments": {},
      "cell_type": "markdown",
      "metadata": {
        "id": "TEzCa_vjo2rs"
      },
      "source": [
        "## **Dataset Initialization**"
      ]
    },
    {
      "cell_type": "code",
      "execution_count": 2,
      "metadata": {
        "id": "AuGSGmD6niYS"
      },
      "outputs": [],
      "source": [
        "import numpy as np\n",
        "import matplotlib.pyplot as plt"
      ]
    },
    {
      "cell_type": "code",
      "execution_count": 3,
      "metadata": {
        "id": "Hs3J6bsFqkeT"
      },
      "outputs": [],
      "source": [
        "np.random.seed(10)\n",
        "x = np.random.rand(100, 1)\n",
        "y = 2 + 3 * x + np.random.rand(100, 1)"
      ]
    },
    {
      "cell_type": "code",
      "execution_count": 4,
      "metadata": {
        "colab": {
          "base_uri": "https://localhost:8080/",
          "height": 313
        },
        "id": "3iQgwDa1rBzR",
        "outputId": "629b2058-68dd-48bf-d6e2-bf78e5938129"
      },
      "outputs": [
        {
          "data": {
            "text/plain": [
              "Text(0, 0.5, 'Y')"
            ]
          },
          "execution_count": 4,
          "metadata": {},
          "output_type": "execute_result"
        },
        {
          "data": {
            "image/png": "[encoded data removed]",
            "text/plain": [
              "<Figure size 432x288 with 1 Axes>"
            ]
          },
          "metadata": {
            "needs_background": "light"
          },
          "output_type": "display_data"
        }
      ],
      "source": [
        "fig, ax = plt.subplots()\n",
        "ax.scatter(x, y)\n",
        "ax.set_title('Linear Regression Random Data')\n",
        "ax.set_xlabel('X')\n",
        "ax.set_ylabel('Y')"
      ]
    },
    {
      "attachments": {},
      "cell_type": "markdown",
      "metadata": {
        "id": "tcxmp5cLrlqz"
      },
      "source": [
        "## **Implementing Linear Regression from scratch**\n",
        "\n"
      ]
    },
    {
      "cell_type": "code",
      "execution_count": 5,
      "metadata": {
        "id": "on7B7eRbrWeV"
      },
      "outputs": [],
      "source": [
        "class LinearRegressionUsingGD:\n",
        "    def __init__(self, learning_rate=0.05, n_iterations=1000):\n",
        "        self.learning_rate = learning_rate\n",
        "        self.n_iterations = n_iterations\n",
        "    \n",
        "    def MSE(self, x, y):\n",
        "        return np.square(np.subtract(x,y)).mean()\n",
        "    \n",
        "    def fit(self, x, y):\n",
        "        self.iters, self.losses = [], []\n",
        "        self.m = x.shape[0]\n",
        "        self.theta = np.zeros((x.shape[1]+1,1))\n",
        "        self.new_x = np.concatenate((np.ones((100,1)),x), axis=1)\n",
        "\n",
        "        for i in range(self.n_iterations):\n",
        "            y_pred = np.dot(self.new_x, self.theta) # h_{\\theta}(x)\n",
        "            residuals = y_pred - y # (h_{\\theta}(x) - y)\n",
        "            gradient_vector = np.dot(self.new_x.T, residuals) # x^{T}.(h_{\\theta}(x) - y)\n",
        "            self.theta -= (self.learning_rate / self.m) * gradient_vector\n",
        "            loss = np.sum((residuals ** 2)) / (2 * self.m) # cost function (1/2m).sum(h_{\\theta}(x) - y)^2)\n",
        "            self.iters.append(i)\n",
        "            self.losses.append(loss)\n",
        "\n",
        "        self.plot_curve()\n",
        "        print(\"Final MSE: {}\".format(self.MSE(self.predict(x),y)))\n",
        "        print(\"Slope:\", self.theta[1:])\n",
        "        print(\"Intercept:\", self.theta[:1])\n",
        "    \n",
        "    def predict(self, x):\n",
        "        return np.dot(self.new_x, self.theta)\n",
        "    \n",
        "    def plot_curve(self):\n",
        "        plt.title(\"Training Curve\")\n",
        "        plt.plot(self.iters, self.losses, label=\"Train\")\n",
        "        plt.xlabel(\"Iterations\")\n",
        "        plt.ylabel(\"Loss\")\n",
        "        plt.show()\n",
        "\n",
        "        print(\"Final Training Loss: {}\".format(self.losses[-1]))"
      ]
    },
    {
      "cell_type": "code",
      "execution_count": 6,
      "metadata": {
        "colab": {
          "base_uri": "https://localhost:8080/",
          "height": 366
        },
        "id": "WAxyRsLzUXrP",
        "outputId": "e6292fe4-4dd1-4cc5-f586-1fd2c8ccec2c"
      },
      "outputs": [
        {
          "data": {
            "image/png": "[encoded data removed]",
            "text/plain": [
              "<Figure size 432x288 with 1 Axes>"
            ]
          },
          "metadata": {
            "needs_background": "light"
          },
          "output_type": "display_data"
        },
        {
          "name": "stdout",
          "output_type": "stream",
          "text": [
            "Final Training Loss: 0.03743135871093361\n",
            "Final MSE: 0.0748452010424157\n",
            "Slope: [[2.8674393]]\n",
            "Intercept: [[2.52497525]]\n"
          ]
        }
      ],
      "source": [
        "# Model initialization\n",
        "Linear_Regression_GD = LinearRegressionUsingGD(learning_rate=0.5, n_iterations=100)\n",
        "# Fit the data(train the model)\n",
        "Linear_Regression_GD.fit(x, y)\n",
        "# Predict\n",
        "y_pred = Linear_Regression_GD.predict(x)"
      ]
    },
    {
      "cell_type": "code",
      "execution_count": 7,
      "metadata": {
        "colab": {
          "base_uri": "https://localhost:8080/",
          "height": 313
        },
        "id": "dzCf3YKGUYhY",
        "outputId": "426239a2-c296-4885-f59f-9ce703e294db"
      },
      "outputs": [
        {
          "data": {
            "text/plain": [
              "<matplotlib.legend.Legend at 0x7f9c79169400>"
            ]
          },
          "execution_count": 7,
          "metadata": {},
          "output_type": "execute_result"
        },
        {
          "data": {
            "image/png": "[encoded data removed]",
            "text/plain": [
              "<Figure size 432x288 with 1 Axes>"
            ]
          },
          "metadata": {
            "needs_background": "light"
          },
          "output_type": "display_data"
        }
      ],
      "source": [
        "fig, ax = plt.subplots()\n",
        "ax.scatter(x, y, label='Data Point')\n",
        "plt.plot(x, y_pred, color='red', label='Linear Regression')\n",
        "ax.set_title('Linear Regression Random Data')\n",
        "ax.set_xlabel('X')\n",
        "ax.set_ylabel('Y')\n",
        "plt.legend()"
      ]
    },
    {
      "attachments": {},
      "cell_type": "markdown",
      "metadata": {
        "id": "-Nzxb6nDjJ1Z"
      },
      "source": [
        "## **Implementing Linear Regression from Scikit-learn**"
      ]
    },
    {
      "cell_type": "code",
      "execution_count": 8,
      "metadata": {
        "id": "E_rjFO-yVzNt"
      },
      "outputs": [],
      "source": [
        "from sklearn.linear_model import LinearRegression\n",
        "from sklearn.metrics import mean_squared_error"
      ]
    },
    {
      "cell_type": "code",
      "execution_count": 9,
      "metadata": {
        "colab": {
          "base_uri": "https://localhost:8080/"
        },
        "id": "TqcK-Q_sjS1h",
        "outputId": "dcbf0826-8470-4783-e26b-907a8821030c"
      },
      "outputs": [
        {
          "name": "stdout",
          "output_type": "stream",
          "text": [
            "Slope: [[2.92754349]]\n",
            "Intercept: [2.49392672]\n",
            "Mean squared error:  0.07456852793404223\n"
          ]
        }
      ],
      "source": [
        "# Model initialization\n",
        "regression_model = LinearRegression()\n",
        "# Fit the data(train the model)\n",
        "regression_model.fit(x, y)\n",
        "# Predict\n",
        "y_predicted = regression_model.predict(x)\n",
        "\n",
        "# model evaluation\n",
        "mse = mean_squared_error(y, y_predicted)\n",
        "\n",
        "# printing values\n",
        "print('Slope:' ,regression_model.coef_)\n",
        "print('Intercept:', regression_model.intercept_)\n",
        "print('Mean squared error: ', mse)"
      ]
    },
    {
      "cell_type": "code",
      "execution_count": 10,
      "metadata": {
        "colab": {
          "base_uri": "https://localhost:8080/",
          "height": 313
        },
        "id": "C67GsoX7jaFN",
        "outputId": "0edfbd23-6935-44ca-c1d4-531f1ad82ac2"
      },
      "outputs": [
        {
          "data": {
            "text/plain": [
              "<matplotlib.legend.Legend at 0x7f9c71613730>"
            ]
          },
          "execution_count": 10,
          "metadata": {},
          "output_type": "execute_result"
        },
        {
          "data": {
            "image/png": "[encoded data removed]",
            "text/plain": [
              "<Figure size 432x288 with 1 Axes>"
            ]
          },
          "metadata": {
            "needs_background": "light"
          },
          "output_type": "display_data"
        }
      ],
      "source": [
        "fig, ax = plt.subplots()\n",
        "ax.scatter(x, y, label='Data Point')\n",
        "plt.plot(x, y_predicted, color='red', label='Scikit-learn Linear Regression')\n",
        "ax.set_title('Linear Regression Random Data')\n",
        "ax.set_xlabel('X')\n",
        "ax.set_ylabel('Y')\n",
        "plt.legend()"
      ]
    },
    {
      "cell_type": "code",
      "execution_count": 11,
      "metadata": {
        "colab": {
          "base_uri": "https://localhost:8080/"
        },
        "id": "8uiPYdvRkA3j",
        "outputId": "960f172b-20d0-454c-9bb9-dcddac459cb7"
      },
      "outputs": [
        {
          "name": "stdout",
          "output_type": "stream",
          "text": [
            "[NbConvertApp] Converting notebook ML_Algorithms_Linear_Regression.ipynb to html\n",
            "[NbConvertApp] Writing 363742 bytes to ML_Algorithms_Linear_Regression.html\n"
          ]
        },
        {
          "data": {
            "text/plain": []
          },
          "execution_count": 11,
          "metadata": {},
          "output_type": "execute_result"
        }
      ],
      "source": [
        "%%shell\n",
        "jupyter nbconvert --to html ML_Algorithms_Linear_Regression.ipynb"
      ]
    }
  ],
  "metadata": {
    "colab": {
      "authorship_tag": "ABX9TyNaKoEhqi5r19pECsFqM/Ka",
      "include_colab_link": true,
      "provenance": []
    },
    "kernelspec": {
      "display_name": "Python 3",
      "language": "python",
      "name": "python3"
    },
    "language_info": {
      "name": "python",
      "version": "3.8.2 (default, Dec 21 2020, 15:06:04) \n[Clang 12.0.0 (clang-1200.0.32.29)]"
    },
    "vscode": {
      "interpreter": {
        "hash": "31f2aee4e71d21fbe5cf8b01ff0e069b9275f58929596ceb00d14d90e3e16cd6"
      }
    }
  },
  "nbformat": 4,
  "nbformat_minor": 0
}
