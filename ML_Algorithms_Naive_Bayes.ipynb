{
  "nbformat": 4,
  "nbformat_minor": 0,
  "metadata": {
    "colab": {
      "provenance": [],
      "authorship_tag": "ABX9TyPc3zT1ByuJR3rZ07+iR6kd",
      "include_colab_link": true
    },
    "kernelspec": {
      "name": "python3",
      "display_name": "Python 3"
    },
    "language_info": {
      "name": "python"
    }
  },
  "cells": [
    {
      "cell_type": "markdown",
      "metadata": {
        "id": "view-in-github",
        "colab_type": "text"
      },
      "source": [
        "<a href=\"https://colab.research.google.com/github/Followb1ind1y/Machine_Learning_Algorithms_from_Scratch/blob/main/ML_Algorithms_Naive_Bayes.ipynb\" target=\"_parent\"><img src=\"https://colab.research.google.com/assets/colab-badge.svg\" alt=\"Open In Colab\"/></a>"
      ]
    },
    {
      "cell_type": "markdown",
      "source": [
        "# **Machine Learning Algorithms: Naive Bayes**"
      ],
      "metadata": {
        "id": "xKl7Gk-MSFC_"
      }
    },
    {
      "cell_type": "markdown",
      "source": [
        "## **Naive Bayes Basics**\n",
        "\n",
        "**Naive Bayes** classifiers are linear classifiers that are known for being simple yet very efficient. The probabilistic model of naive Bayes classifiers is based on **Bayes' theorem**, and the adjective naive comes from the assumption that **the features in a dataset are mutually independent**. In practice, the independence assumption is often violated, but naive Bayes classifiers still tend to perform very well under this unrealistic assumption. Especially for small sample sizes, naive Bayes classifiers can outperform the more powerful alternatives. However, **strong violations of the independence assumptions** and **non-linear classification problems** can lead to very **poor performances** of naive Bayes classifiers."
      ],
      "metadata": {
        "id": "033zsWi-SLKc"
      }
    },
    {
      "cell_type": "markdown",
      "source": [
        "From Bayes' Rule, we have:\n",
        "\n",
        "$$\n",
        "P(Y=k|X=x) = \\frac{p(X=x|Y=k)P(Y=k)}{P(X=x)} = \\frac{\\pi_{k}f_{k}(x)}{\\sum_{l=1}^{K}\\pi_{l}f_{l}(x)}\n",
        "$$\n",
        "\n",
        "Where density is $f_{k}(X) = P(X=x|Y=k)$ and prior probability of class $k$ is $\\pi_{k} = P(Y=k)$."
      ],
      "metadata": {
        "id": "_UkJy9mhTuY-"
      }
    },
    {
      "cell_type": "markdown",
      "source": [
        "Conditional on class $k$, assume the variables $x_{j}$ are independent:\n",
        "\n",
        "$$\n",
        "f_{k}(x)= \\prod_{j=1}^{p}f_{kj}(x_{j})\n",
        "$$\n",
        "\n",
        "Where $p$ is the number of $x$‐variables.\n"
      ],
      "metadata": {
        "id": "AriT05WHT6Av"
      }
    },
    {
      "cell_type": "markdown",
      "source": [
        "Plugging the density into Bayes rule, we obtain:\n",
        "\n",
        "$$\n",
        "P(Y=k|X=x) = \\frac{\\pi_{k}f_{k}(x)}{\\sum_{l=1}^{K}\\pi_{l}f_{l}(x)}=\\frac{\\pi_{k}\\prod_{j=1}^{p}f_{kj}(x_{j})}{\\sum_{l=1}^{K}\\pi_{l}\\prod_{j=1}^{p}f_{lj}(x_{j})}\n",
        "$$"
      ],
      "metadata": {
        "id": "1mqgYJvrUicj"
      }
    },
    {
      "cell_type": "markdown",
      "source": [
        "The denominator does not depend on class $k$. It is a constant. To find the class that maximizes the posterior probability, we can ignore the denominator:\n",
        "\n",
        "$$\n",
        "P(Y=k|X=x) \\propto \\pi_{k}\\prod_{j=1}^{p}f_{kj}(x_{j})\n",
        "$$\n",
        "\n",
        "Where $j=1,...,p$ indexes x‐variables."
      ],
      "metadata": {
        "id": "MavJ4mDrUm7z"
      }
    },
    {
      "cell_type": "markdown",
      "source": [
        "Typically, estimate the prior probability as the fraction of time the class occurs in the training data:\n",
        "\n",
        "$$\n",
        "\\pi_{k} = P(Y=k) = \\frac{n_{k}}{n}\n",
        "$$\n",
        "\n",
        "Estimate the probability as:\n",
        "\n",
        "$$\n",
        "f_{kj}(x_{j}) = P(X_{j}=x_{j}|Y=k) = \\frac{n_{kj}}{n_{k}}\n",
        "$$\n",
        "\n",
        "Where $n_{k}$ is the number of obs in class $k$. Where $n_{kj}$ is the number of obs in class $k$ taking the value $x_{j}$"
      ],
      "metadata": {
        "id": "IuJf5aqMVFAS"
      }
    },
    {
      "cell_type": "markdown",
      "source": [
        "Predict the class $k$ that maximizes the posterior probability (**Decision rule**):\n",
        "\n",
        "$$\n",
        "h(x) = \\arg\\max_{k}(P(Y=k)\\prod_{j=1}^{p}P(X_{j}=x_{j}|Y=k) = argmax_{k}(\\pi_{k}\\prod_{j=1}^{p}f_{kj}(x_{j}))\n",
        "$$\n",
        "\n",
        "When there are many $x$‐variables, multiplying many small probabilities may result in an \"underflow\". Numerically, all posterior probabilities are 0. It is unclear which 0 is \"largest\". We can take the log to avoid this problem. Because it is a monotone function, taking the log does not change which class $k$ gives the maximum posterior probability:\n",
        "\n",
        "$$\n",
        "h(x) = \\arg\\max_{k}(log(\\pi_{k}) + \\sum_{j=1}^{p}log[f_{kj}(x_{j})])\n",
        "$$"
      ],
      "metadata": {
        "id": "Mt23-S8bUsqW"
      }
    },
    {
      "cell_type": "markdown",
      "source": [
        "## **Gaussian Naive Bayes**\n",
        "\n",
        "Gaussian Naive Bayes classifier assumes that the likelihoods are Gaussian:\n",
        "\n",
        "$$\n",
        "f_{kj}(x_{j}) = P(X_{j}=x_{j}|Y=k) =\\frac{1}{\\sqrt{2\\pi\\sigma_{jk}^{2}}}exp[\\frac{-(x_{j}-\\mu_{jk})^{2}}{2\\sigma_{jk}}]\n",
        "$$\n",
        "\n",
        "Maximum likelihood estimate of parameters are:\n",
        "\n",
        "$$\n",
        "\\begin{align*}\n",
        "\\mu_{jk} &= \\frac{\\sum_{n=1}^{N}I[Y^{(n)}=k]\\cdot x_{j}^{(n)}}{\\sum_{n=1}^{N}I[Y^{(n)}=k]} \\\\\n",
        "\\sigma_{jk} &= \\frac{\\sum_{n=1}^{N}I[Y^{(n)}=k]\\cdot (x_{j}^{(n)}-\\mu_{jk})^{2}}{\\sum_{n=1}^{N}I[Y^{(n)}=k]} \\\\\n",
        "\\end{align*}\n",
        "$$"
      ],
      "metadata": {
        "id": "U7owTipcWF5u"
      }
    },
    {
      "cell_type": "markdown",
      "source": [
        "For any point $(x1,x2)$ we compute the Gaussian Naive Bayes objective function for each class :\n",
        "\n",
        "$$\n",
        "\\begin{align*}\n",
        "h(x) &= argmax_{k}[P(Y=k)\\prod_{j=1}^{2}P(X_{j}=x_{j}|Y=k)] \\\\\n",
        "&= argmax_{k}[P(X_{1}=x_{1}|Y=k)P(k)\\cdot P(X_{2}=x_{2}|Y=k)P(k)] \\\\\n",
        "&= argmax_{k}[\\phi(x_{1}|\\mu_{x_{1}|k},\\sigma_{x_{1}|k}^{2})P(k)\\cdot \\phi(x_{2}|\\mu_{x_{2}|k},\\sigma_{x_{2}|k}^{2})P(k)] \\\\\n",
        "\\end{align*}\n",
        "$$\n",
        "\n",
        "where $\\phi(x_{1}|\\mu_{x_{1}|k},\\sigma_{x_{1}|k}^{2})$ is the PDF of a Gaussian univariate distribution with parameters $\\mu_{x_{1}|k}$, $\\sigma_{x_{1}|k}^{2}$. Repeat this calculation for each class, and then predict the class which has the highest value."
      ],
      "metadata": {
        "id": "FJ13g2dMWkrq"
      }
    },
    {
      "cell_type": "markdown",
      "source": [
        "## **Dataset Initialization**"
      ],
      "metadata": {
        "id": "Ce4Y1WUlXQXy"
      }
    },
    {
      "cell_type": "code",
      "source": [
        "import numpy as np\n",
        "from sklearn.model_selection import train_test_split\n",
        "from sklearn import metrics\n",
        "import matplotlib.pyplot as plt\n",
        "%matplotlib inline"
      ],
      "metadata": {
        "id": "XNhgoJveSJo5"
      },
      "execution_count": 101,
      "outputs": []
    },
    {
      "cell_type": "code",
      "source": [
        "np.random.seed(0)\n",
        "\n",
        "# radius of the circle\n",
        "circle_r = 1\n",
        "\n",
        "# center of the circle (x, y)\n",
        "circle_x_1, circle_y_1 = 2, 3\n",
        "circle_x_2, circle_y_2 = 3, 1.5\n",
        "circle_x_3, circle_y_3 = 4.5, 2.5\n",
        "\n",
        "# random angle\n",
        "alpha_1 = 2 * np.math.pi * np.random.rand(50, 1) \n",
        "alpha_2 = 2 * np.math.pi * np.random.rand(50, 1) \n",
        "alpha_3 = 2 * np.math.pi * np.random.rand(50, 1) \n",
        "\n",
        "# random radius\n",
        "r_1 = circle_r * np.sqrt(np.random.rand(50, 1))\n",
        "r_2 = circle_r * np.sqrt(np.random.rand(50, 1))\n",
        "r_3 = circle_r * np.sqrt(np.random.rand(50, 1))\n",
        "\n",
        "# calculating coordinates\n",
        "x_1, y_1 = r_1 * np.cos(alpha_1) + circle_x_1, r_1 * np.sin(alpha_1) + circle_y_1\n",
        "x_2, y_2 = r_2 * np.cos(alpha_2) + circle_x_2, r_2 * np.sin(alpha_2) + circle_y_2\n",
        "x_3, y_3 = r_3 * np.cos(alpha_3) + circle_x_3, r_3 * np.sin(alpha_3) + circle_y_3"
      ],
      "metadata": {
        "id": "27p2CxIQXWvt"
      },
      "execution_count": 102,
      "outputs": []
    },
    {
      "cell_type": "code",
      "source": [
        "class_1, class_2, class_3 = np.concatenate((x_1, y_1), axis=1), np.concatenate((x_2, y_2), axis=1), np.concatenate((x_3, y_3), axis=1)\n",
        "zeros, ones, twos = np.zeros((50,1)), np.ones((50,1)), np.ones((50,1))*2\n",
        "x = np.concatenate((class_1, class_2, class_3), axis=0)\n",
        "y = np.concatenate((zeros, ones, twos), axis=0).ravel()"
      ],
      "metadata": {
        "id": "PGJdDYU_XbOE"
      },
      "execution_count": 103,
      "outputs": []
    },
    {
      "cell_type": "code",
      "source": [
        "fig, ax = plt.subplots() \n",
        "ax.scatter(x[:,0][y==0], x[:,1][y==0])\n",
        "ax.scatter(x[:,0][y==1], x[:,1][y==1])\n",
        "ax.scatter(x[:,0][y==2], x[:,1][y==2])\n",
        "ax.set_title('Random Data for Decision Tree')\n",
        "ax.set_xlabel('X') \n",
        "ax.set_ylabel('Y')"
      ],
      "metadata": {
        "colab": {
          "base_uri": "https://localhost:8080/",
          "height": 313
        },
        "id": "no3Li_2CXdqd",
        "outputId": "dfc97f67-a1a9-4e79-9c27-0feeed8bc5b8"
      },
      "execution_count": 104,
      "outputs": [
        {
          "output_type": "execute_result",
          "data": {
            "text/plain": [
              "Text(0, 0.5, 'Y')"
            ]
          },
          "metadata": {},
          "execution_count": 104
        },
        {
          "output_type": "display_data",
          "data": {
            "text/plain": [
              "<Figure size 432x288 with 1 Axes>"
            ],
            "image/png": "[encoded data removed]"
          },
          "metadata": {
            "needs_background": "light"
          }
        }
      ]
    },
    {
      "cell_type": "code",
      "source": [
        "x_train, x_test, y_train, y_test = train_test_split(x, y)"
      ],
      "metadata": {
        "id": "eYkZTtF1c1gw"
      },
      "execution_count": 105,
      "outputs": []
    },
    {
      "cell_type": "markdown",
      "source": [
        "## **Implementing Naive Bayes from scratch**"
      ],
      "metadata": {
        "id": "sSCUnyKXcu3k"
      }
    },
    {
      "cell_type": "code",
      "source": [
        "import scipy.stats\n",
        "from scipy.stats import norm"
      ],
      "metadata": {
        "id": "QiNLCNrce7Q2"
      },
      "execution_count": 106,
      "outputs": []
    },
    {
      "cell_type": "code",
      "source": [
        "class NaiveBayes:\n",
        "    def fit(self, x, y):\n",
        "        self.N = x.shape[0]\n",
        "        self.classes = len(set(y))\n",
        "        self.mu_list = [np.mean([x[:,][y == i] for i in range(len(set(y)))][j], axis=0) for j in range(len(set(y)))]\n",
        "        self.std_list = [np.std([x[:,][y == i] for i in range(len(set(y)))][j], axis=0) for j in range(len(set(y)))]\n",
        "        self.pi_list = np.array([np.sum(y == i) for i in range(self.classes)]) / self.N\n",
        "        \n",
        "    def predict_class(self, x):\n",
        "        scores_list = []\n",
        "        for p in range(self.classes):\n",
        "            score = (norm.pdf(x = x[0], loc = self.mu_list[p][0], scale = self.std_list[p][0]) \n",
        "            * norm.pdf(x = x[1], loc = self.mu_list[p][1], scale = self.std_list[p][1]) * self.pi_list[p])\n",
        "            scores_list.append(score)\n",
        "        return np.argmax(scores_list)\n",
        "    \n",
        "    def predict(self, x):\n",
        "        return np.array([self.predict_class(p) for p in x])"
      ],
      "metadata": {
        "id": "NvZXuBbvXgy9"
      },
      "execution_count": 107,
      "outputs": []
    },
    {
      "cell_type": "code",
      "source": [
        "NB = NaiveBayes()\n",
        "NB.fit(x_train,y_train)\n",
        "y_pred = NB.predict(x_test)\n",
        "accuracy = metrics.accuracy_score(y_test, y_pred)\n",
        "accuracy"
      ],
      "metadata": {
        "colab": {
          "base_uri": "https://localhost:8080/"
        },
        "id": "r4xIkzK4tvQK",
        "outputId": "8afb33ec-7cc4-40b2-d59f-f4040318a0a4"
      },
      "execution_count": 108,
      "outputs": [
        {
          "output_type": "execute_result",
          "data": {
            "text/plain": [
              "0.9736842105263158"
            ]
          },
          "metadata": {},
          "execution_count": 108
        }
      ]
    },
    {
      "cell_type": "code",
      "source": [
        "def visualize_classifier(model, X, y, ax=None, cmap='rainbow'):\n",
        "    ax = ax or plt.gca()\n",
        "\n",
        "    ax.scatter(X[:, 0], X[:, 1], c=y, s=30, cmap=cmap,\n",
        "               clim=(y.min(), y.max()), zorder=3)\n",
        "    ax.axis('tight')\n",
        "    ax.axis('off')\n",
        "    xlim = ax.get_xlim()\n",
        "    ylim = ax.get_ylim()\n",
        "\n",
        "    model.fit(X, y)\n",
        "    xx, yy = np.meshgrid(np.linspace(*xlim, num=200),\n",
        "                         np.linspace(*ylim, num=200))\n",
        "    Z = model.predict(np.c_[xx.ravel(), yy.ravel()]).reshape(xx.shape)\n",
        "\n",
        "    n_classes = len(np.unique(y))\n",
        "    contours = ax.contourf(xx, yy, Z, alpha=0.3,levels=np.arange(n_classes + 1)-0.5,\n",
        "                           cmap=cmap, zorder=1)\n",
        "\n",
        "    ax.set(xlim=xlim, ylim=ylim)"
      ],
      "metadata": {
        "id": "S4Ts-KwoeT63"
      },
      "execution_count": 109,
      "outputs": []
    },
    {
      "cell_type": "code",
      "source": [
        "visualize_classifier(NB, x, y)"
      ],
      "metadata": {
        "colab": {
          "base_uri": "https://localhost:8080/",
          "height": 248
        },
        "id": "SvxQbYiHxKsy",
        "outputId": "01c104a2-189c-49d3-9d0c-88acbed97706"
      },
      "execution_count": 110,
      "outputs": [
        {
          "output_type": "display_data",
          "data": {
            "text/plain": [
              "<Figure size 432x288 with 1 Axes>"
            ],
            "image/png": "[encoded data removed]"
          },
          "metadata": {
            "needs_background": "light"
          }
        }
      ]
    },
    {
      "cell_type": "markdown",
      "source": [
        "## **Implementing Naive Bayes from sklearn**"
      ],
      "metadata": {
        "id": "K1jGmi6bdZkJ"
      }
    },
    {
      "cell_type": "code",
      "source": [
        "from sklearn.naive_bayes import GaussianNB"
      ],
      "metadata": {
        "id": "bq4ehA8dd1k9"
      },
      "execution_count": 111,
      "outputs": []
    },
    {
      "cell_type": "code",
      "source": [
        "modelNB = GaussianNB(priors = None)\n",
        "modelNB.fit(x_train,y_train)\n",
        "y_pred = modelNB.predict(x_test)\n",
        "accuracy = metrics.accuracy_score(y_test, y_pred)\n",
        "accuracy"
      ],
      "metadata": {
        "colab": {
          "base_uri": "https://localhost:8080/"
        },
        "id": "tpjJ6Z3pd9FQ",
        "outputId": "2c8e46fa-c016-496b-dd1c-6cc22db0990a"
      },
      "execution_count": 112,
      "outputs": [
        {
          "output_type": "execute_result",
          "data": {
            "text/plain": [
              "0.9736842105263158"
            ]
          },
          "metadata": {},
          "execution_count": 112
        }
      ]
    },
    {
      "cell_type": "code",
      "source": [
        "visualize_classifier(modelNB, x, y)"
      ],
      "metadata": {
        "colab": {
          "base_uri": "https://localhost:8080/",
          "height": 248
        },
        "id": "Sl9bemnfeMXP",
        "outputId": "2e9e9e81-2145-4b30-dafd-d56061c1f698"
      },
      "execution_count": 113,
      "outputs": [
        {
          "output_type": "display_data",
          "data": {
            "text/plain": [
              "<Figure size 432x288 with 1 Axes>"
            ],
            "image/png": "[encoded data removed]"
          },
          "metadata": {
            "needs_background": "light"
          }
        }
      ]
    },
    {
      "cell_type": "markdown",
      "source": [
        "## **Reference**\n",
        "\n",
        "* Sicotte, X. B. (2018, June 22). Xavier Bourret Sicotte. Gaussian Naive Bayes Classifier: Iris data set - Data Blog. Retrieved January 24, 2023, from `https://xavierbourretsicotte.github.io/Naive_Bayes_Classifier.html#Miscellaneous` "
      ],
      "metadata": {
        "id": "4VXGPrDsejdQ"
      }
    },
    {
      "cell_type": "code",
      "source": [
        "%%shell\n",
        "jupyter nbconvert --to html ML_Algorithms_Naive_Bayes.ipynb"
      ],
      "metadata": {
        "colab": {
          "base_uri": "https://localhost:8080/"
        },
        "id": "JV1cUb8teZPK",
        "outputId": "45de226a-f3e3-447e-aba2-74a7a97662eb"
      },
      "execution_count": 114,
      "outputs": [
        {
          "output_type": "stream",
          "name": "stdout",
          "text": [
            "[NbConvertApp] Converting notebook ML_Algorithms_Naive_Bayes.ipynb to html\n",
            "[NbConvertApp] Writing 326837 bytes to ML_Algorithms_Naive_Bayes.html\n"
          ]
        },
        {
          "output_type": "execute_result",
          "data": {
            "text/plain": []
          },
          "metadata": {},
          "execution_count": 114
        }
      ]
    }
  ]
}