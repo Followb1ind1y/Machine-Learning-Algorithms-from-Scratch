{
  "cells": [
    {
      "cell_type": "markdown",
      "metadata": {
        "colab_type": "text",
        "id": "view-in-github"
      },
      "source": [
        "<a href=\"https://colab.research.google.com/github/Followb1ind1y/Machine_Learning_Algorithms/blob/main/ML_Algorithms_Decision_Tree.ipynb\" target=\"_parent\"><img src=\"https://colab.research.google.com/assets/colab-badge.svg\" alt=\"Open In Colab\"/></a>"
      ]
    },
    {
      "cell_type": "markdown",
      "metadata": {
        "id": "6NwsInh6N_Wb"
      },
      "source": [
        "# **Machine Learning Algorithms: Decision Tree**"
      ]
    },
    {
      "cell_type": "markdown",
      "metadata": {
        "id": "z5FYgIx0Of2O"
      },
      "source": [
        "## **Decision Tree Basics**\n",
        "\n",
        "A **Decision Tree** is a non-parametric **supervised learning** algorithm. A tree has many analogies in real life, and turns out that it has influenced a wide area of machine learning, covering both **classification and regression**. Decision tree learning employs a **divide and conquer strategy** by conducting a **greedy search** to identify the optimal split points within a tree. This process of splitting is then repeated in a top-down, recursive manner until all, or the majority of records have been classified under specific class labels.\n",
        "\n",
        "**Decision Tree consists of:**\n",
        "\n",
        "* **Nodes :** Test for the value of a certain attribute.\n",
        "* **Edges/ Branch :** Correspond to the outcome of a test and connect to the next node or leaf.\n",
        "* **Leaf nodes :** Terminal nodes that predict the outcome (represent class labels or class distribution)."
      ]
    },
    {
      "cell_type": "markdown",
      "metadata": {
        "id": "BjRA2XPGh7FF"
      },
      "source": [
        "## **Splitting Criteria**"
      ]
    },
    {
      "cell_type": "markdown",
      "metadata": {
        "id": "hNnAP5bohXJo"
      },
      "source": [
        "### **Reduction in Variance**\n",
        "\n",
        "**Reduction in Variance** is a method for splitting the node used when the target variable is **continuous**, i.e., **regression problems**. It is so-called because it uses variance as a measure for deciding the feature on which node is split into child nodes.\n",
        "\n",
        "$$\\mathrm{Variance} = \\frac{\\sum(X-\\mu)^{2}}{N}$$\n",
        "\n",
        "Variance is used for calculating the homogeneity of a node. If a node is entirely homogeneous, then the variance is zero."
      ]
    },
    {
      "cell_type": "markdown",
      "metadata": {
        "id": "ucfe5kYBdXtF"
      },
      "source": [
        "### **Sum of Squared Error (SSE)**\n",
        "\n",
        "The **Sum of Squared Error** is the most widely used splitting metric for **regression**. Suppose you want to divide the data set $S$ into two groups of $S_{1}$ and $S_{2}$, where the selection of $S_{1}$ and $S_{2}$ needs to minimize the sum of squared errors:\n",
        "\n",
        "$$\\mathrm{SSE} = \\sum_{i \\in S_{1}}(y_{i}-ȳ_{1})^{2}+\\sum_{i \\in S_{2}}(y_{i}-ȳ_{2})^{2}$$\n",
        "\n",
        "The way regression tree grows is to automatically decide on the splitting variables and split points that can **maximize SSE reduction**. Since this process is essentially a recursive segmentation, this approach is also called **recursive partitioning**."
      ]
    },
    {
      "cell_type": "markdown",
      "metadata": {
        "id": "YDshRQDgaCRk"
      },
      "source": [
        "### **Information Gain (IG)**\n",
        "\n",
        "**Information Gain** is used for splitting the nodes when the target variable is categorical. It works on the concept of the entropy and is given by:\n",
        "\n",
        "$$\\mathrm{Information \\ Gain} = 1 - \\mathrm{Entroy}$$\n",
        "\n",
        "where $\\mathrm{Entropy}$ is a measure of the degree of disorder which is defined as:\n",
        "\n",
        "$$\\mathrm{Entroy} = -\\sum_{i}^{n}p_{i}\\log_{2}p_{i}$$\n",
        "\n",
        "$p_{i}$ is the probability of class $i$ and the interval of entropy is $[0,1]$. For a two-class problem:\n",
        "\n",
        "$$\\mathrm{Entroy} = -p\\log_{2}p-(1-p)\\log_{2}(1-p)$$\n",
        "\n",
        "**Lower the value of entropy, higher is the purity of the node**. The entropy of a homogeneous node is zero. Since we subtract entropy from 1, the **Information Gain is higher for the purer nodes** with a maximum value of 1."
      ]
    },
    {
      "cell_type": "markdown",
      "metadata": {
        "id": "R61bs8WLQFQs"
      },
      "source": [
        "### **Gini Impurity**\n",
        "\n",
        "**Gini Impurity** is a measure of non-homogeneity. It is widely used in classification tree. **Gini** is the probability of correctly labeling a randomly chosen element if it was randomly labeled according to the distribution of labels in the node. The formula for Gini is:\n",
        "\n",
        "$$\\mathrm{Gini} = \\sum_{i}p_{i}^{2}$$\n",
        "\n",
        "\n",
        "And **Gini Impurity** is defined as:\n",
        "\n",
        "$$\\mathrm{Gini \\ Impurity}(D) = 1 - \\mathrm{Gini} = 1 - \\sum_{i}p_{i}^{2} = \\sum_{i}p_{i}(1-p_{i})$$\n",
        "\n",
        "where $p_{i}$ is the probability of class $i$ and the interval of Gini is $[0,0.5]$. For a two-class problem, the Gini impurity for a given node is:\n",
        "\n",
        "$$p_{1}(1-p_{1}) + p_{2}(1-p_{2})$$\n",
        "\n",
        "It is easy to see that when the sample set is **pure**, one of the probability is 0 and the Gini score is the **smallest**. Conversely, when $p_{1} = p_{2} = 0.5$ the Gini score is the **largest**, in which case the purity of the node is the smallest."
      ]
    },
    {
      "cell_type": "markdown",
      "metadata": {
        "id": "gwToOqrFvKVt"
      },
      "source": [
        "## **Steps in Decision Tree Algorithm**\n",
        "\n",
        "1. Begins with the original set $S$ as the root node.\n",
        "2. On each iteration of the algorithm, it iterates through the attributes of the set $S$ and calculates **Gini Impurity** of all the attributes.\n",
        "3. Choose the split that generates the smallest Gini Impurity among all the attributes as a split. \n",
        "4. The set $S$ is then split by the selected attribute to produce a subset of the data.\n",
        "5. The algorithm continues recurring on each subset, repeat the process until at least one of the conditions set by hyperparameters of the algorithm is not fulfilled or the subset is pure."
      ]
    },
    {
      "cell_type": "markdown",
      "metadata": {
        "id": "OHpBB2bvftR5"
      },
      "source": [
        "## **Tree Pruning**\n",
        "\n",
        "**Pruning** is the process that reduces the size of decision trees. It **reduces the risk of overfitting** by limiting the size of the tree or removing sections of the tree that provide little power.\n",
        "\n",
        "### **Limit the Size**\n",
        "We can limit the tree size by setting some parameters.\n",
        "\n",
        "* **Minimum sample size at each node**: Defining the minimum sample size at the node helps to prevent the leaf nodes having only one sample.\n",
        "* **Maximum depth of the tree**: If the tree grows too deep, the model tends to over-fit.\n",
        "* **Maximum number of terminal nodes**: Limit on the terminal nodes works the same as the limit on the depth of the tree.\n",
        "* **The number of variables considered for each split**: the algorithm randomly selects variables used in finding the optimal split point at each level. In general, the square root of the number of all variables works best, which is also the default setting for many functions."
      ]
    },
    {
      "cell_type": "markdown",
      "metadata": {
        "id": "V3YSXv8xgjhD"
      },
      "source": [
        "### **Remove Branches**\n",
        "\n",
        "Another way is to first let the tree grow **as much as possible** and then go back to remove insignificant branches. The process reduces the depth of the tree. The idea is to overfit the training set and then correct using cross-validation.\n"
      ]
    },
    {
      "cell_type": "markdown",
      "metadata": {
        "id": "4JYZOiz3nV2T"
      },
      "source": [
        "**Cost/Complexity Penalty**\n",
        "\n",
        "In regression case, the idea is that the pruning minimizes the penalized error $\\mathrm{SSE}_{\\alpha}$ with a certain value of tuning parameter $\\alpha$.\n",
        "\n",
        "$$\\mathrm{SSE}_{\\alpha} = \\mathrm{SSE} + \\alpha \\cdot \\mathrm{complexity}$$\n",
        "\n",
        "Here complexity is a function of the number of leaves. For every given $\\alpha$, we want to find the tree that minimizes this penalized error."
      ]
    },
    {
      "cell_type": "markdown",
      "metadata": {
        "id": "Sx6ydBMaaOj7"
      },
      "source": [
        "## **Dataset Initialization**"
      ]
    },
    {
      "cell_type": "code",
      "execution_count": 17,
      "metadata": {
        "id": "S7sLHWUbOC83"
      },
      "outputs": [],
      "source": [
        "import numpy as np\n",
        "import matplotlib.pyplot as plt\n",
        "from sklearn.model_selection import train_test_split\n",
        "from sklearn import metrics\n",
        "%matplotlib inline"
      ]
    },
    {
      "cell_type": "code",
      "execution_count": 18,
      "metadata": {
        "id": "p5RO6IqdaR0u"
      },
      "outputs": [],
      "source": [
        "np.random.seed(0)\n",
        "\n",
        "# radius of the circle\n",
        "circle_r = 1\n",
        "\n",
        "# center of the circle (x, y)\n",
        "circle_x_1, circle_y_1 = 2, 3\n",
        "circle_x_2, circle_y_2 = 3, 1.5\n",
        "circle_x_3, circle_y_3 = 5, 2\n",
        "\n",
        "# random angle\n",
        "alpha_1 = 2 * np.math.pi * np.random.rand(50, 1) \n",
        "alpha_2 = 2 * np.math.pi * np.random.rand(50, 1) \n",
        "alpha_3 = 2 * np.math.pi * np.random.rand(50, 1) \n",
        "\n",
        "# random radius\n",
        "r_1 = circle_r * np.sqrt(np.random.rand(50, 1))\n",
        "r_2 = circle_r * np.sqrt(np.random.rand(50, 1))\n",
        "r_3 = circle_r * np.sqrt(np.random.rand(50, 1))\n",
        "\n",
        "# calculating coordinates\n",
        "x_1, y_1 = r_1 * np.cos(alpha_1) + circle_x_1, r_1 * np.sin(alpha_1) + circle_y_1\n",
        "x_2, y_2 = r_2 * np.cos(alpha_2) + circle_x_2, r_2 * np.sin(alpha_2) + circle_y_2\n",
        "x_3, y_3 = r_3 * np.cos(alpha_3) + circle_x_3, r_3 * np.sin(alpha_3) + circle_y_3"
      ]
    },
    {
      "cell_type": "code",
      "execution_count": 19,
      "metadata": {
        "id": "FFcE_GVxaWPH"
      },
      "outputs": [],
      "source": [
        "class_1, class_2, class_3 = np.concatenate((x_1, y_1), axis=1), np.concatenate((x_2, y_2), axis=1), np.concatenate((x_3, y_3), axis=1)\n",
        "zeros, ones, twos = np.zeros((50,1)), np.ones((50,1)), np.ones((50,1))*2\n",
        "x = np.concatenate((class_1, class_2, class_3), axis=0)\n",
        "y = np.concatenate((zeros, ones, twos), axis=0).ravel()"
      ]
    },
    {
      "cell_type": "code",
      "execution_count": 20,
      "metadata": {
        "colab": {
          "base_uri": "https://localhost:8080/",
          "height": 313
        },
        "id": "ONy-_avgaXvi",
        "outputId": "68a33445-66c0-4a30-ba25-0328b464d15b"
      },
      "outputs": [
        {
          "data": {
            "text/plain": [
              "Text(0, 0.5, 'Y')"
            ]
          },
          "execution_count": 20,
          "metadata": {},
          "output_type": "execute_result"
        },
        {
          "data": {
            "image/png": "[encoded data removed]",
            "text/plain": [
              "<Figure size 432x288 with 1 Axes>"
            ]
          },
          "metadata": {
            "needs_background": "light"
          },
          "output_type": "display_data"
        }
      ],
      "source": [
        "fig, ax = plt.subplots() \n",
        "ax.scatter(x[:,0][y==0], x[:,1][y==0], c='r')\n",
        "ax.scatter(x[:,0][y==1], x[:,1][y==1], c='b')\n",
        "ax.scatter(x[:,0][y==2], x[:,1][y==2], c='g')\n",
        "ax.set_title('Random Data for Decision Tree')\n",
        "ax.set_xlabel('X') \n",
        "ax.set_ylabel('Y')"
      ]
    },
    {
      "cell_type": "code",
      "execution_count": 21,
      "metadata": {
        "id": "IwY6anxvbbY3"
      },
      "outputs": [],
      "source": [
        "x_train, x_test, y_train, y_test = train_test_split(x, y)"
      ]
    },
    {
      "cell_type": "markdown",
      "metadata": {
        "id": "ApTmOSuNjRso"
      },
      "source": [
        "## **Implementing Decision Tree from scratch**"
      ]
    },
    {
      "cell_type": "code",
      "execution_count": 22,
      "metadata": {
        "id": "d7zpIl65o1A5"
      },
      "outputs": [],
      "source": [
        "class Node:\n",
        "    def __init__(self, gini_index, samples, samples_in_classes, predicted_class):\n",
        "        self.gini_index = gini_index\n",
        "        self.samples = samples\n",
        "        self.samples_in_classes = samples_in_classes\n",
        "        self.predicted_class = predicted_class\n",
        "        self.feature_index = 0\n",
        "        self.threshold = 0\n",
        "        self.left = None\n",
        "        self.right = None"
      ]
    },
    {
      "cell_type": "code",
      "execution_count": 23,
      "metadata": {
        "id": "EYHgG979jXJ_"
      },
      "outputs": [],
      "source": [
        "class DecisionTree:\n",
        "    def __init__(self, max_depth=5):\n",
        "        self.max_depth = max_depth\n",
        "    \n",
        "    def fit(self, x, y):\n",
        "        self.classes = len(set(y))\n",
        "        self.features = x.shape[1]\n",
        "        self.tree = self.grow_tree(x, y)\n",
        "    \n",
        "    def gini_function(self, y):\n",
        "        m = y.shape[0]\n",
        "        return 1 - sum((np.sum(y == c) / m)**2 for c in range(self.classes))\n",
        "    \n",
        "    def grow_tree(self, x, y, curr_depth=0):\n",
        "        samples_in_classes = [np.sum(y == i) for i in range(self.classes)]\n",
        "        predicted_class = np.argmax(samples_in_classes)\n",
        "        node = Node(\n",
        "            gini_index=self.gini_function(y),\n",
        "            samples=y.shape[0],\n",
        "            samples_in_classes=samples_in_classes,\n",
        "            predicted_class=predicted_class\n",
        "            )\n",
        "        \n",
        "        if curr_depth < self.max_depth:\n",
        "            idx, thr = self.best_split(x, y)\n",
        "            if idx is not None:\n",
        "                indices_left = x[:, idx] < thr\n",
        "                x_left, y_left = x[indices_left], y[indices_left]\n",
        "                x_right, y_right = x[~indices_left], y[~indices_left]\n",
        "                node.feature_index = idx\n",
        "                node.threshold = thr\n",
        "                node.left = self.grow_tree(x_left, y_left, curr_depth + 1)\n",
        "                node.right = self.grow_tree(x_right, y_right, curr_depth + 1)\n",
        "\n",
        "        return node\n",
        "    \n",
        "    def best_split(self, x, y):\n",
        "        m = y.shape[0]\n",
        "        if m <= 1:\n",
        "            return None, None\n",
        "\n",
        "        best_gini = self.gini_function(y)\n",
        "        best_idx, best_thr = None, None\n",
        "\n",
        "        for idx in range(self.features):\n",
        "            thresholds, classes = zip(*sorted(zip(x[:, idx], y)))\n",
        "            num_left = [0] * self.classes\n",
        "            num_right = [np.sum(y == c) for c in range(self.classes)]\n",
        "\n",
        "            for i in range(1, m): \n",
        "                c = int(classes[i - 1])\n",
        "                num_left[c] += 1\n",
        "                num_right[c] -= 1\n",
        "                gini_left = 1 - sum((num_left[x] / i) ** 2 for x in range(self.classes))\n",
        "                gini_right = 1 - sum((num_right[x] / (m - i)) ** 2 for x in range(self.classes))\n",
        "                gini = (i * gini_left + (m - i) * gini_right) / m\n",
        "\n",
        "                if gini < best_gini:\n",
        "                    best_gini = gini\n",
        "                    best_idx = idx\n",
        "                    best_thr = (thresholds[i] + thresholds[i - 1]) / 2  \n",
        "        \n",
        "        return best_idx, best_thr\n",
        "\n",
        "    def predict(self, x):\n",
        "        return np.array([self.predict_input(inputs) for inputs in x])\n",
        "\n",
        "    def predict_input(self, x):\n",
        "        node = self.tree\n",
        "        while(node.left):\n",
        "            if x[node.feature_index] < node.threshold:\n",
        "                node = node.left\n",
        "            else:\n",
        "                node = node.right\n",
        "        return node.predicted_class"
      ]
    },
    {
      "cell_type": "code",
      "execution_count": 24,
      "metadata": {
        "id": "ayFLVhoL0DBg"
      },
      "outputs": [],
      "source": [
        "decision_tree = DecisionTree(max_depth=5)\n",
        "decision_tree.fit(x_train, y_train)"
      ]
    },
    {
      "cell_type": "code",
      "execution_count": 25,
      "metadata": {
        "colab": {
          "base_uri": "https://localhost:8080/"
        },
        "id": "K-Pl0kn4070j",
        "outputId": "7e336909-de7e-44b8-c2a9-42ea6168f911"
      },
      "outputs": [
        {
          "data": {
            "text/plain": [
              "1.0"
            ]
          },
          "execution_count": 25,
          "metadata": {},
          "output_type": "execute_result"
        }
      ],
      "source": [
        "y_pred = decision_tree.predict(x_test)\n",
        "accuracy = metrics.accuracy_score(y_test, y_pred)\n",
        "accuracy"
      ]
    },
    {
      "cell_type": "code",
      "execution_count": 26,
      "metadata": {
        "id": "Eu9RjhBL9Ad7"
      },
      "outputs": [],
      "source": [
        "def print_tree(tree, index):\n",
        "    if(tree):\n",
        "        print(\"Depth:\", index, \"Samples:\", tree.samples, \"Gini:\", tree.gini_index, \n",
        "              \"Feature:\", tree.feature_index,\"Threshold:\", tree.threshold, \"Values:\", tree.samples_in_classes)\n",
        "        print_tree(tree.left, index+1)\n",
        "        print_tree(tree.right, index+1)"
      ]
    },
    {
      "cell_type": "code",
      "execution_count": 27,
      "metadata": {
        "colab": {
          "base_uri": "https://localhost:8080/"
        },
        "id": "asoDkKX5-tdI",
        "outputId": "7146ca13-3372-4103-8465-f9eaf3e6a191"
      },
      "outputs": [
        {
          "name": "stdout",
          "output_type": "stream",
          "text": [
            "Depth: 1 Samples: 112 Gini: 0.6662946428571428 Feature: 0 Threshold: 4.005242242727981 Values: [37, 39, 36]\n",
            "Depth: 2 Samples: 76 Gini: 0.4996537396121883 Feature: 1 Threshold: 2.459253885679738 Values: [37, 39, 0]\n",
            "Depth: 3 Samples: 44 Gini: 0.20144628099173545 Feature: 0 Threshold: 2.221649034534265 Values: [5, 39, 0]\n",
            "Depth: 4 Samples: 6 Gini: 0.2777777777777777 Feature: 1 Threshold: 1.9208774194151845 Values: [5, 1, 0]\n",
            "Depth: 5 Samples: 1 Gini: 0.0 Feature: 0 Threshold: 0 Values: [0, 1, 0]\n",
            "Depth: 5 Samples: 5 Gini: 0.0 Feature: 0 Threshold: 0 Values: [5, 0, 0]\n",
            "Depth: 4 Samples: 38 Gini: 0.0 Feature: 0 Threshold: 0 Values: [0, 38, 0]\n",
            "Depth: 3 Samples: 32 Gini: 0.0 Feature: 0 Threshold: 0 Values: [32, 0, 0]\n",
            "Depth: 2 Samples: 36 Gini: 0.0 Feature: 0 Threshold: 0 Values: [0, 0, 36]\n"
          ]
        }
      ],
      "source": [
        "print_tree(decision_tree.tree, 1)"
      ]
    },
    {
      "cell_type": "code",
      "execution_count": 28,
      "metadata": {
        "id": "oyZbEr9kXHJS"
      },
      "outputs": [],
      "source": [
        "def visualize_classifier(model, X, y, ax=None, cmap='rainbow'):\n",
        "    ax = ax or plt.gca()\n",
        "\n",
        "    ax.scatter(X[:, 0], X[:, 1], c=y, s=30, cmap=cmap,\n",
        "               clim=(y.min(), y.max()), zorder=3)\n",
        "    ax.axis('tight')\n",
        "    ax.axis('off')\n",
        "    xlim = ax.get_xlim()\n",
        "    ylim = ax.get_ylim()\n",
        "\n",
        "    model.fit(X, y)\n",
        "    xx, yy = np.meshgrid(np.linspace(*xlim, num=200),\n",
        "                         np.linspace(*ylim, num=200))\n",
        "    Z = model.predict(np.c_[xx.ravel(), yy.ravel()]).reshape(xx.shape)\n",
        "\n",
        "    n_classes = len(np.unique(y))\n",
        "    contours = ax.contourf(xx, yy, Z, alpha=0.3,levels=np.arange(n_classes + 1) - 0.5,\n",
        "                           cmap=cmap, zorder=1)\n",
        "\n",
        "    ax.set(xlim=xlim, ylim=ylim)"
      ]
    },
    {
      "cell_type": "code",
      "execution_count": 29,
      "metadata": {
        "colab": {
          "base_uri": "https://localhost:8080/",
          "height": 248
        },
        "id": "hqyGPU0yWhMO",
        "outputId": "6f057fbd-8db7-4372-f54a-769ea5ca5912"
      },
      "outputs": [
        {
          "data": {
            "image/png": "[encoded data removed]",
            "text/plain": [
              "<Figure size 432x288 with 1 Axes>"
            ]
          },
          "metadata": {
            "needs_background": "light"
          },
          "output_type": "display_data"
        }
      ],
      "source": [
        "visualize_classifier(DecisionTree(max_depth=5), x, y)"
      ]
    },
    {
      "cell_type": "markdown",
      "metadata": {
        "id": "NJ49Cv_Va_qI"
      },
      "source": [
        "## **Implementing Decision Tree from sklearn**"
      ]
    },
    {
      "cell_type": "markdown",
      "metadata": {
        "id": "PRjckpn0do5T"
      },
      "source": [
        "### **Classification Case**"
      ]
    },
    {
      "cell_type": "code",
      "execution_count": 30,
      "metadata": {
        "id": "PUB_axHTabWy"
      },
      "outputs": [],
      "source": [
        "from sklearn import tree"
      ]
    },
    {
      "cell_type": "code",
      "execution_count": 31,
      "metadata": {
        "colab": {
          "base_uri": "https://localhost:8080/"
        },
        "id": "XQp6NnoTblo0",
        "outputId": "42cfbaf8-c2c9-48a3-bc1e-a4f93a3878a5"
      },
      "outputs": [
        {
          "data": {
            "text/plain": [
              "1.0"
            ]
          },
          "execution_count": 31,
          "metadata": {},
          "output_type": "execute_result"
        }
      ],
      "source": [
        "clf = tree.DecisionTreeClassifier()\n",
        "clf = clf.fit(x_train, y_train)\n",
        "y_pred = clf.predict(x_test)\n",
        "accuracy = metrics.accuracy_score(y_test, y_pred)\n",
        "accuracy"
      ]
    },
    {
      "cell_type": "code",
      "execution_count": 32,
      "metadata": {
        "colab": {
          "base_uri": "https://localhost:8080/",
          "height": 409
        },
        "id": "WvW20MSub_hD",
        "outputId": "9805d49b-cdb6-440e-bb22-d438caa3a086"
      },
      "outputs": [
        {
          "data": {
            "text/plain": [
              "[Text(0.7142857142857143, 0.9, 'X[0] <= 4.005\\ngini = 0.666\\nsamples = 112\\nvalue = [37, 39, 36]'),\n",
              " Text(0.5714285714285714, 0.7, 'X[1] <= 2.459\\ngini = 0.5\\nsamples = 76\\nvalue = [37, 39, 0]'),\n",
              " Text(0.42857142857142855, 0.5, 'X[0] <= 2.222\\ngini = 0.201\\nsamples = 44\\nvalue = [5, 39, 0]'),\n",
              " Text(0.2857142857142857, 0.3, 'X[1] <= 1.921\\ngini = 0.278\\nsamples = 6\\nvalue = [5, 1, 0]'),\n",
              " Text(0.14285714285714285, 0.1, 'gini = 0.0\\nsamples = 1\\nvalue = [0, 1, 0]'),\n",
              " Text(0.42857142857142855, 0.1, 'gini = 0.0\\nsamples = 5\\nvalue = [5, 0, 0]'),\n",
              " Text(0.5714285714285714, 0.3, 'gini = 0.0\\nsamples = 38\\nvalue = [0, 38, 0]'),\n",
              " Text(0.7142857142857143, 0.5, 'gini = 0.0\\nsamples = 32\\nvalue = [32, 0, 0]'),\n",
              " Text(0.8571428571428571, 0.7, 'gini = 0.0\\nsamples = 36\\nvalue = [0, 0, 36]')]"
            ]
          },
          "execution_count": 32,
          "metadata": {},
          "output_type": "execute_result"
        },
        {
          "data": {
            "image/png": "[encoded data removed]",
            "text/plain": [
              "<Figure size 432x288 with 1 Axes>"
            ]
          },
          "metadata": {
            "needs_background": "light"
          },
          "output_type": "display_data"
        }
      ],
      "source": [
        "tree.plot_tree(clf)"
      ]
    },
    {
      "cell_type": "code",
      "execution_count": 33,
      "metadata": {
        "colab": {
          "base_uri": "https://localhost:8080/",
          "height": 248
        },
        "id": "7YUGZV9qWt7_",
        "outputId": "b6fe52d6-80bd-4d18-8703-efbc24271f9f"
      },
      "outputs": [
        {
          "data": {
            "image/png": "[encoded data removed]",
            "text/plain": [
              "<Figure size 432x288 with 1 Axes>"
            ]
          },
          "metadata": {
            "needs_background": "light"
          },
          "output_type": "display_data"
        }
      ],
      "source": [
        "visualize_classifier(tree.DecisionTreeClassifier(), x, y)"
      ]
    },
    {
      "cell_type": "markdown",
      "metadata": {
        "id": "a6faRKTQdyn1"
      },
      "source": [
        "### **Regression Case**"
      ]
    },
    {
      "cell_type": "code",
      "execution_count": 34,
      "metadata": {
        "id": "Ve8Pw_jTcP2h"
      },
      "outputs": [],
      "source": [
        "from sklearn.tree import DecisionTreeRegressor"
      ]
    },
    {
      "cell_type": "code",
      "execution_count": 35,
      "metadata": {
        "id": "Flg8E3tvd8kE"
      },
      "outputs": [],
      "source": [
        "# Create a random dataset\n",
        "rng = np.random.RandomState(1)\n",
        "X = np.sort(5 * rng.rand(80, 1), axis=0)\n",
        "y = np.sin(X).ravel()\n",
        "y[::5] += 3 * (0.5 - rng.rand(16))"
      ]
    },
    {
      "cell_type": "code",
      "execution_count": 36,
      "metadata": {
        "id": "EN5BWtSteYoe"
      },
      "outputs": [],
      "source": [
        "# Fit regression model\n",
        "regr_1 = DecisionTreeRegressor(max_depth=2)\n",
        "regr_2 = DecisionTreeRegressor(max_depth=5)\n",
        "regr_1.fit(X, y)\n",
        "regr_2.fit(X, y)\n",
        "\n",
        "# Predict\n",
        "X_test = np.arange(0.0, 5.0, 0.01)[:, np.newaxis]\n",
        "y_1 = regr_1.predict(X_test)\n",
        "y_2 = regr_2.predict(X_test)"
      ]
    },
    {
      "cell_type": "code",
      "execution_count": 37,
      "metadata": {
        "colab": {
          "base_uri": "https://localhost:8080/",
          "height": 295
        },
        "id": "mkD6uJQae_Fg",
        "outputId": "96f00642-cfa7-4532-8267-f989012cee56"
      },
      "outputs": [
        {
          "data": {
            "image/png": "[encoded data removed]",
            "text/plain": [
              "<Figure size 432x288 with 1 Axes>"
            ]
          },
          "metadata": {
            "needs_background": "light"
          },
          "output_type": "display_data"
        }
      ],
      "source": [
        "# Plot the results\n",
        "plt.figure()\n",
        "plt.scatter(X, y, s=20, edgecolor=\"black\", c=\"darkorange\", label=\"data\")\n",
        "plt.plot(X_test, y_1, color=\"cornflowerblue\", label=\"max_depth=2\", linewidth=2)\n",
        "plt.plot(X_test, y_2, color=\"yellowgreen\", label=\"max_depth=5\", linewidth=2)\n",
        "plt.xlabel(\"data\")\n",
        "plt.ylabel(\"target\")\n",
        "plt.title(\"Decision Tree Regression\")\n",
        "plt.legend()\n",
        "plt.show()"
      ]
    },
    {
      "attachments": {},
      "cell_type": "markdown",
      "metadata": {},
      "source": [
        "## **Reference**\n",
        "\n",
        "*  Jauregui, A. F. (2022, August 19). How to code decision tree in python from scratch. Ander Fernández. Retrieved January 23, 2023, from `https://anderfernandez.com/en/blog/code-decision-tree-python-from-scratch/` \n",
        "\n",
        "* Joachimvalente. (n.d.). Joachimvalente/decision-tree-CART: Simple implementation of CART algorithm to train decision trees. GitHub. Retrieved January 23, 2023, from `https://github.com/joachimvalente/decision-tree-cart` "
      ]
    },
    {
      "cell_type": "code",
      "execution_count": 38,
      "metadata": {
        "colab": {
          "base_uri": "https://localhost:8080/"
        },
        "id": "5JzQ9NWDfC8L",
        "outputId": "e87b32db-68de-476b-e8ac-a683603d789f"
      },
      "outputs": [
        {
          "name": "stdout",
          "output_type": "stream",
          "text": [
            "[NbConvertApp] Converting notebook ML_Algorithms_Decision_Tree.ipynb to html\n",
            "[NbConvertApp] Writing 461354 bytes to ML_Algorithms_Decision_Tree.html\n"
          ]
        },
        {
          "data": {
            "text/plain": []
          },
          "execution_count": 38,
          "metadata": {},
          "output_type": "execute_result"
        }
      ],
      "source": [
        "%%shell\n",
        "jupyter nbconvert --to html ML_Algorithms_Decision_Tree.ipynb"
      ]
    }
  ],
  "metadata": {
    "colab": {
      "authorship_tag": "ABX9TyPFhMpU/d+2Tnf6VWFPdmjS",
      "include_colab_link": true,
      "provenance": []
    },
    "kernelspec": {
      "display_name": "Python 3",
      "language": "python",
      "name": "python3"
    },
    "language_info": {
      "name": "python",
      "version": "3.8.2 (default, Dec 21 2020, 15:06:04) \n[Clang 12.0.0 (clang-1200.0.32.29)]"
    },
    "vscode": {
      "interpreter": {
        "hash": "31f2aee4e71d21fbe5cf8b01ff0e069b9275f58929596ceb00d14d90e3e16cd6"
      }
    }
  },
  "nbformat": 4,
  "nbformat_minor": 0
}
