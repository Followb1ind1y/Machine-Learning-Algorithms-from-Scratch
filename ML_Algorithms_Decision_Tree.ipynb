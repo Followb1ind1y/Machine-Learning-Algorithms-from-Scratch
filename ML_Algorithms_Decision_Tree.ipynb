{
  "nbformat": 4,
  "nbformat_minor": 0,
  "metadata": {
    "colab": {
      "provenance": [],
      "authorship_tag": "ABX9TyOliQM0npKsIVzQXED1WZoE",
      "include_colab_link": true
    },
    "kernelspec": {
      "name": "python3",
      "display_name": "Python 3"
    },
    "language_info": {
      "name": "python"
    }
  },
  "cells": [
    {
      "cell_type": "markdown",
      "metadata": {
        "id": "view-in-github",
        "colab_type": "text"
      },
      "source": [
        "<a href=\"https://colab.research.google.com/github/Followb1ind1y/Machine_Learning_Algorithms/blob/main/ML_Algorithms_Decision_Tree.ipynb\" target=\"_parent\"><img src=\"https://colab.research.google.com/assets/colab-badge.svg\" alt=\"Open In Colab\"/></a>"
      ]
    },
    {
      "cell_type": "markdown",
      "source": [
        "# **Machine Learning Algorithms: Decision Tree**"
      ],
      "metadata": {
        "id": "6NwsInh6N_Wb"
      }
    },
    {
      "cell_type": "markdown",
      "source": [
        "### **Decision Tree Basics**\n",
        "\n",
        "A **Decision Tree** is a non-parametric **supervised learning** algorithm. A tree has many analogies in real life, and turns out that it has influenced a wide area of machine learning, covering both **classification and regression**. Decision tree learning employs a **divide and conquer strategy** by conducting a **greedy search** to identify the optimal split points within a tree. This process of splitting is then repeated in a top-down, recursive manner until all, or the majority of records have been classified under specific class labels.\n",
        "\n",
        "**Decision Tree consists of:**\n",
        "\n",
        "* **Nodes :** Test for the value of a certain attribute.\n",
        "* **Edges/ Branch :** Correspond to the outcome of a test and connect to the next node or leaf.\n",
        "* **Leaf nodes :** Terminal nodes that predict the outcome (represent class labels or class distribution)."
      ],
      "metadata": {
        "id": "z5FYgIx0Of2O"
      }
    },
    {
      "cell_type": "markdown",
      "source": [
        "### **Classification and Regression Trees (CART)**\n",
        "\n",
        "**Classification and regression trees** are machine-learning methods for constructing prediction models from data. The models are obtained by recursively partitioning the data space and fitting a simple prediction model within each partition. As a result, the partitioning can be represented graphically as a decision tree. Classification trees are designed for **dependent variables that take a finite number of unordered values**, with prediction error measured in terms of **misclassification cost**. Regression trees are for **dependent variables that take continuous or ordered discrete values**, with prediction error typically measured by the **squared difference** between the observed and predicted values. \n",
        "\n",
        "Consider the data would be:\n",
        "\n",
        "$$\n",
        "\\{(x_{i},y_{i})\\}_{i=1}^{n} \\ \\ \\ \\ \\ \\ \\ \\ \\ \\ \\ \\ \\ \\ \\ \\ \n",
        "x = \\begin{bmatrix}\n",
        "x_{1},x_{2},...,x_{n}    \\\\\n",
        "\\end{bmatrix}_{\\ d\\times n}\\ \\ \\ \\ \\ \\ \\ \\ \\ \\ \\ \\ \\ \\ \\ \\ \n",
        "y = \\begin{bmatrix}\n",
        "y_{1}    \\\\\n",
        "y_{2}    \\\\\n",
        "...      \\\\\n",
        "y_{n}    \\\\\n",
        "\\end{bmatrix}_{\\ n\\times 1}\n",
        "$$\n",
        "\n",
        "Define:\n",
        "* $x_{j:}\\to j'th$ row and all columns. (each row of $x$ matrix is a feature)\n",
        "* $x_{:i}\\to$ one column and all rows. (each column of $x$ matrix is a data sample)\n",
        "\n",
        "At each split we have two regions.\n",
        "\n",
        "$$\n",
        "R_{1}(j,s) = \\{ x_{:i}|x_{j:}\\leq s \\} \\\\\n",
        "R_{2}(j,s) = \\{ x_{:i}|x_{j:}> s \\} \\\\\n",
        "$$\n",
        "\n",
        "We need to decide about $j$ and $s$. To decide about these parameters we can define an objective function."
      ],
      "metadata": {
        "id": "R61bs8WLQFQs"
      }
    },
    {
      "cell_type": "code",
      "source": [],
      "metadata": {
        "id": "S7sLHWUbOC83"
      },
      "execution_count": null,
      "outputs": []
    }
  ]
}